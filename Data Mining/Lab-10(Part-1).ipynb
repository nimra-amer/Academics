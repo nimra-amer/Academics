{
  "nbformat": 4,
  "nbformat_minor": 0,
  "metadata": {
    "colab": {
      "provenance": []
    },
    "kernelspec": {
      "name": "python3",
      "display_name": "Python 3"
    },
    "language_info": {
      "name": "python"
    }
  },
  "cells": [
    {
      "cell_type": "code",
      "execution_count": 2,
      "metadata": {
        "id": "vF6dQUcFVJF6"
      },
      "outputs": [],
      "source": [
        "#Importing Libraries\n",
        "import numpy as np"
      ]
    },
    {
      "cell_type": "code",
      "source": [
        "def predict_equation(w , x , b):\n",
        "  result = np.dot(w,x) + b\n",
        "  if result >= 0:\n",
        "    return 1\n",
        "  else:\n",
        "    return 0\n",
        "\n",
        "def AND(x):  #Implementtaion of \"AND\" Gate\n",
        "  w = np.array([2,2])\n",
        "  b = -2.5\n",
        "  y_hat = predict_equation(w,x,b)\n",
        "  return y_hat\n",
        "\n",
        "def OR(x):   #Implementation of \"OR\" Gate\n",
        "  w = np.array([3,3])\n",
        "  b = -2\n",
        "  y_hat = predict_equation(w,x,b)\n",
        "  return y_hat\n",
        "\n",
        "input1 = np.array([0,0])\n",
        "input2 = np.array([0,1])\n",
        "input3 = np.array([1,0])\n",
        "input4 = np.array([1,1])\n",
        "\n",
        "#Results\n",
        "print(\"Results of AND\")\n",
        "print(\"Input 1 (0,0) = \" , AND(input1))\n",
        "print(\"Input 1 (0,1) = \" , AND(input2))\n",
        "print(\"Input 1 (1,0) = \" , AND(input3))\n",
        "print(\"Input 1 (1,1) = \" , AND(input4))\n",
        "\n",
        "print(\"\\n\")\n",
        "\n",
        "print(\"Results of OR\")\n",
        "print(\"Input 1 (0,0) = \" , OR(input1))\n",
        "print(\"Input 1 (0,1) = \" , OR(input2))\n",
        "print(\"Input 1 (1,0) = \" , OR(input3))\n",
        "print(\"Input 1 (1,1) = \" , OR(input4))"
      ],
      "metadata": {
        "colab": {
          "base_uri": "https://localhost:8080/"
        },
        "id": "4q2S0J7KYPjm",
        "outputId": "cbdff321-286a-4f95-c0f3-7f9406188fe8"
      },
      "execution_count": 13,
      "outputs": [
        {
          "output_type": "stream",
          "name": "stdout",
          "text": [
            "Results of AND\n",
            "Input 1 (0,0) =  0\n",
            "Input 1 (0,1) =  0\n",
            "Input 1 (1,0) =  0\n",
            "Input 1 (1,1) =  1\n",
            "\n",
            "\n",
            "Results of OR\n",
            "Input 1 (0,0) =  0\n",
            "Input 1 (0,1) =  1\n",
            "Input 1 (1,0) =  1\n",
            "Input 1 (1,1) =  1\n"
          ]
        }
      ]
    }
  ]
}