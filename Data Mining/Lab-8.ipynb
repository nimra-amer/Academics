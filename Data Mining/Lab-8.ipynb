{
  "cells": [
    {
      "cell_type": "code",
      "execution_count": 4,
      "metadata": {
        "colab": {
          "base_uri": "https://localhost:8080/"
        },
        "id": "ufV6uqXVUIpE",
        "outputId": "627e5cdf-0a2b-4cba-a34b-46da9335c23b"
      },
      "outputs": [
        {
          "name": "stdout",
          "output_type": "stream",
          "text": [
            "Collecting apyori\n",
            "  Downloading apyori-1.1.2.tar.gz (8.6 kB)\n",
            "  Preparing metadata (setup.py): started\n",
            "  Preparing metadata (setup.py): finished with status 'done'\n",
            "Building wheels for collected packages: apyori\n",
            "  Building wheel for apyori (setup.py): started\n",
            "  Building wheel for apyori (setup.py): finished with status 'done'\n",
            "  Created wheel for apyori: filename=apyori-1.1.2-py3-none-any.whl size=5974 sha256=d8d2c85de71598fcca096fa77a47c74d48c9a23028ab5728430ed72b2ba32f08\n",
            "  Stored in directory: c:\\users\\nimra amer\\appdata\\local\\pip\\cache\\wheels\\c4\\1a\\79\\20f55c470a50bb3702a8cb7c94d8ada15573538c7f4baebe2d\n",
            "Successfully built apyori\n",
            "Installing collected packages: apyori\n",
            "Successfully installed apyori-1.1.2\n",
            "Note: you may need to restart the kernel to use updated packages.\n"
          ]
        },
        {
          "name": "stderr",
          "output_type": "stream",
          "text": [
            "  WARNING: The script apyori-run.exe is installed in 'c:\\Users\\Nimra Amer\\AppData\\Local\\Programs\\Python\\Python310\\Scripts' which is not on PATH.\n",
            "  Consider adding this directory to PATH or, if you prefer to suppress this warning, use --no-warn-script-location.\n",
            "\n",
            "[notice] A new release of pip available: 22.2.2 -> 24.0\n",
            "[notice] To update, run: python.exe -m pip install --upgrade pip\n"
          ]
        }
      ],
      "source": [
        "pip install apyori"
      ]
    },
    {
      "cell_type": "code",
      "execution_count": 5,
      "metadata": {
        "id": "VzRegpLkUdlL"
      },
      "outputs": [],
      "source": [
        "import pandas as pd\n",
        "import numpy as np\n",
        "from apyori import apriori\n",
        "from sklearn.preprocessing import LabelEncoder , MinMaxScaler"
      ]
    },
    {
      "cell_type": "code",
      "execution_count": 6,
      "metadata": {
        "colab": {
          "base_uri": "https://localhost:8080/",
          "height": 206
        },
        "id": "stfaabE6V72M",
        "outputId": "ea1b635d-650a-41b5-82ec-180914f9840e"
      },
      "outputs": [
        {
          "data": {
            "text/html": [
              "<div>\n",
              "<style scoped>\n",
              "    .dataframe tbody tr th:only-of-type {\n",
              "        vertical-align: middle;\n",
              "    }\n",
              "\n",
              "    .dataframe tbody tr th {\n",
              "        vertical-align: top;\n",
              "    }\n",
              "\n",
              "    .dataframe thead th {\n",
              "        text-align: right;\n",
              "    }\n",
              "</style>\n",
              "<table border=\"1\" class=\"dataframe\">\n",
              "  <thead>\n",
              "    <tr style=\"text-align: right;\">\n",
              "      <th></th>\n",
              "      <th>Age</th>\n",
              "      <th>WorkClass</th>\n",
              "      <th>fnlwgt</th>\n",
              "      <th>education</th>\n",
              "      <th>education-num</th>\n",
              "      <th>marital-status</th>\n",
              "      <th>occupation</th>\n",
              "      <th>relationship</th>\n",
              "      <th>race</th>\n",
              "      <th>Gender</th>\n",
              "      <th>capital-gain</th>\n",
              "      <th>capital-loss</th>\n",
              "      <th>hours-per-week</th>\n",
              "      <th>native-country</th>\n",
              "      <th>Income</th>\n",
              "    </tr>\n",
              "  </thead>\n",
              "  <tbody>\n",
              "    <tr>\n",
              "      <th>0</th>\n",
              "      <td>39</td>\n",
              "      <td>State-gov</td>\n",
              "      <td>77516</td>\n",
              "      <td>Bachelors</td>\n",
              "      <td>13</td>\n",
              "      <td>Never-married</td>\n",
              "      <td>Adm-clerical</td>\n",
              "      <td>Not-in-family</td>\n",
              "      <td>White</td>\n",
              "      <td>Male</td>\n",
              "      <td>2174</td>\n",
              "      <td>0</td>\n",
              "      <td>40</td>\n",
              "      <td>United-States</td>\n",
              "      <td>&lt;=50K</td>\n",
              "    </tr>\n",
              "    <tr>\n",
              "      <th>1</th>\n",
              "      <td>50</td>\n",
              "      <td>Self-emp-not-inc</td>\n",
              "      <td>83311</td>\n",
              "      <td>Bachelors</td>\n",
              "      <td>13</td>\n",
              "      <td>Married-civ-spouse</td>\n",
              "      <td>Exec-managerial</td>\n",
              "      <td>Husband</td>\n",
              "      <td>White</td>\n",
              "      <td>Male</td>\n",
              "      <td>0</td>\n",
              "      <td>0</td>\n",
              "      <td>13</td>\n",
              "      <td>United-States</td>\n",
              "      <td>&lt;=50K</td>\n",
              "    </tr>\n",
              "    <tr>\n",
              "      <th>2</th>\n",
              "      <td>38</td>\n",
              "      <td>Private</td>\n",
              "      <td>215646</td>\n",
              "      <td>HS-grad</td>\n",
              "      <td>9</td>\n",
              "      <td>Divorced</td>\n",
              "      <td>Handlers-cleaners</td>\n",
              "      <td>Not-in-family</td>\n",
              "      <td>White</td>\n",
              "      <td>Male</td>\n",
              "      <td>0</td>\n",
              "      <td>0</td>\n",
              "      <td>40</td>\n",
              "      <td>United-States</td>\n",
              "      <td>&lt;=50K</td>\n",
              "    </tr>\n",
              "    <tr>\n",
              "      <th>3</th>\n",
              "      <td>53</td>\n",
              "      <td>Private</td>\n",
              "      <td>234721</td>\n",
              "      <td>11th</td>\n",
              "      <td>7</td>\n",
              "      <td>Married-civ-spouse</td>\n",
              "      <td>Handlers-cleaners</td>\n",
              "      <td>Husband</td>\n",
              "      <td>Black</td>\n",
              "      <td>Male</td>\n",
              "      <td>0</td>\n",
              "      <td>0</td>\n",
              "      <td>40</td>\n",
              "      <td>United-States</td>\n",
              "      <td>&lt;=50K</td>\n",
              "    </tr>\n",
              "    <tr>\n",
              "      <th>4</th>\n",
              "      <td>28</td>\n",
              "      <td>Private</td>\n",
              "      <td>338409</td>\n",
              "      <td>Bachelors</td>\n",
              "      <td>13</td>\n",
              "      <td>Married-civ-spouse</td>\n",
              "      <td>Prof-specialty</td>\n",
              "      <td>Wife</td>\n",
              "      <td>Black</td>\n",
              "      <td>Female</td>\n",
              "      <td>0</td>\n",
              "      <td>0</td>\n",
              "      <td>40</td>\n",
              "      <td>Cuba</td>\n",
              "      <td>&lt;=50K</td>\n",
              "    </tr>\n",
              "  </tbody>\n",
              "</table>\n",
              "</div>"
            ],
            "text/plain": [
              "   Age          WorkClass  fnlwgt   education  education-num  \\\n",
              "0   39          State-gov   77516   Bachelors             13   \n",
              "1   50   Self-emp-not-inc   83311   Bachelors             13   \n",
              "2   38            Private  215646     HS-grad              9   \n",
              "3   53            Private  234721        11th              7   \n",
              "4   28            Private  338409   Bachelors             13   \n",
              "\n",
              "        marital-status          occupation    relationship    race   Gender  \\\n",
              "0        Never-married        Adm-clerical   Not-in-family   White     Male   \n",
              "1   Married-civ-spouse     Exec-managerial         Husband   White     Male   \n",
              "2             Divorced   Handlers-cleaners   Not-in-family   White     Male   \n",
              "3   Married-civ-spouse   Handlers-cleaners         Husband   Black     Male   \n",
              "4   Married-civ-spouse      Prof-specialty            Wife   Black   Female   \n",
              "\n",
              "   capital-gain  capital-loss  hours-per-week  native-country  Income  \n",
              "0          2174             0              40   United-States   <=50K  \n",
              "1             0             0              13   United-States   <=50K  \n",
              "2             0             0              40   United-States   <=50K  \n",
              "3             0             0              40   United-States   <=50K  \n",
              "4             0             0              40            Cuba   <=50K  "
            ]
          },
          "execution_count": 6,
          "metadata": {},
          "output_type": "execute_result"
        }
      ],
      "source": [
        "#Loading the dataset\n",
        "data = pd.read_csv(\"DATA.csv\" , names = ['Age' , 'WorkClass' , 'fnlwgt' , 'education' , 'education-num' , 'marital-status' , 'occupation' , 'relationship' , 'race' , 'Gender' , 'capital-gain' , 'capital-loss' , 'hours-per-week' , 'native-country' , 'Income'])\n",
        "data.head()"
      ]
    },
    {
      "cell_type": "markdown",
      "metadata": {
        "id": "rITIi4MvXDCj"
      },
      "source": [
        "**Pre-Processing**"
      ]
    },
    {
      "cell_type": "code",
      "execution_count": 7,
      "metadata": {
        "colab": {
          "base_uri": "https://localhost:8080/"
        },
        "id": "we57OStXXBHK",
        "outputId": "8f3a87bc-a5c7-4770-b2d7-6431134dc5cd"
      },
      "outputs": [
        {
          "name": "stdout",
          "output_type": "stream",
          "text": [
            "Age               0\n",
            "WorkClass         0\n",
            "fnlwgt            0\n",
            "education         0\n",
            "education-num     0\n",
            "marital-status    0\n",
            "occupation        0\n",
            "relationship      0\n",
            "race              0\n",
            "Gender            0\n",
            "capital-gain      0\n",
            "capital-loss      0\n",
            "hours-per-week    0\n",
            "native-country    0\n",
            "Income            0\n",
            "dtype: int64\n"
          ]
        }
      ],
      "source": [
        "#looking for null values\n",
        "print(data.isna().sum())"
      ]
    },
    {
      "cell_type": "code",
      "execution_count": 8,
      "metadata": {
        "colab": {
          "base_uri": "https://localhost:8080/"
        },
        "id": "ECk-8vYQZRfE",
        "outputId": "de7c9ff7-d7e6-4a6a-ade4-7da838ecf13b"
      },
      "outputs": [
        {
          "data": {
            "text/plain": [
              "array([' State-gov', ' Self-emp-not-inc', ' Private', ' Federal-gov',\n",
              "       ' Local-gov', ' Self-emp-inc', ' Without-pay', ' Never-worked'],\n",
              "      dtype=object)"
            ]
          },
          "execution_count": 8,
          "metadata": {},
          "output_type": "execute_result"
        }
      ],
      "source": [
        "mask = data['WorkClass'] == ' ?'\n",
        "data = data[~mask]\n",
        "data['WorkClass'].unique()"
      ]
    },
    {
      "cell_type": "code",
      "execution_count": 9,
      "metadata": {
        "colab": {
          "base_uri": "https://localhost:8080/"
        },
        "id": "BQYL-p8XXRYy",
        "outputId": "173c9292-b283-4c03-d8cf-b32cd2736088"
      },
      "outputs": [
        {
          "data": {
            "text/plain": [
              "Age                int64\n",
              "WorkClass         object\n",
              "fnlwgt             int64\n",
              "education         object\n",
              "education-num      int64\n",
              "marital-status    object\n",
              "occupation        object\n",
              "relationship      object\n",
              "race              object\n",
              "Gender            object\n",
              "capital-gain       int64\n",
              "capital-loss       int64\n",
              "hours-per-week     int64\n",
              "native-country    object\n",
              "Income            object\n",
              "dtype: object"
            ]
          },
          "execution_count": 9,
          "metadata": {},
          "output_type": "execute_result"
        }
      ],
      "source": [
        "data.dtypes"
      ]
    },
    {
      "cell_type": "code",
      "execution_count": 10,
      "metadata": {
        "colab": {
          "base_uri": "https://localhost:8080/"
        },
        "id": "H9uMwvCedi4t",
        "outputId": "5741e69d-ddef-4342-9c50-664638ba66fc"
      },
      "outputs": [
        {
          "data": {
            "text/plain": [
              "15"
            ]
          },
          "execution_count": 10,
          "metadata": {},
          "output_type": "execute_result"
        }
      ],
      "source": [
        "len(data.columns)"
      ]
    },
    {
      "cell_type": "markdown",
      "metadata": {
        "id": "e8g_2gHTcgqU"
      },
      "source": [
        "**Association Rule Mining**"
      ]
    },
    {
      "cell_type": "code",
      "execution_count": 11,
      "metadata": {
        "id": "OYOSc2PFcjTs"
      },
      "outputs": [],
      "source": [
        "records = []\n",
        "for i in range(0, 100):\n",
        "    records.append([str(data.values[i,u]) for u in range(0, 15)])"
      ]
    },
    {
      "cell_type": "markdown",
      "metadata": {
        "id": "UBAog3e8eZlz"
      },
      "source": [
        "Part-a : Use confidence as interestingness measure of an association rule. Rank the top 10 association\n",
        "rules for at-least the three different combinations of support and confidence. Explain the rules and\n",
        "why you consider it interesting and useful. Furthermore, also give recommendations based on the\n",
        "discovered rules that might help the user."
      ]
    },
    {
      "cell_type": "code",
      "execution_count": 12,
      "metadata": {
        "id": "GNkXD8v3egMU"
      },
      "outputs": [],
      "source": [
        "rules = apriori(records, min_support=0.34, min_confidence=0.20,  min_length = 6) #for 20% confidence (Combination - 1)\n",
        "\n",
        "results = list(rules)\n",
        "results_list = []\n",
        "for i in range(0, len(results)):\n",
        "    results_list.append('RULE:/t' + str(results[i][0]) + '\\nSUPPORT:\\t' + str(results[i][1]))"
      ]
    },
    {
      "cell_type": "code",
      "execution_count": 13,
      "metadata": {
        "colab": {
          "base_uri": "https://localhost:8080/"
        },
        "id": "E4Yg21hGi3qt",
        "outputId": "a89081b0-ba68-4f4f-8411-4d9225e1309a"
      },
      "outputs": [
        {
          "data": {
            "text/plain": [
              "[\"RULE:/tfrozenset({'40'})\\nSUPPORT:\\t0.53\",\n",
              " \"RULE:/tfrozenset({'40', '0'})\\nSUPPORT:\\t0.53\",\n",
              " \"RULE:/tfrozenset({'40', '0', ' United-States'})\\nSUPPORT:\\t0.44\",\n",
              " \"RULE:/tfrozenset({'40', '0', ' United-States', ' <=50K'})\\nSUPPORT:\\t0.34\",\n",
              " \"RULE:/tfrozenset({'40', '0', ' <=50K'})\\nSUPPORT:\\t0.41\",\n",
              " \"RULE:/tfrozenset({'40', ' United-States'})\\nSUPPORT:\\t0.44\",\n",
              " \"RULE:/tfrozenset({'40', ' United-States', ' <=50K'})\\nSUPPORT:\\t0.34\",\n",
              " \"RULE:/tfrozenset({'40', ' Male'})\\nSUPPORT:\\t0.39\",\n",
              " \"RULE:/tfrozenset({'40', ' Male', '0'})\\nSUPPORT:\\t0.39\",\n",
              " \"RULE:/tfrozenset({'40', ' <=50K'})\\nSUPPORT:\\t0.41\"]"
            ]
          },
          "execution_count": 13,
          "metadata": {},
          "output_type": "execute_result"
        }
      ],
      "source": [
        "results_list.sort(reverse = True)\n",
        "results_list[:10]"
      ]
    },
    {
      "cell_type": "code",
      "execution_count": 14,
      "metadata": {
        "id": "-OjOnBogjb8-"
      },
      "outputs": [],
      "source": [
        "rules = apriori(records, min_support=0.34, min_confidence=0.30,  min_length = 6) #for 30% confidence (Combination - 2)\n",
        "\n",
        "results = list(rules)\n",
        "results_list = []\n",
        "for i in range(0, len(results)):\n",
        "    results_list.append('RULE:/t' + str(results[i][0]) + '\\nSUPPORT:\\t' + str(results[i][1]))"
      ]
    },
    {
      "cell_type": "code",
      "execution_count": 15,
      "metadata": {
        "colab": {
          "base_uri": "https://localhost:8080/"
        },
        "id": "akWS2huHjfPH",
        "outputId": "f529447e-80b0-4cfe-8e0c-80ab0714d64d"
      },
      "outputs": [
        {
          "data": {
            "text/plain": [
              "[\"RULE:/tfrozenset({'40'})\\nSUPPORT:\\t0.53\",\n",
              " \"RULE:/tfrozenset({'40', '0'})\\nSUPPORT:\\t0.53\",\n",
              " \"RULE:/tfrozenset({'40', '0', ' United-States'})\\nSUPPORT:\\t0.44\",\n",
              " \"RULE:/tfrozenset({'40', '0', ' United-States', ' <=50K'})\\nSUPPORT:\\t0.34\",\n",
              " \"RULE:/tfrozenset({'40', '0', ' <=50K'})\\nSUPPORT:\\t0.41\",\n",
              " \"RULE:/tfrozenset({'40', ' United-States'})\\nSUPPORT:\\t0.44\",\n",
              " \"RULE:/tfrozenset({'40', ' United-States', ' <=50K'})\\nSUPPORT:\\t0.34\",\n",
              " \"RULE:/tfrozenset({'40', ' Male'})\\nSUPPORT:\\t0.39\",\n",
              " \"RULE:/tfrozenset({'40', ' Male', '0'})\\nSUPPORT:\\t0.39\",\n",
              " \"RULE:/tfrozenset({'40', ' <=50K'})\\nSUPPORT:\\t0.41\"]"
            ]
          },
          "execution_count": 15,
          "metadata": {},
          "output_type": "execute_result"
        }
      ],
      "source": [
        "results_list.sort(reverse= True)\n",
        "results_list[:10]"
      ]
    },
    {
      "cell_type": "code",
      "execution_count": 16,
      "metadata": {
        "id": "E6HXKyy3jf7W"
      },
      "outputs": [],
      "source": [
        "rules = apriori(records, min_support=0.34, min_confidence=0.40,  min_length = 6) #for 40% confidence (Combination - 3)\n",
        "\n",
        "results = list(rules)\n",
        "results_list = []\n",
        "for i in range(0, len(results)):\n",
        "    results_list.append('RULE:/t' + str(results[i][0]) + '\\nSUPPORT:\\t' + str(results[i][1]))"
      ]
    },
    {
      "cell_type": "code",
      "execution_count": 17,
      "metadata": {
        "colab": {
          "base_uri": "https://localhost:8080/"
        },
        "id": "xQX8VRHijkf1",
        "outputId": "15bcff89-3688-4abf-c3e4-f1942cffa63d"
      },
      "outputs": [
        {
          "data": {
            "text/plain": [
              "[\"RULE:/tfrozenset({'40'})\\nSUPPORT:\\t0.53\",\n",
              " \"RULE:/tfrozenset({'40', '0'})\\nSUPPORT:\\t0.53\",\n",
              " \"RULE:/tfrozenset({'40', '0', ' United-States'})\\nSUPPORT:\\t0.44\",\n",
              " \"RULE:/tfrozenset({'40', '0', ' United-States', ' <=50K'})\\nSUPPORT:\\t0.34\",\n",
              " \"RULE:/tfrozenset({'40', '0', ' <=50K'})\\nSUPPORT:\\t0.41\",\n",
              " \"RULE:/tfrozenset({'40', ' United-States'})\\nSUPPORT:\\t0.44\",\n",
              " \"RULE:/tfrozenset({'40', ' United-States', ' <=50K'})\\nSUPPORT:\\t0.34\",\n",
              " \"RULE:/tfrozenset({'40', ' Male'})\\nSUPPORT:\\t0.39\",\n",
              " \"RULE:/tfrozenset({'40', ' Male', '0'})\\nSUPPORT:\\t0.39\",\n",
              " \"RULE:/tfrozenset({'40', ' <=50K'})\\nSUPPORT:\\t0.41\"]"
            ]
          },
          "execution_count": 17,
          "metadata": {},
          "output_type": "execute_result"
        }
      ],
      "source": [
        "results_list.sort(reverse = True)\n",
        "results_list[:10]"
      ]
    },
    {
      "cell_type": "markdown",
      "metadata": {
        "id": "fh5uvXI4jlJW"
      },
      "source": [
        "**Part b** :Use interest as an interestingness measure of an association rule. Rank the top 10 association\n",
        "rules for at least three combinations of support and interest. Explain the rules and why you\n",
        "consider it interesting and useful. Furthermore, also give recommendations based on the\n",
        "discovered rules that might help the user."
      ]
    },
    {
      "cell_type": "code",
      "execution_count": 18,
      "metadata": {
        "id": "Xog38rZQjn79"
      },
      "outputs": [],
      "source": [
        "#higher value of min_confidence = interest\n",
        "rules = apriori(records, min_support=0.52, min_confidence=0.70,  min_length = 6) #for 70% confidence (Combination - 1)\n",
        "\n",
        "results = list(rules)\n",
        "results_list = []\n",
        "for i in range(0, len(results)):\n",
        "    results_list.append('RULE:/t' + str(results[i][0]) + '\\nSUPPORT:\\t' + str(results[i][1]))"
      ]
    },
    {
      "cell_type": "code",
      "execution_count": 19,
      "metadata": {
        "colab": {
          "base_uri": "https://localhost:8080/"
        },
        "id": "BTsh05wOkDMV",
        "outputId": "18f4edc6-06af-48c2-9ad4-817350d85b75"
      },
      "outputs": [
        {
          "data": {
            "text/plain": [
              "[\"RULE:/tfrozenset({'40', '0'})\\nSUPPORT:\\t0.53\",\n",
              " \"RULE:/tfrozenset({'0'})\\nSUPPORT:\\t1.0\",\n",
              " \"RULE:/tfrozenset({'0', ' United-States'})\\nSUPPORT:\\t0.85\",\n",
              " \"RULE:/tfrozenset({'0', ' United-States', ' <=50K'})\\nSUPPORT:\\t0.63\",\n",
              " \"RULE:/tfrozenset({'0', ' <=50K'})\\nSUPPORT:\\t0.74\",\n",
              " \"RULE:/tfrozenset({' White'})\\nSUPPORT:\\t0.82\",\n",
              " \"RULE:/tfrozenset({' White', '0'})\\nSUPPORT:\\t0.82\",\n",
              " \"RULE:/tfrozenset({' White', '0', ' United-States'})\\nSUPPORT:\\t0.73\",\n",
              " \"RULE:/tfrozenset({' White', '0', ' United-States', ' <=50K'})\\nSUPPORT:\\t0.53\",\n",
              " \"RULE:/tfrozenset({' White', '0', ' <=50K'})\\nSUPPORT:\\t0.6\"]"
            ]
          },
          "execution_count": 19,
          "metadata": {},
          "output_type": "execute_result"
        }
      ],
      "source": [
        "results_list.sort(reverse = True)\n",
        "results_list[:10]"
      ]
    },
    {
      "cell_type": "code",
      "execution_count": 20,
      "metadata": {
        "id": "LtgVNwzmkDn1"
      },
      "outputs": [],
      "source": [
        "#higher value of min_confidence = interest\n",
        "rules = apriori(records, min_support=0.52, min_confidence=0.80,  min_length = 4) #for 80% confidence (Combination - 2)\n",
        "\n",
        "results = list(rules)\n",
        "results_list = []\n",
        "for i in range(0, len(results)):\n",
        "    results_list.append('RULE:/t' + str(results[i][0]) + '\\nSUPPORT:\\t' + str(results[i][1]))"
      ]
    },
    {
      "cell_type": "code",
      "execution_count": 21,
      "metadata": {
        "colab": {
          "base_uri": "https://localhost:8080/"
        },
        "id": "9ObnERZ9kJat",
        "outputId": "2a2a9896-a19c-4328-8461-f26e0e2ccef7"
      },
      "outputs": [
        {
          "data": {
            "text/plain": [
              "[\"RULE:/tfrozenset({'40', '0'})\\nSUPPORT:\\t0.53\",\n",
              " \"RULE:/tfrozenset({'0'})\\nSUPPORT:\\t1.0\",\n",
              " \"RULE:/tfrozenset({'0', ' United-States'})\\nSUPPORT:\\t0.85\",\n",
              " \"RULE:/tfrozenset({'0', ' United-States', ' <=50K'})\\nSUPPORT:\\t0.63\",\n",
              " \"RULE:/tfrozenset({'0', ' <=50K'})\\nSUPPORT:\\t0.74\",\n",
              " \"RULE:/tfrozenset({' White'})\\nSUPPORT:\\t0.82\",\n",
              " \"RULE:/tfrozenset({' White', '0'})\\nSUPPORT:\\t0.82\",\n",
              " \"RULE:/tfrozenset({' White', '0', ' United-States'})\\nSUPPORT:\\t0.73\",\n",
              " \"RULE:/tfrozenset({' White', '0', ' United-States', ' <=50K'})\\nSUPPORT:\\t0.53\",\n",
              " \"RULE:/tfrozenset({' White', '0', ' <=50K'})\\nSUPPORT:\\t0.6\"]"
            ]
          },
          "execution_count": 21,
          "metadata": {},
          "output_type": "execute_result"
        }
      ],
      "source": [
        "results_list.sort(reverse = True)\n",
        "results_list[:10]"
      ]
    },
    {
      "cell_type": "code",
      "execution_count": 22,
      "metadata": {
        "id": "IS6KriNxkKeU"
      },
      "outputs": [],
      "source": [
        "#higher value of min_confidence = interest\n",
        "rules = apriori(records, min_support=0.52, min_confidence=0.90,  min_length = 4) #for 90% confidence (Combination - 3)\n",
        "\n",
        "results = list(rules)\n",
        "results_list = []\n",
        "for i in range(0, len(results)):\n",
        "    results_list.append('RULE:/t' + str(results[i][0]) + '\\nSUPPORT:\\t' + str(results[i][1]))"
      ]
    },
    {
      "cell_type": "code",
      "execution_count": 23,
      "metadata": {
        "colab": {
          "base_uri": "https://localhost:8080/"
        },
        "id": "flRctSaBkS11",
        "outputId": "c475e0e7-60ca-46cc-9d3b-65d8cdb5e812"
      },
      "outputs": [
        {
          "data": {
            "text/plain": [
              "[\"RULE:/tfrozenset({'40', '0'})\\nSUPPORT:\\t0.53\",\n",
              " \"RULE:/tfrozenset({'0'})\\nSUPPORT:\\t1.0\",\n",
              " \"RULE:/tfrozenset({'0', ' United-States'})\\nSUPPORT:\\t0.85\",\n",
              " \"RULE:/tfrozenset({'0', ' United-States', ' <=50K'})\\nSUPPORT:\\t0.63\",\n",
              " \"RULE:/tfrozenset({'0', ' <=50K'})\\nSUPPORT:\\t0.74\",\n",
              " \"RULE:/tfrozenset({' White', '0'})\\nSUPPORT:\\t0.82\",\n",
              " \"RULE:/tfrozenset({' White', '0', ' United-States'})\\nSUPPORT:\\t0.73\",\n",
              " \"RULE:/tfrozenset({' White', '0', ' United-States', ' <=50K'})\\nSUPPORT:\\t0.53\",\n",
              " \"RULE:/tfrozenset({' White', '0', ' <=50K'})\\nSUPPORT:\\t0.6\",\n",
              " \"RULE:/tfrozenset({' White', ' Male', '0'})\\nSUPPORT:\\t0.61\"]"
            ]
          },
          "execution_count": 23,
          "metadata": {},
          "output_type": "execute_result"
        }
      ],
      "source": [
        "results_list.sort(reverse = True)\n",
        "results_list[:10]"
      ]
    },
    {
      "cell_type": "markdown",
      "metadata": {
        "id": "gta32_EEqbHe"
      },
      "source": [
        "**Part c**: Try to formulate some questions that you want to ask of your rule learning extraction systems.\n",
        "Select the attributes that will be required to answer your questions. Run Association rule mining\n",
        "to extract interesting patterns. Show at-least 10 rules. Explain the rules and why you consider it\n",
        "interesting and useful. Explain what insight you got regarding your questions."
      ]
    },
    {
      "cell_type": "code",
      "execution_count": 24,
      "metadata": {
        "id": "hOoOm9_dqd9e"
      },
      "outputs": [],
      "source": [
        "rules = apriori(records, min_support=0.45, min_confidence=0.65,  min_length = 14)\n",
        "\n",
        "results = list(rules)\n",
        "results_list = []\n",
        "for i in range(0, len(results)):\n",
        "    results_list.append('RULE:/t' + str(results[i][0]) + '\\nSUPPORT:\\t' + str(results[i][1]))"
      ]
    },
    {
      "cell_type": "code",
      "execution_count": 25,
      "metadata": {},
      "outputs": [
        {
          "data": {
            "text/plain": [
              "[\"RULE:/tfrozenset({'40', '0'})\\nSUPPORT:\\t0.53\",\n",
              " \"RULE:/tfrozenset({'0'})\\nSUPPORT:\\t1.0\",\n",
              " \"RULE:/tfrozenset({'0', ' United-States'})\\nSUPPORT:\\t0.85\",\n",
              " \"RULE:/tfrozenset({'0', ' United-States', ' <=50K'})\\nSUPPORT:\\t0.63\",\n",
              " \"RULE:/tfrozenset({'0', ' <=50K'})\\nSUPPORT:\\t0.74\",\n",
              " \"RULE:/tfrozenset({' White'})\\nSUPPORT:\\t0.82\",\n",
              " \"RULE:/tfrozenset({' White', '0'})\\nSUPPORT:\\t0.82\",\n",
              " \"RULE:/tfrozenset({' White', '0', ' United-States'})\\nSUPPORT:\\t0.73\",\n",
              " \"RULE:/tfrozenset({' White', '0', ' United-States', ' <=50K'})\\nSUPPORT:\\t0.53\",\n",
              " \"RULE:/tfrozenset({' White', '0', ' <=50K'})\\nSUPPORT:\\t0.6\"]"
            ]
          },
          "execution_count": 25,
          "metadata": {},
          "output_type": "execute_result"
        }
      ],
      "source": [
        "results_list.sort(reverse = True)\n",
        "results_list[:10]"
      ]
    },
    {
      "cell_type": "markdown",
      "metadata": {},
      "source": [
        "All the rules gained by applying apriori are important and interesting as they tell the association and the most probabe outcome of whether the income will be greater than or less than 50 according too the give combnation of other things"
      ]
    }
  ],
  "metadata": {
    "colab": {
      "provenance": []
    },
    "kernelspec": {
      "display_name": "Python 3",
      "name": "python3"
    },
    "language_info": {
      "codemirror_mode": {
        "name": "ipython",
        "version": 3
      },
      "file_extension": ".py",
      "mimetype": "text/x-python",
      "name": "python",
      "nbconvert_exporter": "python",
      "pygments_lexer": "ipython3",
      "version": "3.10.7"
    }
  },
  "nbformat": 4,
  "nbformat_minor": 0
}
