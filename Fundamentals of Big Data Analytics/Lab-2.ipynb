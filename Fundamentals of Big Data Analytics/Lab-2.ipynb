{
  "nbformat": 4,
  "nbformat_minor": 0,
  "metadata": {
    "colab": {
      "provenance": []
    },
    "kernelspec": {
      "name": "python3",
      "display_name": "Python 3"
    },
    "language_info": {
      "name": "python"
    }
  },
  "cells": [
    {
      "cell_type": "code",
      "source": [
        "#Task-A\n",
        "#Part-1\n",
        "import pandas as pd\n",
        "import numpy as np\n",
        "\n",
        "data = pd.read_csv(\"hel.csv\")\n",
        "data.head()"
      ],
      "metadata": {
        "collapsed": true,
        "id": "XaRNbJPS27Se"
      },
      "execution_count": null,
      "outputs": []
    },
    {
      "cell_type": "code",
      "source": [
        "#Part-2\n",
        "#Normalizing The Data\n",
        "import matplotlib.pyplot as plt\n",
        "\n",
        "data.drop(['Series_title_3' , 'Series_title_4' , 'Series_title_5'],axis=1)\n",
        "data['Period'].fillna(data['Period']).mean()\n",
        "data['Data_value'].fillna(data['Data_value']).mean()\n",
        "\n",
        "#Bar-Graph\n",
        "x = data['Series_title_2']\n",
        "y = data['Period']\n",
        "plt.bar(x,y)\n",
        "plt.show()\n",
        "\n",
        "x = data['Data_value']\n",
        "y = data['Period']\n",
        "plt.bar(x,y)\n",
        "plt.show()"
      ],
      "metadata": {
        "id": "CvrlW42O3CUc"
      },
      "execution_count": null,
      "outputs": []
    },
    {
      "cell_type": "code",
      "source": [
        "#Line Graph\n",
        "x= data ['Data_value']\n",
        "y = data['Period']\n",
        "plt.plot(x, y, color = 'g', linestyle ='dashed')\n",
        "plt.grid()\n",
        "plt.legend()\n",
        "plt.show()"
      ],
      "metadata": {
        "id": "eV1-rLl13Feg"
      },
      "execution_count": null,
      "outputs": []
    },
    {
      "cell_type": "code",
      "source": [
        "#Pi-Chart\n",
        "plt.pie(x)\n",
        "plt.show()"
      ],
      "metadata": {
        "id": "EbKtpYEq3LUX"
      },
      "execution_count": null,
      "outputs": []
    },
    {
      "cell_type": "code",
      "source": [
        "#Scatter Plot\n",
        "x = data['Data_value']\n",
        "y = data['Period']\n",
        "plt.scatter(x,y,color='red')\n",
        "plt.show()"
      ],
      "metadata": {
        "id": "3kIc4GHs3NvN"
      },
      "execution_count": null,
      "outputs": []
    },
    {
      "cell_type": "code",
      "execution_count": null,
      "metadata": {
        "id": "xtM0NUcLkxmA"
      },
      "outputs": [],
      "source": [
        "#Task_B\n",
        "#Creating a csv file\n",
        "import pandas as pd\n",
        "import csv\n",
        "Names = []\n",
        "Age = []\n",
        "Height = []\n",
        "Gpa = []\n",
        "\n",
        "with open('Student.csv' , 'w' , newline = '') as csvfile:\n",
        "  writer = csv.writer(csvfile)\n",
        "  initial = \"N\"\n",
        "  char = \"2\"\n",
        "  writer.writerow([\"Names\" , \"Age\" , \"Height\" , \"GPA\"])\n",
        "  for j in range(1,1000):\n",
        "     writer.writerow([initial , 4*j , 2*j , j%8])\n",
        "     initial = initial+char\n",
        "\n",
        "data_new = pd.read_csv(\"Student.csv\")\n",
        "data_new.head()"
      ]
    },
    {
      "cell_type": "code",
      "source": [
        "#Bar Graph\n",
        "import matplotlib.pyplot as plt\n",
        "X = data_new['Age']\n",
        "Y = data_new['GPA']\n",
        "\n",
        "plt.title(\"Age & GPA\")\n",
        "plt.xlabel(\"Age\")\n",
        "plt.ylabel(\"GPA\")\n",
        "plt.bar(X,Y)\n",
        "plt.show()\n",
        "\n",
        "\n",
        "plt.title(\"Height & GPA\")\n",
        "X = data_new['Height']\n",
        "plt.xlabel(\"Height\")\n",
        "plt.ylabel(\"GPA\")\n",
        "plt.bar(X,Y)\n",
        "plt.show()"
      ],
      "metadata": {
        "id": "Rn5rhSk_l89D"
      },
      "execution_count": null,
      "outputs": []
    },
    {
      "cell_type": "code",
      "source": [
        "#Line Graph\n",
        "plt.xlabel(\"Height\")\n",
        "plt.ylabel(\"GPA\")\n",
        "plt.plot(X, Y, color = 'g', linestyle ='dashed')\n",
        "plt.grid()\n",
        "plt.legend()\n",
        "plt.show()\n",
        "\n",
        "\n",
        "X = data_new['Age']\n",
        "plt.ylabel(\"GPA\")\n",
        "plt.xlabel(\"Age\")\n",
        "plt.plot(X, Y, color = 'g', linestyle ='dashed')\n",
        "plt.grid()\n",
        "plt.legend()\n",
        "plt.show()\n"
      ],
      "metadata": {
        "id": "JUF5ofgnmzSI"
      },
      "execution_count": null,
      "outputs": []
    },
    {
      "cell_type": "code",
      "source": [
        "#TASK_C\n",
        "#Loading DataSet\n",
        "from sklearn.model_selection import train_test_split\n",
        "from sklearn.neighbors import KNeighborsClassifier\n",
        "from sklearn import metrics\n",
        "X = data_new.iloc[:,[1,2]].values\n",
        "Y = data_new.iloc[:,3].values\n",
        "\n",
        "#Splitting The DataSet\n",
        "X_train , X_test , Y_train , Y_test = train_test_split(X , Y , test_size = 0.4 , random_state = 1)\n",
        "\n",
        "#Training The Model\n",
        "knn = KNeighborsClassifier(n_neighbors = 2)\n",
        "knn.fit(X_train , Y_train)\n",
        "\n",
        "#Making Predictions\n",
        "y_pred = knn.predict(X_test)\n",
        "\n",
        "#Comparing Actual Value With Predicted\n",
        "print(\"kNN model accuracy:\", metrics.accuracy_score(Y_test , y_pred))"
      ],
      "metadata": {
        "id": "NkO0IZFBn8P6"
      },
      "execution_count": null,
      "outputs": []
    }
  ]
}