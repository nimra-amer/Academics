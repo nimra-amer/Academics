{
  "nbformat": 4,
  "nbformat_minor": 0,
  "metadata": {
    "colab": {
      "provenance": []
    },
    "kernelspec": {
      "name": "python3",
      "display_name": "Python 3"
    },
    "language_info": {
      "name": "python"
    }
  },
  "cells": [
    {
      "cell_type": "code",
      "source": [
        "!pip install pyspark"
      ],
      "metadata": {
        "colab": {
          "base_uri": "https://localhost:8080/"
        },
        "id": "2TQ5Oij0GwVd",
        "outputId": "fc76d662-ef22-4903-f0c1-b9766904a1f7"
      },
      "execution_count": 3,
      "outputs": [
        {
          "output_type": "stream",
          "name": "stdout",
          "text": [
            "Looking in indexes: https://pypi.org/simple, https://us-python.pkg.dev/colab-wheels/public/simple/\n",
            "Collecting pyspark\n",
            "  Downloading pyspark-3.4.0.tar.gz (310.8 MB)\n",
            "\u001b[2K     \u001b[90m━━━━━━━━━━━━━━━━━━━━━━━━━━━━━━━━━━━━━━━\u001b[0m \u001b[32m310.8/310.8 MB\u001b[0m \u001b[31m4.9 MB/s\u001b[0m eta \u001b[36m0:00:00\u001b[0m\n",
            "\u001b[?25h  Preparing metadata (setup.py) ... \u001b[?25l\u001b[?25hdone\n",
            "Requirement already satisfied: py4j==0.10.9.7 in /usr/local/lib/python3.10/dist-packages (from pyspark) (0.10.9.7)\n",
            "Building wheels for collected packages: pyspark\n",
            "  Building wheel for pyspark (setup.py) ... \u001b[?25l\u001b[?25hdone\n",
            "  Created wheel for pyspark: filename=pyspark-3.4.0-py2.py3-none-any.whl size=311317130 sha256=4658291252adfeb7dfdfe2919a5156c048645087e2baab729ba4b8dc1c48dfe9\n",
            "  Stored in directory: /root/.cache/pip/wheels/7b/1b/4b/3363a1d04368e7ff0d408e57ff57966fcdf00583774e761327\n",
            "Successfully built pyspark\n",
            "Installing collected packages: pyspark\n",
            "Successfully installed pyspark-3.4.0\n"
          ]
        }
      ]
    },
    {
      "cell_type": "code",
      "source": [
        "from pyspark.sql import SparkSession\n",
        "from pyspark.sql.functions import col, expr\n",
        "from pyspark import SparkContext\n",
        "from pyspark.sql.functions import broadcast\n",
        "from pyspark.sql.functions import isnan, col, sum\n",
        "from pyspark.sql.functions import corr\n",
        "from pyspark.ml.stat import Correlation\n",
        "from pyspark.ml.clustering import KMeans, BisectingKMeans\n",
        "from pyspark.ml.feature import VectorAssembler\n",
        "\n",
        "\n",
        "spark = SparkSession.builder.getOrCreate()\n",
        "sc = spark.sparkContext"
      ],
      "metadata": {
        "id": "tAyLIrX-IBjr"
      },
      "execution_count": 85,
      "outputs": []
    },
    {
      "cell_type": "code",
      "execution_count": 38,
      "metadata": {
        "colab": {
          "base_uri": "https://localhost:8080/"
        },
        "id": "4i7JYQZfFtHo",
        "outputId": "e7f702f8-aaee-4ef2-c04d-154276b9c638"
      },
      "outputs": [
        {
          "output_type": "stream",
          "name": "stdout",
          "text": [
            "+------+--------+--------+----------+--------------+--------+--------+----------+--------------+\n",
            "|emp_id|emp_name|emp_dept|emp_salary|emp_experience|emp_name|emp_dept|emp_salary|emp_experience|\n",
            "+------+--------+--------+----------+--------------+--------+--------+----------+--------------+\n",
            "|   109|    Iris|      HR|    4100.0|           1.5|   Henry|      IT|    6200.0|           4.5|\n",
            "+------+--------+--------+----------+--------------+--------+--------+----------+--------------+\n",
            "\n"
          ]
        }
      ],
      "source": [
        "#Question No.1\n",
        "df = spark.read.csv(\"employee.csv\", header=True, inferSchema=True)\n",
        "\n",
        "rdd1 = df.filter(col(\"emp_salary\") < 4500)\n",
        "rdd2 = df.filter(col(\"emp_salary\") >= 4500)\n",
        "RDD = rdd1.join(rdd2, on = \"emp_id\", how = \"inner\")\n",
        "RDD.show()\n"
      ]
    },
    {
      "cell_type": "code",
      "source": [
        "#Question No.2\n",
        "\n",
        "RDD = rdd1.join(rdd2, on='emp_id', how='left_outer')\n",
        "RDD.show()\n"
      ],
      "metadata": {
        "colab": {
          "base_uri": "https://localhost:8080/"
        },
        "id": "-k-LGCJ4IKT7",
        "outputId": "04e388fe-db9c-4b99-8441-f47fcab7035f"
      },
      "execution_count": 40,
      "outputs": [
        {
          "output_type": "stream",
          "name": "stdout",
          "text": [
            "+------+--------+----------+----------+--------------+--------+--------+----------+--------------+\n",
            "|emp_id|emp_name|  emp_dept|emp_salary|emp_experience|emp_name|emp_dept|emp_salary|emp_experience|\n",
            "+------+--------+----------+----------+--------------+--------+--------+----------+--------------+\n",
            "|   104|    Dave|        HR|    4000.0|           1.5|    null|    null|      null|          null|\n",
            "|   109|    Iris|        HR|    4100.0|           1.5|   Henry|      IT|    6200.0|           4.5|\n",
            "|   114|    Noah|        HR|    4200.0|           1.5|    null|    null|      null|          null|\n",
            "|   117|     Roy|Accountant|    4400.0|           1.5|    null|    null|      null|          null|\n",
            "|   119|   Tommy|        HR|    4000.0|           1.5|    null|    null|      null|          null|\n",
            "+------+--------+----------+----------+--------------+--------+--------+----------+--------------+\n",
            "\n"
          ]
        }
      ]
    },
    {
      "cell_type": "code",
      "source": [
        "#Question No.3\n",
        "RDD = rdd1.join(rdd2, on=\"emp_id\" , how = 'inner')\n",
        "\n",
        "total_salary = RDD.select(\"emp_id\", (RDD.emp_id* RDD.emp_id).alias(\"total_salary\"))\n",
        "total_salary.show()\n"
      ],
      "metadata": {
        "colab": {
          "base_uri": "https://localhost:8080/"
        },
        "id": "RK3cLWewNLx7",
        "outputId": "02aae8f1-1ef5-45cd-8546-524401346098"
      },
      "execution_count": 53,
      "outputs": [
        {
          "output_type": "stream",
          "name": "stdout",
          "text": [
            "+------+------------+\n",
            "|emp_id|total_salary|\n",
            "+------+------------+\n",
            "|   109|       11881|\n",
            "+------+------------+\n",
            "\n"
          ]
        }
      ]
    },
    {
      "cell_type": "code",
      "source": [
        "#Question No.4\n",
        "\n",
        "rdd1 = sc.parallelize([(1, \"Nimra\"), (2, \"Amna\"), (3, \"Areeb\"), (4 , \"Ammara\")])\n",
        "rdd2 = sc.parallelize([(1, 28), (2, 38), (3, 48) , (4, 58)])\n",
        "\n",
        "df_1 = spark.createDataFrame(rdd1 , ['id' , 'name'])\n",
        "df_2 = spark.createDataFrame(rdd2 , ['id' , 'age'])\n",
        "\n",
        "broadcast_rdd1 = sc.broadcast(dict(rdd1.collect()))\n",
        "RDD = df_2.join(broadcast(df_1), on=\"id\")\n",
        "RDD.show()\n"
      ],
      "metadata": {
        "colab": {
          "base_uri": "https://localhost:8080/"
        },
        "id": "uzI56F6bcZEo",
        "outputId": "2989e1ed-70ba-4091-adc5-6cf9db90a774"
      },
      "execution_count": 57,
      "outputs": [
        {
          "output_type": "stream",
          "name": "stdout",
          "text": [
            "+---+---+------+\n",
            "| id|age|  name|\n",
            "+---+---+------+\n",
            "|  1| 28| Nimra|\n",
            "|  2| 38|  Amna|\n",
            "|  3| 48| Areeb|\n",
            "|  4| 58|Ammara|\n",
            "+---+---+------+\n",
            "\n"
          ]
        }
      ]
    },
    {
      "cell_type": "code",
      "source": [
        "#Question No.5\n",
        "RDD = spark.sparkContext.parallelize(range(1, 11))\n",
        "\n",
        "accumulator = spark.sparkContext.accumulator(0)\n",
        "RDD.foreach(lambda x: accumulator.add(x))\n",
        "\n",
        "print(\"Sum:\", accumulator.value)"
      ],
      "metadata": {
        "colab": {
          "base_uri": "https://localhost:8080/"
        },
        "id": "nkWirDhsfIot",
        "outputId": "dcfa662a-6b4d-4310-e762-d8576d9e1f3b"
      },
      "execution_count": 59,
      "outputs": [
        {
          "output_type": "stream",
          "name": "stdout",
          "text": [
            "Sum: 55\n"
          ]
        }
      ]
    },
    {
      "cell_type": "code",
      "source": [
        "#Question No.6\n",
        "file = spark.read.csv('movies.csv',header=True)\n",
        "result = file.filter(file.Awards == 'Yes')\n",
        "result_ = result.filter(file.Genre == 'Action')\n",
        "result_final = result_.select(result_.Title , result_.Year , result_.Director)\n",
        "result_final.show()"
      ],
      "metadata": {
        "colab": {
          "base_uri": "https://localhost:8080/"
        },
        "id": "Dr9dkuM4fukm",
        "outputId": "40357a11-52c3-457a-d62c-4ccd20f506e9"
      },
      "execution_count": 61,
      "outputs": [
        {
          "output_type": "stream",
          "name": "stdout",
          "text": [
            "+-----+----+--------+\n",
            "|Title|Year|Director|\n",
            "+-----+----+--------+\n",
            "+-----+----+--------+\n",
            "\n"
          ]
        }
      ]
    },
    {
      "cell_type": "code",
      "source": [
        "#Question No.7\n",
        "final_result = result.select(result.Title , result.Director)\n",
        "final_result.show()"
      ],
      "metadata": {
        "colab": {
          "base_uri": "https://localhost:8080/"
        },
        "id": "I3XihbCmgp3_",
        "outputId": "1112d7a0-3b4d-4c1c-c26f-9389344fb6ba"
      },
      "execution_count": 62,
      "outputs": [
        {
          "output_type": "stream",
          "name": "stdout",
          "text": [
            "+--------------------+-------------------+\n",
            "|               Title|           Director|\n",
            "+--------------------+-------------------+\n",
            "| Fanny and Alexander|      BergmanIngmar|\n",
            "|     A Man & a Woman|      LelouchClaude|\n",
            "|Un Hombre y una M...|      LelouchClaude|\n",
            "|   Official StoryThe|         PuenzoLuiz|\n",
            "|   Wild Strawberries|      BergmanIngmar|\n",
            "|Through a Glass D...|      BergmanIngmar|\n",
            "|    Cries & Whispers|      BergmanIngmar|\n",
            "|   Sound of MusicThe|         WiseRobert|\n",
            "|     Babette's Feast|        AxelGabriel|\n",
            "|Murder on the Ori...|        LumetSidney|\n",
            "|     Elephant ManThe|         LynchDavid|\n",
            "|E. T. The Extra-T...|    SpielbergSteven|\n",
            "|              Misery|          ReinerRob|\n",
            "|              Gandhi|AttenboroughRichard|\n",
            "|       Autumn Sonata|      BergmanIngmar|\n",
            "|            Gaslight|        CukorGeorge|\n",
            "|A Woman Called Golda|         GibsonAlan|\n",
            "|           Anastasia|      LitvakAnatole|\n",
            "|       Cactus Flower|           SaksGene|\n",
            "|             Amadeus|        FormanMilos|\n",
            "+--------------------+-------------------+\n",
            "only showing top 20 rows\n",
            "\n"
          ]
        }
      ]
    },
    {
      "cell_type": "code",
      "source": [
        "#Question No.8\n",
        "popular = file.sort(file.Popularity.desc())\n",
        "popular_final = popular.filter(popular.Awards == 'No')\n",
        "popular_final.select(popular_final.Title , popular_final.Popularity).show(10)"
      ],
      "metadata": {
        "colab": {
          "base_uri": "https://localhost:8080/"
        },
        "id": "eyYjlXf8gudD",
        "outputId": "7446b413-7cb5-44cd-c4b8-3eb3a6451720"
      },
      "execution_count": 63,
      "outputs": [
        {
          "output_type": "stream",
          "name": "stdout",
          "text": [
            "+--------------------+----------+\n",
            "|               Title|Popularity|\n",
            "+--------------------+----------+\n",
            "|        Tango & Cash|         9|\n",
            "|  Back to the Future|         9|\n",
            "|Masque of the Red...|         9|\n",
            "|Eighty-Four Chari...|         9|\n",
            "|        Judge Priest|         9|\n",
            "|           Dead-Bang|         9|\n",
            "|               Glitz|         9|\n",
            "|            Morituri|         9|\n",
            "|Naked Gun: From t...|         9|\n",
            "|        Boxing Babes|         9|\n",
            "+--------------------+----------+\n",
            "only showing top 10 rows\n",
            "\n"
          ]
        }
      ]
    },
    {
      "cell_type": "code",
      "source": [
        "#Question No.9\n",
        "popular = file.sort(file.Popularity.asc())\n",
        "popular_final = popular.filter(popular.Year < '1980')\n",
        "popular_final.select(popular_final.Title , popular_final.Popularity , popular_final.Year).show(10)"
      ],
      "metadata": {
        "colab": {
          "base_uri": "https://localhost:8080/"
        },
        "id": "_i0OC1uVg5ou",
        "outputId": "76a9cbaa-5ee2-4c61-bd23-358771a72031"
      },
      "execution_count": 64,
      "outputs": [
        {
          "output_type": "stream",
          "name": "stdout",
          "text": [
            "+------------------+----------+----+\n",
            "|             Title|Popularity|Year|\n",
            "+------------------+----------+----+\n",
            "|   White Lightning|      null|1953|\n",
            "|      Drop KickThe|      null|1927|\n",
            "|      Desert Rider|      null|1923|\n",
            "| Bank on the Stars|      null|1954|\n",
            "|           Shalako|         0|1968|\n",
            "|           Airport|         0|1970|\n",
            "|     Anna Christie|         0|1930|\n",
            "|Shout at the Devil|         0|1976|\n",
            "| Tales of Tomorrow|         0|1953|\n",
            "|        Indiscreet|         1|1958|\n",
            "+------------------+----------+----+\n",
            "only showing top 10 rows\n",
            "\n"
          ]
        }
      ]
    },
    {
      "cell_type": "code",
      "source": [
        "#Question No.10\n",
        "movies_1990 = file.filter(file.Year < 1990).orderBy(\"title\")\n",
        "movies_1990.show()"
      ],
      "metadata": {
        "colab": {
          "base_uri": "https://localhost:8080/"
        },
        "id": "cgS79KOvhBWP",
        "outputId": "3d773665-e060-4c20-9b8e-8eb4c9b1682e"
      },
      "execution_count": 66,
      "outputs": [
        {
          "output_type": "stream",
          "name": "stdout",
          "text": [
            "+----+------+--------------------+---------------+--------------------+-----------------+-------------------+----------+------+-------------------+\n",
            "|Year|Length|               Title|          Genre|               Actor|          Actress|           Director|Popularity|Awards|              Image|\n",
            "+----+------+--------------------+---------------+--------------------+-----------------+-------------------+----------+------+-------------------+\n",
            "|1968|   139|2001: A Space Ody...|Science Fiction|          DulleaKeir|   TyzackMargaret|     KubrickStanley|        83|    No|   NicholasCage.png|\n",
            "|1982|    92|             48 Hrs.|         Action|           NolteNick|   O'TooleAnnette|         HillWalter|        67|    No|   NicholasCage.png|\n",
            "|1963|   138|               8 1/2|          Drama| MastroianniMarcello| CardinaleClaudia|    FelliniFederico|        80|   Yes|   NicholasCage.png|\n",
            "|1966|    95|A Big Hand for th...|         Comedy|          FondaHenry|   WoodwardJoanne|        CookFielder|        12|    No|   NicholasCage.png|\n",
            "|1962|   105|  A Child Is Waiting|          Drama|       LancasterBurt|      GarlandJudy|     CassavetesJohn|        60|    No|  burtLancaster.png|\n",
            "|1985|   118|A Chorus LineThe ...|          Music|      DouglasMichael|    LandersAudrey|AttenboroughRichard|        71|    No|   NicholasCage.png|\n",
            "|1971|   138|  A Clockwork Orange|Science Fiction|     McDowellMalcolm|             null|     KubrickStanley|        83|   Yes|   NicholasCage.png|\n",
            "|1967|   100|A Coeur Joie(Head...|         Action|     TerzieffLaurent|   BardotBrigitte|   BourguignonSerge|        54|    No| brigitteBardot.png|\n",
            "|1988|   122|   A Cry in the Dark|          Drama|            NeillSam|      StreepMeryl|       SchepisiFred|        67|    No|    merylStreep.png|\n",
            "|1989|    97|  A Dry White Season|          Drama|    SutherlandDonald|    SarandonSusan|        PalcyEuzhan|        71|    No|   NicholasCage.png|\n",
            "|1966|   104|      A Fine Madness|         Comedy|         ConnerySean|   WoodwardJoanne|      KershnerIrvin|         6|    No|    seanConnery.png|\n",
            "|1988|   108| A Fish Called Wanda|         Comedy|          CleeseJohn|  CurtisJamie Lee|    CrichtonCharles|         7|   Yes|   NicholasCage.png|\n",
            "|1964|   102|A Fistful of Dollars|       Westerns|       EastwoodClint|VolonteGian Maria|        LeoneSergio|        61|    No|  clintEastwood.png|\n",
            "|1943|  null|     A Guy Named Joe|          Drama|        TracySpencer|       DunneIrene|      FlemingVictor|        42|    No|   spencerTracy.png|\n",
            "|1954|    96|    A Lesson in Love|         Comedy|   BjörnstrandGunnar|      DahlbeckEva|      BergmanIngmar|        48|    No|        Bergman.png|\n",
            "|1977|   110|A Little Night Music|          Music|           CariouLen|  TaylorElizabeth|       PrinceHarold|        61|    No|elizabethTaylor.png|\n",
            "|1966|   103|     A Man & a Woman|          Drama|TrintignantJean-L...|       AimeeAnouk|      LelouchClaude|        46|   Yes|   NicholasCage.png|\n",
            "|1986|   112|A Man & a Woman: ...|          Drama|TrintignantJean-L...|       AimeeAnouk|      LelouchClaude|        49|    No|   NicholasCage.png|\n",
            "|1966|   120|A Man for All Sea...|          Drama|          ShawRobert|      HillerWendy|      ZinnemannFred|        20|   Yes|   NicholasCage.png|\n",
            "|1976|    97|    A Matter of Time|          Drama|        BoyerCharles|     MinnelliLiza|   MinnelliVincente|        70|    No|   NicholasCage.png|\n",
            "+----+------+--------------------+---------------+--------------------+-----------------+-------------------+----------+------+-------------------+\n",
            "only showing top 20 rows\n",
            "\n"
          ]
        }
      ]
    },
    {
      "cell_type": "code",
      "source": [
        "#Question No.11\n",
        "new_file = spark.read.csv('wine.csv' , header = True)\n",
        "print(\"Number of records:\", new_file.count())\n",
        "\n",
        "missing_counts = new_file.select([sum(col(c).isNull().cast(\"int\")).alias(c) for c in new_file.columns])\n",
        "missing_percentages = missing_counts.select([(col(c) / new_file.count()).alias(c) for c in new_file.columns])\n",
        "\n",
        "#Detecting Outliers\n",
        "numerical_columns = [c for c in new_file.columns if new_file.select(c).dtypes[0][1] in ('double', 'int')]\n",
        "outliers = new_file \n",
        "\n",
        "for column in numerical_columns:\n",
        "    column_name = column  \n",
        "    q1, q3 = df.approxQuantile(column_name, [0.25, 0.75], 0.01)\n",
        "    iqr = q3 - q1\n",
        "    lower= q1 - 1.5 * iqr\n",
        "    upper = q3 + 1.5 * iqr\n",
        "\n",
        "#Correlarion\n",
        "correlation_matrix = df.select(numerical_columns).toPandas().corr()\n",
        "print(correlation_matrix)"
      ],
      "metadata": {
        "colab": {
          "base_uri": "https://localhost:8080/"
        },
        "id": "klbNUXGehi6w",
        "outputId": "5f6ae3de-bd6b-496a-8275-aa0508e1d7ed"
      },
      "execution_count": 82,
      "outputs": [
        {
          "output_type": "stream",
          "name": "stdout",
          "text": [
            "Number of records: 178\n",
            "Empty DataFrame\n",
            "Columns: []\n",
            "Index: []\n"
          ]
        }
      ]
    },
    {
      "cell_type": "code",
      "source": [
        "#Question No.12\n",
        "new_file = new_file.select(*(col(c).cast(\"double\").alias(c) for c in new_file.columns))\n",
        "\n",
        "assembler = VectorAssembler(inputCols=new_file.columns, outputCol=\"features\")\n",
        "data = assembler.transform(new_file).select(\"features\")\n",
        "\n",
        "kmeans = KMeans(k=3, seed=123)\n",
        "model = kmeans.fit(data)\n",
        "\n",
        "predictions = model.transform(data)\n",
        "\n",
        "bisecting_kmeans = BisectingKMeans(k=4, seed=13)\n",
        "model = bisecting_kmeans.fit(data)\n",
        "\n",
        "predictions = model.transform(data)\n",
        "predictions.show()"
      ],
      "metadata": {
        "colab": {
          "base_uri": "https://localhost:8080/"
        },
        "id": "OSFrPRyni-G9",
        "outputId": "f83eaf7b-bbd1-4939-8213-ee5fcc63b18e"
      },
      "execution_count": 91,
      "outputs": [
        {
          "output_type": "stream",
          "name": "stdout",
          "text": [
            "+--------------------+----------+\n",
            "|            features|prediction|\n",
            "+--------------------+----------+\n",
            "|[14.23,1.71,2.43,...|         2|\n",
            "|[13.2,1.78,2.14,1...|         2|\n",
            "|[13.16,2.36,2.67,...|         3|\n",
            "|[14.37,1.95,2.5,1...|         3|\n",
            "|[13.24,2.59,2.87,...|         1|\n",
            "|[14.2,1.76,2.45,1...|         3|\n",
            "|[14.39,1.87,2.45,...|         3|\n",
            "|[14.06,2.15,2.61,...|         3|\n",
            "|[14.83,1.64,2.17,...|         2|\n",
            "|[13.86,1.35,2.27,...|         2|\n",
            "|[14.1,2.16,2.3,18...|         3|\n",
            "|[14.12,1.48,2.32,...|         3|\n",
            "|[13.75,1.73,2.41,...|         3|\n",
            "|[14.75,1.73,2.39,...|         2|\n",
            "|[14.38,1.87,2.38,...|         3|\n",
            "|[13.63,1.81,2.7,1...|         3|\n",
            "|[14.3,1.92,2.72,2...|         3|\n",
            "|[13.83,1.57,2.62,...|         2|\n",
            "|[14.19,1.59,2.48,...|         3|\n",
            "|[13.64,3.1,2.56,1...|         1|\n",
            "+--------------------+----------+\n",
            "only showing top 20 rows\n",
            "\n"
          ]
        }
      ]
    }
  ]
}