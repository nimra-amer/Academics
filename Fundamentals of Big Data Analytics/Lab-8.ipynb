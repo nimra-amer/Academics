{
  "nbformat": 4,
  "nbformat_minor": 0,
  "metadata": {
    "colab": {
      "provenance": []
    },
    "kernelspec": {
      "name": "python3",
      "display_name": "Python 3"
    },
    "language_info": {
      "name": "python"
    }
  },
  "cells": [
    {
      "cell_type": "code",
      "execution_count": null,
      "metadata": {
        "id": "8vccsGYqY05J"
      },
      "outputs": [],
      "source": [
        "#Question NO.1\n",
        "from mrjob.job import MRJob\n",
        "\n",
        "class Count(MRJob):\n",
        "\n",
        "    def mapper(self, _, line):\n",
        "        fields = line.strip().split(',')\n",
        "        if len(fields) >= 3:\n",
        "            user = fields[0]\n",
        "            date = fields[1]\n",
        "            song_count = len(fields) - 2  # number of song IDs in the list\n",
        "            if song_count > 5:\n",
        "                yield(user, date)\n",
        "\n",
        "    def reducer(self, user, dates):\n",
        "        date_list = list(set(dates))  # remove duplicate dates\n",
        "        if len(date_list) > 0:\n",
        "            yield(user, date_list)\n",
        "\n",
        "if __name__ == '__main__':\n",
        "    Count.run()\n"
      ]
    },
    {
      "cell_type": "code",
      "source": [
        "#Question NO.2\n",
        "from mrjob.job import MRJob\n",
        "\n",
        "class SongCount(MRJob):\n",
        "    def mapper(self, _, line):\n",
        "        fields = line.strip().split(',')\n",
        "        if len(fields) >= 3:\n",
        "            user = fields[0]\n",
        "            date = fields[1]\n",
        "            song_count = len(fields) - 2  # number of song IDs in the list\n",
        "            yield (user, date, song_count)\n",
        "\n",
        "if __name__ == '__main__':\n",
        "    SongCount.run()\n"
      ],
      "metadata": {
        "id": "B-Ovk8b5dHE3"
      },
      "execution_count": null,
      "outputs": []
    },
    {
      "cell_type": "code",
      "source": [
        "#Question NO.3\n",
        "from mrjob.job import MRJob\n",
        "\n",
        "\n",
        "class Count(MRJob):\n",
        "\n",
        "    def mapper(self, _, line):\n",
        "        fields = line.strip().split(',')\n",
        "        if len(fields) >= 3:\n",
        "            user = fields[0]\n",
        "            date = fields[1]\n",
        "            songs = fields[2:]\n",
        "            for song in songs:\n",
        "                yield (user, song)\n",
        "\n",
        "    def combiner(self, user, songs):\n",
        "        yield (user, sum(1 for _ in songs))\n",
        "\n",
        "    def reducer(self, user, song_counts):\n",
        "        yield (user, sum(song_counts))\n",
        "\n",
        "\n",
        "if __name__ == '__main__':\n",
        "    Count.run()\n"
      ],
      "metadata": {
        "id": "bWRU_HEedMyD"
      },
      "execution_count": null,
      "outputs": []
    },
    {
      "cell_type": "code",
      "source": [
        "#Question NO.4\n",
        "from mrjob.job import MRJob\n",
        "\n",
        "class SongAverage(MRJob):\n",
        "\n",
        "    def mapper(self, _, line):\n",
        "        fields = line.strip().split(',')\n",
        "        if len(fields) == 3:\n",
        "            num_songs = len(song_ids.split())\n",
        "            yield (date,num_songs, 1)\n",
        "        \n",
        "    def combiner(self, date, values):\n",
        "        total_songs=0\n",
        "        count = 0\n",
        "        for num_songs, num_days in values:\n",
        "            total_songs = total_songs + num_songs\n",
        "            count = count + num_days\n",
        "        yield (date, total_songs, count)\n",
        "        \n",
        "    def reducer(self, date, values):\n",
        "        total_songs, count = 0, 0\n",
        "        for num_songs, num_days in values:\n",
        "            total_songs =total_songs + num_songs\n",
        "            count = count + num_days\n",
        "        yield date, total_songs / count\n",
        "\n",
        "if __name__ == '__main__':\n",
        "    SongAverage.run()\n"
      ],
      "metadata": {
        "id": "_dX1yKm8dR4b"
      },
      "execution_count": null,
      "outputs": []
    },
    {
      "cell_type": "code",
      "source": [
        "#Question NO.5\n",
        "from mrjob.job import MRJob\n",
        "\n",
        "class SongCount(MRJob):\n",
        "    def mapper(self, _, line):\n",
        "        fields = line.strip().split(', ')\n",
        "        if len(fields) < 3:\n",
        "            return\n",
        "        username, Date, *List_of_songs = fields\n",
        "        for song in List_of_songs:\n",
        "            yield (song, 1)\n",
        "\n",
        "    def combiner(self, songID, counts):\n",
        "        yield (songID, sum(counts))\n",
        "\n",
        "    def reducer(self, songID, counts):\n",
        "        yield (songID, sum(counts))\n",
        "\n",
        "if __name__ == '__main__':\n",
        "    SongCount.run()\n"
      ],
      "metadata": {
        "id": "4Ww9RbZhdbG5"
      },
      "execution_count": null,
      "outputs": []
    },
    {
      "cell_type": "code",
      "source": [
        "#Question NO.6\n",
        "from mrjob.job import MRJob\n",
        "\n",
        "class MaxSongPlayers(MRJob):\n",
        "\n",
        "    def mapper(self, _, line):\n",
        "        username, date, *songs = line.strip().split(', ')\n",
        "        for song in songs:\n",
        "            yield (date, username), 1\n",
        "    \n",
        "    def combiner(self, key, counts):\n",
        "        yield key, sum(counts)\n",
        "    \n",
        "    def reducer(self, key, counts):\n",
        "        max_count = max(counts)\n",
        "        yield date, (username, max_count)\n",
        "       \n",
        "\n",
        "    \n",
        "if __name__ == '__main__':\n",
        "    MaxSongPlayers.run()\n"
      ],
      "metadata": {
        "id": "RdySU2-FgnXp"
      },
      "execution_count": null,
      "outputs": []
    },
    {
      "cell_type": "code",
      "source": [
        "#Question NO.7:\n",
        "\n",
        "from mrjob.job import MRJob\n",
        "\n",
        "class MaxSongPlayers(MRJob):\n",
        "\n",
        "    def mapper(self, _, line):\n",
        "        username,  *songs = line.strip().split(', ')\n",
        "        for song in songs:\n",
        "            yield username, 1\n",
        "    \n",
        "    def combiner(self, username, counts):\n",
        "        yield username, sum(counts)\n",
        "    \n",
        "    def reducer(self, username, counts):\n",
        "        yield  (username, sum(counts))\n",
        "    \n",
        "    def reducer_(self, _, counts):\n",
        "        maxcount = 0\n",
        "        maxusers = []\n",
        "        for username, count in counts:\n",
        "            if count > maxcount:\n",
        "                max_count = count\n",
        "                maxusers = [username]\n",
        "            else if count == max_count:\n",
        "                max_users.append(username)\n",
        "        yield max_users\n",
        "    \n",
        "if __name__ == '__main__':\n",
        "    MaxSongPlayers.run()\n"
      ],
      "metadata": {
        "id": "OR71_w_GimG_"
      },
      "execution_count": null,
      "outputs": []
    },
    {
      "cell_type": "code",
      "source": [
        "#Question NO.8\n",
        "from mrjob.job import MRJob\n",
        "\n",
        "class MaxSongsPerDay(MRJob):\n",
        "\n",
        "    def mapper(self, _, line):\n",
        "        username, date, *songs = line.strip().split(', ')\n",
        "        for song in songs:\n",
        "            yield (username, date), 1\n",
        "    \n",
        "    def combiner(self, user_date, counts):\n",
        "        yield user_date, sum(counts)\n",
        "    \n",
        "    def reducer(self, user_date, counts):\n",
        "        yield None, (user_date, sum(counts))\n",
        "    \n",
        "    def reducer_final(self, _, counts):\n",
        "        max_count = 0\n",
        "        max_users = []\n",
        "        for user_date, count in counts:\n",
        "            if count > max_count:\n",
        "                max_count = count\n",
        "                max_users = [user_date[0]]\n",
        "            else if count == max_count:\n",
        "                max_users.append(user_date[0])\n",
        "        yield max_users\n",
        "    \n",
        "\n",
        "if __name__ == '__main__':\n",
        "    MaxSongsPerDay.run()\n",
        "\n"
      ],
      "metadata": {
        "id": "ZT2fB3-njCUi"
      },
      "execution_count": null,
      "outputs": []
    }
  ]
}