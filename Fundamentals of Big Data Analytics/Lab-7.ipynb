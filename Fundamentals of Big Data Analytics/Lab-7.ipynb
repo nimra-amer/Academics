{
  "nbformat": 4,
  "nbformat_minor": 0,
  "metadata": {
    "colab": {
      "provenance": []
    },
    "kernelspec": {
      "name": "python3",
      "display_name": "Python 3"
    },
    "language_info": {
      "name": "python"
    }
  },
  "cells": [
    {
      "cell_type": "code",
      "execution_count": 5,
      "metadata": {
        "id": "jdFv3zDDOkZ9",
        "colab": {
          "base_uri": "https://localhost:8080/"
        },
        "outputId": "32bd6556-9258-49b4-98cc-539124ed6471"
      },
      "outputs": [
        {
          "output_type": "stream",
          "name": "stdout",
          "text": [
            "Looking in indexes: https://pypi.org/simple, https://us-python.pkg.dev/colab-wheels/public/simple/\n",
            "Requirement already satisfied: mrjob in /usr/local/lib/python3.9/dist-packages (0.7.4)\n",
            "Requirement already satisfied: PyYAML>=3.10 in /usr/local/lib/python3.9/dist-packages (from mrjob) (6.0)\n"
          ]
        }
      ],
      "source": [
        "pip install mrjob"
      ]
    },
    {
      "cell_type": "code",
      "source": [
        "#Question_no_4\n",
        "from mrjob.job import MRJob\n",
        "\n",
        "\n",
        "class MRWordFrequencyCount(MRJob):\n",
        "\n",
        "    def mapper(self, _, line):\n",
        "        yield \"chars\", len(line)\n",
        "        yield \"words\", len(line.split())\n",
        "        yield \"lines\", 1\n",
        "\n",
        "    def reducer(self, key, values):\n",
        "        yield key, sum(values)\n",
        "\n",
        "\n",
        "if __name__ == '__main__':\n",
        "     MRWordFrequencyCount.run()\n",
        "  \n",
        "python mr_word_count.py my_file.txt\n"
      ],
      "metadata": {
        "colab": {
          "base_uri": "https://localhost:8080/",
          "height": 130
        },
        "id": "xSgKlEULYqHa",
        "outputId": "4cf683ae-6eaa-4381-f824-45f96c96b94b"
      },
      "execution_count": 16,
      "outputs": [
        {
          "output_type": "error",
          "ename": "SyntaxError",
          "evalue": "ignored",
          "traceback": [
            "\u001b[0;36m  File \u001b[0;32m\"<ipython-input-16-3c3df3c13c27>\"\u001b[0;36m, line \u001b[0;32m17\u001b[0m\n\u001b[0;31m    python 123.txt\u001b[0m\n\u001b[0m           ^\u001b[0m\n\u001b[0;31mSyntaxError\u001b[0m\u001b[0;31m:\u001b[0m invalid syntax\n"
          ]
        }
      ]
    },
    {
      "cell_type": "code",
      "source": [
        "#Question_no_5\n",
        "from mrjob.job import MRJob\n",
        "class Count(MRJob):\n",
        "\n",
        "     def mapper(self, _, line):\n",
        "         for word in line.split():\n",
        "             yield(word, 1)\n",
        "       \n",
        "     def reducer(self, word, counts):\n",
        "         yield(word, sum(counts))\n",
        "  \n",
        "  \n",
        "if __name__ == '__main__':\n",
        "    Count.run()\n",
        "\n",
        "python mr_word_count.py my_file.txt"
      ],
      "metadata": {
        "id": "t8MV-kBYskC_"
      },
      "execution_count": null,
      "outputs": []
    },
    {
      "cell_type": "code",
      "source": [
        "#Quewstion_No_6\n",
        "from mrjob.job import MRJob\n",
        "class Count(MRJob):\n",
        "\n",
        "     def mapper(self, _, line):\n",
        "         for word in line.split():\n",
        "             yield(word, len(word) >= 5)\n",
        "       \n",
        "     def reducer(self, word, counts):\n",
        "         yield(word, sum(counts))\n",
        "  \n",
        "  \n",
        "if __name__ == '__main__':\n",
        "    Count.run()\n",
        "\n",
        "$ python mr_word_count.py my_file.txt"
      ],
      "metadata": {
        "id": "IMLAr9apsmr4"
      },
      "execution_count": null,
      "outputs": []
    }
  ]
}