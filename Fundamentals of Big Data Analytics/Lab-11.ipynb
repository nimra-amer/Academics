{
  "nbformat": 4,
  "nbformat_minor": 0,
  "metadata": {
    "colab": {
      "provenance": []
    },
    "kernelspec": {
      "name": "python3",
      "display_name": "Python 3"
    },
    "language_info": {
      "name": "python"
    }
  },
  "cells": [
    {
      "cell_type": "code",
      "execution_count": 1,
      "metadata": {
        "colab": {
          "base_uri": "https://localhost:8080/"
        },
        "id": "RyIc_t9Vmf5k",
        "outputId": "386d7338-bbf7-4a26-d217-40262fad69cb"
      },
      "outputs": [
        {
          "output_type": "stream",
          "name": "stdout",
          "text": [
            "Looking in indexes: https://pypi.org/simple, https://us-python.pkg.dev/colab-wheels/public/simple/\n",
            "Collecting pyspark\n",
            "  Downloading pyspark-3.4.0.tar.gz (310.8 MB)\n",
            "\u001b[2K     \u001b[90m━━━━━━━━━━━━━━━━━━━━━━━━━━━━━━━━━━━━━━━\u001b[0m \u001b[32m310.8/310.8 MB\u001b[0m \u001b[31m4.6 MB/s\u001b[0m eta \u001b[36m0:00:00\u001b[0m\n",
            "\u001b[?25h  Preparing metadata (setup.py) ... \u001b[?25l\u001b[?25hdone\n",
            "Requirement already satisfied: py4j==0.10.9.7 in /usr/local/lib/python3.10/dist-packages (from pyspark) (0.10.9.7)\n",
            "Building wheels for collected packages: pyspark\n",
            "  Building wheel for pyspark (setup.py) ... \u001b[?25l\u001b[?25hdone\n",
            "  Created wheel for pyspark: filename=pyspark-3.4.0-py2.py3-none-any.whl size=311317145 sha256=ec16f2fc06bada136ae6c53857c028cf38e22bfb38392b2b4eaf18f3e7ac2fea\n",
            "  Stored in directory: /root/.cache/pip/wheels/7b/1b/4b/3363a1d04368e7ff0d408e57ff57966fcdf00583774e761327\n",
            "Successfully built pyspark\n",
            "Installing collected packages: pyspark\n",
            "Successfully installed pyspark-3.4.0\n"
          ]
        }
      ],
      "source": [
        "!pip install pyspark"
      ]
    },
    {
      "cell_type": "code",
      "source": [
        "from pyspark import SparkContext, SparkConf\n",
        "\n",
        "from pyspark.sql import SparkSession\n",
        "\n",
        "conf = SparkConf().setAppName(\"appName\").setMaster(\"local[*]\")\n",
        "sc = SparkContext(conf=conf)\n",
        "\n",
        "spark = SparkSession.builder.getOrCreate()\n"
      ],
      "metadata": {
        "id": "ze0MH09Fm9a2"
      },
      "execution_count": 2,
      "outputs": []
    },
    {
      "cell_type": "code",
      "source": [
        "file = spark.read.csv('movies.csv',header=True)"
      ],
      "metadata": {
        "id": "xdM8Sh_Xsjst"
      },
      "execution_count": 3,
      "outputs": []
    },
    {
      "cell_type": "code",
      "source": [
        "file.show()"
      ],
      "metadata": {
        "colab": {
          "base_uri": "https://localhost:8080/"
        },
        "id": "HflMYk0ytB8r",
        "outputId": "157fdb79-3db7-4ca3-da89-8272e2957970"
      },
      "execution_count": 4,
      "outputs": [
        {
          "output_type": "stream",
          "name": "stdout",
          "text": [
            "+----+------+--------------------+-------+--------------------+-----------------+--------------------+----------+------+-------------------+\n",
            "|Year|Length|               Title|  Genre|               Actor|          Actress|            Director|Popularity|Awards|              Image|\n",
            "+----+------+--------------------+-------+--------------------+-----------------+--------------------+----------+------+-------------------+\n",
            "|1990|   111|Tie Me Up! Tie Me...| Comedy|     BanderasAntonio|    AbrilVictoria|      AlmodóvarPedro|        68|    No|   NicholasCage.png|\n",
            "|1991|   113|          High Heels| Comedy|          BoséMiguel|    AbrilVictoria|      AlmodóvarPedro|        68|    No|   NicholasCage.png|\n",
            "|1983|   104|        Dead ZoneThe| Horror|   WalkenChristopher|      AdamsBrooke|     CronenbergDavid|        79|    No|   NicholasCage.png|\n",
            "|1979|   122|                Cuba| Action|         ConnerySean|      AdamsBrooke|       LesterRichard|         6|    No|    seanConnery.png|\n",
            "|1978|    94|      Days of Heaven|  Drama|         GereRichard|      AdamsBrooke|      MalickTerrence|        14|    No|   NicholasCage.png|\n",
            "|1983|   140|           Octopussy| Action|          MooreRoger|        AdamsMaud|            GlenJohn|        68|    No|   NicholasCage.png|\n",
            "|1984|   101|        Target Eagle| Action|        ConnorsChuck|        AdamsMaud|LomaJosé Antonio ...|        14|    No|   NicholasCage.png|\n",
            "|1989|    99|American Angels: ...|  Drama|     BergenRobert D.|       AdamsTrudy|    SebastianBeverly|        28|    No|   NicholasCage.png|\n",
            "|1985|   104|              Subway|  Drama|  LambertChristopher|   AdjaniIsabelle|           BessonLuc|         6|    No|   NicholasCage.png|\n",
            "|1990|   149|     Camille Claudel|  Drama|     DepardieuGérard|   AdjaniIsabelle|        NuyttenBruno|        32|    No|   NicholasCage.png|\n",
            "|1982|   188| Fanny and Alexander|  Drama|       AhlstedtBörje|AdolphsonKristina|       BergmanIngmar|        81|   Yes|        Bergman.png|\n",
            "|1982|   117|Tragedy of a Ridi...|  Drama|         TognazziUgo|       AimeeAnouk|  BertolucciBernardo|        17|    No|   NicholasCage.png|\n",
            "|1966|   103|     A Man & a Woman|  Drama|TrintignantJean-L...|       AimeeAnouk|       LelouchClaude|        46|   Yes|   NicholasCage.png|\n",
            "|1986|   112|A Man & a Woman: ...|  Drama|TrintignantJean-L...|       AimeeAnouk|       LelouchClaude|        49|    No|   NicholasCage.png|\n",
            "|1966|   103|Un Hombre y una M...|  Drama|TrintignantJean-L...|       AimeeAnouk|       LelouchClaude|         6|   Yes|   NicholasCage.png|\n",
            "|1985|   112|   Official StoryThe|  Drama|       AlterioHector|    AleandroNorma|          PuenzoLuiz|        39|   Yes|   NicholasCage.png|\n",
            "|1976|   150|Lindbergh Kidnapp...|  Drama|      HopkinsAnthony|  AlexanderDenise|           KulikBuzz|        51|    No| AnthonyHopkins.png|\n",
            "|1929|    84|           Blackmail|Mystery|         LongdenJohn|       AlgoodSara|     HitchcockAlfred|         2|    No|alfredHitchcock.png|\n",
            "|1963|   109|      Donovan's Reef| Comedy|           WayneJohn|   AllenElizabeth|            FordJohn|        62|    No|      johnWayne.png|\n",
            "|1988|   110|Tucker: The Man &...|  Drama|         BridgesJeff|        AllenJoan| CoppolaFrancis Ford|        68|    No|   NicholasCage.png|\n",
            "+----+------+--------------------+-------+--------------------+-----------------+--------------------+----------+------+-------------------+\n",
            "only showing top 20 rows\n",
            "\n"
          ]
        }
      ]
    },
    {
      "cell_type": "code",
      "source": [
        "#Question no.1\n",
        "result = file.filter(file.Awards == 'Yes')\n",
        "result_ = result.filter(file.Genre == 'Action')\n",
        "result_final = result_.select(result_.Title , result_.Year , result_.Director)\n",
        "result_final.show()"
      ],
      "metadata": {
        "colab": {
          "base_uri": "https://localhost:8080/"
        },
        "id": "JmJ0i6DCvc7r",
        "outputId": "bedb271b-28e6-4326-960b-7f9d338ef235"
      },
      "execution_count": 5,
      "outputs": [
        {
          "output_type": "stream",
          "name": "stdout",
          "text": [
            "+-----+----+--------+\n",
            "|Title|Year|Director|\n",
            "+-----+----+--------+\n",
            "+-----+----+--------+\n",
            "\n"
          ]
        }
      ]
    },
    {
      "cell_type": "code",
      "source": [
        "#Question No.2\n",
        "final_result = result.select(result.Title , result.Director)\n",
        "final_result.show()"
      ],
      "metadata": {
        "colab": {
          "base_uri": "https://localhost:8080/"
        },
        "id": "5ZmcztaNxsZz",
        "outputId": "72ab0a2c-ebcf-452b-8e71-bde219639e32"
      },
      "execution_count": 6,
      "outputs": [
        {
          "output_type": "stream",
          "name": "stdout",
          "text": [
            "+--------------------+-------------------+\n",
            "|               Title|           Director|\n",
            "+--------------------+-------------------+\n",
            "| Fanny and Alexander|      BergmanIngmar|\n",
            "|     A Man & a Woman|      LelouchClaude|\n",
            "|Un Hombre y una M...|      LelouchClaude|\n",
            "|   Official StoryThe|         PuenzoLuiz|\n",
            "|   Wild Strawberries|      BergmanIngmar|\n",
            "|Through a Glass D...|      BergmanIngmar|\n",
            "|    Cries & Whispers|      BergmanIngmar|\n",
            "|   Sound of MusicThe|         WiseRobert|\n",
            "|     Babette's Feast|        AxelGabriel|\n",
            "|Murder on the Ori...|        LumetSidney|\n",
            "|     Elephant ManThe|         LynchDavid|\n",
            "|E. T. The Extra-T...|    SpielbergSteven|\n",
            "|              Misery|          ReinerRob|\n",
            "|              Gandhi|AttenboroughRichard|\n",
            "|       Autumn Sonata|      BergmanIngmar|\n",
            "|            Gaslight|        CukorGeorge|\n",
            "|A Woman Called Golda|         GibsonAlan|\n",
            "|           Anastasia|      LitvakAnatole|\n",
            "|       Cactus Flower|           SaksGene|\n",
            "|             Amadeus|        FormanMilos|\n",
            "+--------------------+-------------------+\n",
            "only showing top 20 rows\n",
            "\n"
          ]
        }
      ]
    },
    {
      "cell_type": "code",
      "source": [
        "#Question No.3\n",
        "popular = file.sort(file.Popularity.desc())\n",
        "popular_final = popular.filter(popular.Awards == 'No')\n",
        "popular_final.select(popular_final.Title , popular_final.Popularity).show(10)"
      ],
      "metadata": {
        "colab": {
          "base_uri": "https://localhost:8080/"
        },
        "id": "F0jIGyCF1gTx",
        "outputId": "4cfa69ca-37f4-4204-d216-0b13d29533f6"
      },
      "execution_count": 7,
      "outputs": [
        {
          "output_type": "stream",
          "name": "stdout",
          "text": [
            "+--------------------+----------+\n",
            "|               Title|Popularity|\n",
            "+--------------------+----------+\n",
            "|        Tango & Cash|         9|\n",
            "|  Back to the Future|         9|\n",
            "|Masque of the Red...|         9|\n",
            "|Eighty-Four Chari...|         9|\n",
            "|        Judge Priest|         9|\n",
            "|           Dead-Bang|         9|\n",
            "|               Glitz|         9|\n",
            "|            Morituri|         9|\n",
            "|Naked Gun: From t...|         9|\n",
            "|        Boxing Babes|         9|\n",
            "+--------------------+----------+\n",
            "only showing top 10 rows\n",
            "\n"
          ]
        }
      ]
    },
    {
      "cell_type": "code",
      "source": [
        "#Question No.4\n",
        "popular = file.sort(file.Popularity.asc())\n",
        "popular_final = popular.filter(popular.Year < '1980')\n",
        "popular_final.select(popular_final.Title , popular_final.Popularity , popular_final.Year).show(10)"
      ],
      "metadata": {
        "colab": {
          "base_uri": "https://localhost:8080/"
        },
        "id": "GDqHrp_Y4xT5",
        "outputId": "0d5036ef-75f3-4083-eff8-07df61541703"
      },
      "execution_count": 8,
      "outputs": [
        {
          "output_type": "stream",
          "name": "stdout",
          "text": [
            "+------------------+----------+----+\n",
            "|             Title|Popularity|Year|\n",
            "+------------------+----------+----+\n",
            "|   White Lightning|      null|1953|\n",
            "|      Drop KickThe|      null|1927|\n",
            "|      Desert Rider|      null|1923|\n",
            "| Bank on the Stars|      null|1954|\n",
            "|           Shalako|         0|1968|\n",
            "|           Airport|         0|1970|\n",
            "|     Anna Christie|         0|1930|\n",
            "|Shout at the Devil|         0|1976|\n",
            "| Tales of Tomorrow|         0|1953|\n",
            "|        Indiscreet|         1|1958|\n",
            "+------------------+----------+----+\n",
            "only showing top 10 rows\n",
            "\n"
          ]
        }
      ]
    },
    {
      "cell_type": "code",
      "source": [
        "#Question No.5\n",
        "from pyspark.sql.functions import col\n",
        "integer = file.select(col(\"Length\").cast('int').alias('Length') , file.Genre)\n",
        "avg_length = integer.groupBy('Genre').avg('Length')\n",
        "avg_length.show()\n"
      ],
      "metadata": {
        "colab": {
          "base_uri": "https://localhost:8080/"
        },
        "id": "IrjSF2Yi6KKy",
        "outputId": "d19f110f-de79-401d-a1b3-a92b1067763d"
      },
      "execution_count": 11,
      "outputs": [
        {
          "output_type": "stream",
          "name": "stdout",
          "text": [
            "+---------------+------------------+\n",
            "|          Genre|       avg(Length)|\n",
            "+---------------+------------------+\n",
            "|          Crime|              66.0|\n",
            "|        Romance|             127.0|\n",
            "|      Adventure|             119.0|\n",
            "|           null|             120.5|\n",
            "|          Drama|113.30455259026688|\n",
            "|            War|         116.90625|\n",
            "|        Fantasy|             102.0|\n",
            "|        Mystery|103.00990099009901|\n",
            "|          Music|100.48780487804878|\n",
            "|Science Fiction|106.47368421052632|\n",
            "|         Horror| 93.92727272727272|\n",
            "|          Short|              40.0|\n",
            "|        Western|  93.0091743119266|\n",
            "|         Comedy| 96.50540540540541|\n",
            "|         Action|             104.5|\n",
            "|       Westerns|             124.8|\n",
            "+---------------+------------------+\n",
            "\n"
          ]
        }
      ]
    },
    {
      "cell_type": "code",
      "source": [
        "#Question No.6\n",
        "from pyspark.sql.functions import count\n",
        "Comedy = file.filter(file.Genre == 'Comedy')\n",
        "pair = Comedy.groupBy('Actor' , 'Actress').agg(count('*').alias('number'))\n",
        "pairs_final = pair.filter(col('number') > 3)\n",
        "\n",
        "pairs_final.show()"
      ],
      "metadata": {
        "colab": {
          "base_uri": "https://localhost:8080/"
        },
        "id": "d-QrwCOLXbra",
        "outputId": "0185dc7f-7517-4fbd-fc62-3177807345a8"
      },
      "execution_count": 13,
      "outputs": [
        {
          "output_type": "stream",
          "name": "stdout",
          "text": [
            "+-------------+----------------+------+\n",
            "|        Actor|         Actress|number|\n",
            "+-------------+----------------+------+\n",
            "|ChapmanGraham|            null|     6|\n",
            "| TracySpencer|HepburnKatharine|     6|\n",
            "|  MurphyEddie|            null|     4|\n",
            "|   CleeseJohn|            null|     4|\n",
            "| SellersPeter|            null|    11|\n",
            "|   AllenWoody|     KeatonDiane|     5|\n",
            "|  MartinSteve|            null|     4|\n",
            "|WilliamsRobin|            null|     5|\n",
            "+-------------+----------------+------+\n",
            "\n"
          ]
        }
      ]
    },
    {
      "cell_type": "code",
      "source": [
        "#Question No.7\n",
        "from pyspark.sql.functions import collect_set , array_contains\n",
        "\n",
        "Selected_Genre = file.filter(col('Genre').isin(['Comedy', 'Drama']))\n",
        "Actors = Selected_Genre.groupBy('Actor').agg(collect_set('Genre').alias('genres'))\n",
        "\n",
        "comedy_drama_actors = Actors.filter(array_contains('genres', 'Comedy') & array_contains('genres', 'Drama')).select('Actor')\n",
        "comedy_drama_actors.show()\n"
      ],
      "metadata": {
        "colab": {
          "base_uri": "https://localhost:8080/"
        },
        "id": "xfgVi9h5YmvG",
        "outputId": "45d0f220-d09c-4a77-d495-394eb41f379e"
      },
      "execution_count": 18,
      "outputs": [
        {
          "output_type": "stream",
          "name": "stdout",
          "text": [
            "+-----------------+\n",
            "|            Actor|\n",
            "+-----------------+\n",
            "|   AdolphsonEdvin|\n",
            "|      AielloDanny|\n",
            "|       AllenWoody|\n",
            "|     BeattyWarren|\n",
            "|BjörnstrandGunnar|\n",
            "|     BoyerCharles|\n",
            "|     BrandoMarlon|\n",
            "|      BridgesJeff|\n",
            "|        CaanJames|\n",
            "|      CageNicolas|\n",
            "|     CaineMichael|\n",
            "|       CleeseJohn|\n",
            "|      ConnerySean|\n",
            "|        CruiseTom|\n",
            "|       CusackJohn|\n",
            "|    De NiroRobert|\n",
            "|  DepardieuGérard|\n",
            "|    DouglasMelvyn|\n",
            "|   DouglasMichael|\n",
            "|  DreyfussRichard|\n",
            "+-----------------+\n",
            "only showing top 20 rows\n",
            "\n"
          ]
        }
      ]
    },
    {
      "cell_type": "code",
      "source": [
        "#Question No.8\n",
        "Selected_Genre = file.filter(col('Genre').isin(['Comedy', 'Drama']))\n",
        "Actors = Selected_Genre.groupBy('Actor').agg(collect_set('Genre').alias('genres'))\n",
        "\n",
        "comedy_drama_actors = Actors.filter(array_contains('genres', 'Comedy') | array_contains('genres', 'Drama')).select('Actor')\n",
        "comedy_drama_actors.show()\n"
      ],
      "metadata": {
        "colab": {
          "base_uri": "https://localhost:8080/"
        },
        "id": "oZfBBm85ZuNU",
        "outputId": "253a3500-943c-4382-c1bd-5353432a715b"
      },
      "execution_count": 20,
      "outputs": [
        {
          "output_type": "stream",
          "name": "stdout",
          "text": [
            "+------------------+\n",
            "|             Actor|\n",
            "+------------------+\n",
            "|  AbrahamF. Murray|\n",
            "|    AdolphsonEdvin|\n",
            "|       AherneBrian|\n",
            "|     AhlstedtBörje|\n",
            "|       AielloDanny|\n",
            "|         AkanTarik|\n",
            "|    AlbaicínRafael|\n",
            "|      AlbertEdward|\n",
            "|          AldaAlan|\n",
            "|        AllenWoody|\n",
            "|     AlterioHector|\n",
            "|     AndersonKevin|\n",
            "|   AnderssonWiktor|\n",
            "|AngladeJean-Hughes|\n",
            "|       AnneseFrank|\n",
            "|        ApfelOscar|\n",
            "|     ArestrupNiels|\n",
            "|         ArkinAlan|\n",
            "|   ArmstrongRobert|\n",
            "|     AssanteArmand|\n",
            "+------------------+\n",
            "only showing top 20 rows\n",
            "\n"
          ]
        }
      ]
    },
    {
      "cell_type": "code",
      "source": [
        "#Question No.9\n",
        "Comedy = file.filter(file.Genre == 'Comedy')\n",
        "Actors = Comedy.select(file.Actor).distinct()\n",
        "Actors_final = file.select(file.Actor).distinct().join(Actors, on='Actor', how='left_anti')\n",
        "\n",
        "Actors_final.show()"
      ],
      "metadata": {
        "colab": {
          "base_uri": "https://localhost:8080/"
        },
        "id": "IrwKDZBbaA3K",
        "outputId": "b5b787b0-f9cc-4e14-fcb7-9ec252906249"
      },
      "execution_count": 25,
      "outputs": [
        {
          "output_type": "stream",
          "name": "stdout",
          "text": [
            "+---------------+\n",
            "|          Actor|\n",
            "+---------------+\n",
            "|   CottenJoseph|\n",
            "|       BrownTom|\n",
            "|     DillonMatt|\n",
            "| ShimuraTakashi|\n",
            "|   LintDerek De|\n",
            "|  LancasterBurt|\n",
            "|    RomeroCesar|\n",
            "|  StockwellDean|\n",
            "|    UrichRobert|\n",
            "|       DavisGuy|\n",
            "|    BridgesBeau|\n",
            "|    KattWilliam|\n",
            "|  EnglundRobert|\n",
            "|      PriceMarc|\n",
            "|CapolicchioLino|\n",
            "|     FondaPeter|\n",
            "| TownsendRobert|\n",
            "|  ChesneyArthur|\n",
            "|      BoyceAlan|\n",
            "|       LoneJohn|\n",
            "+---------------+\n",
            "only showing top 20 rows\n",
            "\n"
          ]
        }
      ]
    },
    {
      "cell_type": "code",
      "source": [
        "#Question No.10\n",
        "from pyspark.sql.functions import mean, max, min\n",
        "actor_ranking = file.groupBy('Actor').agg(mean('Popularity').alias('Mean'),max('Popularity').alias('Maximum'),min('Popularity').alias('Minimum'))\n",
        "\n",
        "actor_ranking.show()\n"
      ],
      "metadata": {
        "colab": {
          "base_uri": "https://localhost:8080/"
        },
        "id": "x3xgfc_8agbs",
        "outputId": "51ce1b7e-b365-4a45-8584-83501c024083"
      },
      "execution_count": 32,
      "outputs": [
        {
          "output_type": "stream",
          "name": "stdout",
          "text": [
            "+------------------+-----------------+-------+-------+\n",
            "|             Actor|             Mean|Maximum|Minimum|\n",
            "+------------------+-----------------+-------+-------+\n",
            "|              null|60.42857142857143|     77|     32|\n",
            "|        AbelAlfred|             49.0|     49|     49|\n",
            "|  AbrahamF. Murray|              6.0|      6|      6|\n",
            "|    AdolphsonEdvin|             49.0|     72|     26|\n",
            "|       AherneBrian|             57.0|     57|     57|\n",
            "|     AhlstedtBörje|             81.0|     81|     81|\n",
            "|       AielloDanny|             12.5|      5|     20|\n",
            "|         AkanTarik|             53.0|     53|     53|\n",
            "|    AlbaicínRafael|             55.0|     55|     55|\n",
            "|      AlbertEdward|             82.0|     82|     82|\n",
            "|          AldaAlan|             32.5|     53|     12|\n",
            "|         AllenBill|             75.0|     75|     75|\n",
            "|        AllenWoody|51.27272727272727|     84|     12|\n",
            "|     AlterioHector|             39.0|     39|     39|\n",
            "|         AmecheDon|             45.0|     45|     45|\n",
            "|     AndersonKevin|             53.0|     53|     53|\n",
            "|   AnderssonWiktor|             66.0|     66|     66|\n",
            "|AngladeJean-Hughes|             71.0|     71|     71|\n",
            "|       AnneseFrank|             45.0|     45|     45|\n",
            "|        ApfelOscar|             66.0|     66|     66|\n",
            "+------------------+-----------------+-------+-------+\n",
            "only showing top 20 rows\n",
            "\n"
          ]
        }
      ]
    },
    {
      "cell_type": "code",
      "source": [
        "#Question No.11\n",
        "from pyspark.sql.functions import floor\n",
        "decade_movies = file.withColumn('Decade', floor(file.Year / 10) * 10)\n",
        "decade_count = decade_movies.groupBy('Decade').count()\n",
        "decade_count = decade_count.filter(col('Decade') >= 1960)\n",
        "\n",
        "decade_count.show()\n"
      ],
      "metadata": {
        "colab": {
          "base_uri": "https://localhost:8080/"
        },
        "id": "GXW9unOYcXsr",
        "outputId": "b78fb246-0f4a-49f2-df07-635b7d16aebc"
      },
      "execution_count": 44,
      "outputs": [
        {
          "output_type": "stream",
          "name": "stdout",
          "text": [
            "+------+-----+\n",
            "|Decade|count|\n",
            "+------+-----+\n",
            "|  1960|  154|\n",
            "|  1970|  244|\n",
            "|  1980|  607|\n",
            "|  1990|  345|\n",
            "+------+-----+\n",
            "\n"
          ]
        }
      ]
    },
    {
      "cell_type": "code",
      "source": [
        "#Question No.12\n",
        "year_count = file.groupBy('Year').count()\n",
        "year_count.show()\n"
      ],
      "metadata": {
        "colab": {
          "base_uri": "https://localhost:8080/"
        },
        "id": "mg4sr15ucdR0",
        "outputId": "e09947c1-c7f3-4dc5-89b8-930954a5c5e2"
      },
      "execution_count": 34,
      "outputs": [
        {
          "output_type": "stream",
          "name": "stdout",
          "text": [
            "+----+-----+\n",
            "|Year|count|\n",
            "+----+-----+\n",
            "|1953|   16|\n",
            "|1957|   16|\n",
            "|1987|  102|\n",
            "|1956|   15|\n",
            "|1936|    6|\n",
            "|1958|   12|\n",
            "|1943|    8|\n",
            "|1972|   24|\n",
            "|1931|    9|\n",
            "|1988|   96|\n",
            "|1926|    4|\n",
            "|1938|    8|\n",
            "|1932|    8|\n",
            "|1977|   29|\n",
            "|1971|   23|\n",
            "|1984|   38|\n",
            "|1982|   37|\n",
            "|1941|    7|\n",
            "|1965|   12|\n",
            "|1962|   15|\n",
            "+----+-----+\n",
            "only showing top 20 rows\n",
            "\n"
          ]
        }
      ]
    },
    {
      "cell_type": "code",
      "source": [
        "#Question No.13\n",
        "long_movies = file.filter(file.Length > 100)\n",
        "year = long_movies.groupBy('Year', 'Genre').count()\n",
        "\n",
        "year.show()\n"
      ],
      "metadata": {
        "colab": {
          "base_uri": "https://localhost:8080/"
        },
        "id": "Q0WKe-YWcfQR",
        "outputId": "64b425e7-e281-468e-9bad-489a5c7d00f8"
      },
      "execution_count": 42,
      "outputs": [
        {
          "output_type": "stream",
          "name": "stdout",
          "text": [
            "+----+---------------+-----+\n",
            "|Year|          Genre|count|\n",
            "+----+---------------+-----+\n",
            "|1984|         Comedy|    4|\n",
            "|1967|          Drama|    3|\n",
            "|1958|          Drama|    3|\n",
            "|1968|          Music|    1|\n",
            "|1990|        Mystery|    4|\n",
            "|1992|      Adventure|    1|\n",
            "|1933|          Drama|    1|\n",
            "|1982|Science Fiction|    1|\n",
            "|1978|Science Fiction|    1|\n",
            "|1951|            War|    1|\n",
            "|1964|       Westerns|    1|\n",
            "|1988|         Action|    3|\n",
            "|1975|         Action|    4|\n",
            "|1992|          Drama|   18|\n",
            "|1969|        Western|    5|\n",
            "|1951|        Mystery|    1|\n",
            "|1962|        Mystery|    1|\n",
            "|1950|        Mystery|    1|\n",
            "|1980|        Mystery|    1|\n",
            "|1990|        Western|    1|\n",
            "+----+---------------+-----+\n",
            "only showing top 20 rows\n",
            "\n"
          ]
        }
      ]
    },
    {
      "cell_type": "code",
      "source": [
        "#Question No.14\n",
        "movie = file.filter(file.Year < 1990)\n",
        "movie_final = movie.orderBy('Title')\n",
        "movie_final.show()\n"
      ],
      "metadata": {
        "colab": {
          "base_uri": "https://localhost:8080/"
        },
        "id": "C4JpAtd7ch1h",
        "outputId": "5a227dc1-ccb9-437e-c56f-3ccc4c97f241"
      },
      "execution_count": 40,
      "outputs": [
        {
          "output_type": "stream",
          "name": "stdout",
          "text": [
            "+----+------+--------------------+---------------+--------------------+-----------------+-------------------+----------+------+-------------------+\n",
            "|Year|Length|               Title|          Genre|               Actor|          Actress|           Director|Popularity|Awards|              Image|\n",
            "+----+------+--------------------+---------------+--------------------+-----------------+-------------------+----------+------+-------------------+\n",
            "|1968|   139|2001: A Space Ody...|Science Fiction|          DulleaKeir|   TyzackMargaret|     KubrickStanley|        83|    No|   NicholasCage.png|\n",
            "|1982|    92|             48 Hrs.|         Action|           NolteNick|   O'TooleAnnette|         HillWalter|        67|    No|   NicholasCage.png|\n",
            "|1963|   138|               8 1/2|          Drama| MastroianniMarcello| CardinaleClaudia|    FelliniFederico|        80|   Yes|   NicholasCage.png|\n",
            "|1966|    95|A Big Hand for th...|         Comedy|          FondaHenry|   WoodwardJoanne|        CookFielder|        12|    No|   NicholasCage.png|\n",
            "|1962|   105|  A Child Is Waiting|          Drama|       LancasterBurt|      GarlandJudy|     CassavetesJohn|        60|    No|  burtLancaster.png|\n",
            "|1985|   118|A Chorus LineThe ...|          Music|      DouglasMichael|    LandersAudrey|AttenboroughRichard|        71|    No|   NicholasCage.png|\n",
            "|1971|   138|  A Clockwork Orange|Science Fiction|     McDowellMalcolm|             null|     KubrickStanley|        83|   Yes|   NicholasCage.png|\n",
            "|1967|   100|A Coeur Joie(Head...|         Action|     TerzieffLaurent|   BardotBrigitte|   BourguignonSerge|        54|    No| brigitteBardot.png|\n",
            "|1988|   122|   A Cry in the Dark|          Drama|            NeillSam|      StreepMeryl|       SchepisiFred|        67|    No|    merylStreep.png|\n",
            "|1989|    97|  A Dry White Season|          Drama|    SutherlandDonald|    SarandonSusan|        PalcyEuzhan|        71|    No|   NicholasCage.png|\n",
            "|1966|   104|      A Fine Madness|         Comedy|         ConnerySean|   WoodwardJoanne|      KershnerIrvin|         6|    No|    seanConnery.png|\n",
            "|1988|   108| A Fish Called Wanda|         Comedy|          CleeseJohn|  CurtisJamie Lee|    CrichtonCharles|         7|   Yes|   NicholasCage.png|\n",
            "|1964|   102|A Fistful of Dollars|       Westerns|       EastwoodClint|VolonteGian Maria|        LeoneSergio|        61|    No|  clintEastwood.png|\n",
            "|1943|  null|     A Guy Named Joe|          Drama|        TracySpencer|       DunneIrene|      FlemingVictor|        42|    No|   spencerTracy.png|\n",
            "|1954|    96|    A Lesson in Love|         Comedy|   BjörnstrandGunnar|      DahlbeckEva|      BergmanIngmar|        48|    No|        Bergman.png|\n",
            "|1977|   110|A Little Night Music|          Music|           CariouLen|  TaylorElizabeth|       PrinceHarold|        61|    No|elizabethTaylor.png|\n",
            "|1966|   103|     A Man & a Woman|          Drama|TrintignantJean-L...|       AimeeAnouk|      LelouchClaude|        46|   Yes|   NicholasCage.png|\n",
            "|1986|   112|A Man & a Woman: ...|          Drama|TrintignantJean-L...|       AimeeAnouk|      LelouchClaude|        49|    No|   NicholasCage.png|\n",
            "|1966|   120|A Man for All Sea...|          Drama|          ShawRobert|      HillerWendy|      ZinnemannFred|        20|   Yes|   NicholasCage.png|\n",
            "|1976|    97|    A Matter of Time|          Drama|        BoyerCharles|     MinnelliLiza|   MinnelliVincente|        70|    No|   NicholasCage.png|\n",
            "+----+------+--------------------+---------------+--------------------+-----------------+-------------------+----------+------+-------------------+\n",
            "only showing top 20 rows\n",
            "\n"
          ]
        }
      ]
    },
    {
      "cell_type": "code",
      "source": [
        "#Question No.15\n",
        "from pyspark.sql.functions import length\n",
        "long_length = file.filter(length(file.Title) > 50)\n",
        "long_length.show()\n"
      ],
      "metadata": {
        "colab": {
          "base_uri": "https://localhost:8080/"
        },
        "id": "kk2YkelycjTj",
        "outputId": "f472e116-fa52-4500-8fda-b07bb4954e82"
      },
      "execution_count": 38,
      "outputs": [
        {
          "output_type": "stream",
          "name": "stdout",
          "text": [
            "+----+------+--------------------+------+----------+--------------+--------+----------+------+----------------+\n",
            "|Year|Length|               Title| Genre|     Actor|       Actress|Director|Popularity|Awards|           Image|\n",
            "+----+------+--------------------+------+----------+--------------+--------+----------+------+----------------+\n",
            "|1979|    90|Fawlty TowersGour...|Comedy|CleeseJohn|ScalesPrunella|    null|        46|    No|NicholasCage.png|\n",
            "+----+------+--------------------+------+----------+--------------+--------+----------+------+----------------+\n",
            "\n"
          ]
        }
      ]
    }
  ]
}