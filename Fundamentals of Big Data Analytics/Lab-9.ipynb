{
  "nbformat": 4,
  "nbformat_minor": 0,
  "metadata": {
    "colab": {
      "provenance": []
    },
    "kernelspec": {
      "name": "python3",
      "display_name": "Python 3"
    },
    "language_info": {
      "name": "python"
    }
  },
  "cells": [
    {
      "cell_type": "code",
      "execution_count": null,
      "metadata": {
        "id": "OqNcSx6vguwi"
      },
      "outputs": [],
      "source": [
        "#Question NO.1\n",
        "# Mapper function\n",
        "\n",
        "from mrjob.job import MRJob\n",
        "\n",
        "class Count(MRJob):\n",
        "  def mapper(self , _, file):\n",
        "    courseId = file['CourseId']\n",
        "    studentId = file['StudentId']\n",
        "    accesses = file['Accessed'].split(\",\")\n",
        "    year = file['Date'][-4:] \n",
        "\n",
        "    for i in accessed:\n",
        "        yield (studentId, courseId, accesses , year), 1\n",
        "\n",
        "    def combiner(key, count):\n",
        "        yield key, sum(count)\n",
        "\n",
        "    def reducer(key, count):\n",
        "        total = sum(count)\n",
        "        yield key, total\n",
        "\n",
        "if __name__ == '__main__':\n",
        "    Count.run()\n"
      ]
    },
    {
      "cell_type": "code",
      "source": [
        "#Question NO.2\n",
        "\n",
        "class Distinct(MrJob):\n",
        "\n",
        "  def mapper(self , _, file):\n",
        "    courseId = file['CourseId']\n",
        "    studentId = file['StudentId']\n",
        "    yield courseId, studentId\n",
        "\n",
        "  def reducer(key, count):\n",
        "    distinct_students = set(count)\n",
        "    yield key, len(distinct_students)\n",
        "\n",
        "\n",
        "\n",
        "if __name__ == '__main__':\n",
        "    Distinct.run()\n",
        "\n"
      ],
      "metadata": {
        "id": "jFKetgMKh-6O"
      },
      "execution_count": null,
      "outputs": []
    },
    {
      "cell_type": "code",
      "source": [
        "#Question NO.3\n",
        "\n",
        "class Time_Spent(MrJob):\n",
        "\n",
        "   def mapper(self , _, file):\n",
        "     courseId = file['CourseId']\n",
        "     studentId = file['StudentId']\n",
        "     login_time = file['Login']\n",
        "     logout_time = file['Logout']\n",
        "     semester = file['Sem']\n",
        "    \n",
        "     if semester == 'Spring2020':\n",
        "        yield studentId, (courseId, login_time, logout_time)\n",
        "\n",
        "    def reducer(key, values):\n",
        "      courses = []\n",
        "      total_time = 0\n",
        "      for value in values:\n",
        "         courseId = value[0]\n",
        "         login_time = value[1]\n",
        "         logout_time = value[2]\n",
        "        \n",
        "      time_spent = (logout_time - login_time).total_seconds() / 60\n",
        "      total_time = total_time + time_spent\n",
        "        \n",
        "      if courseId in courses:\n",
        "         courses[courseId] = total_time + time_spent\n",
        "      else:\n",
        "         courses[courseId] = time_spent\n",
        "    \n",
        "      for courseId, time_spent in courses.items():\n",
        "        percentage = (time_spent / total_time) * 100\n",
        "        yield key, (courseId, percentage)\n",
        "\n",
        "\n",
        "\n",
        "if __name__ == '__main__':\n",
        "    Time_Spent.run()\n"
      ],
      "metadata": {
        "id": "QQE-uNDWYvl5"
      },
      "execution_count": null,
      "outputs": []
    }
  ]
}