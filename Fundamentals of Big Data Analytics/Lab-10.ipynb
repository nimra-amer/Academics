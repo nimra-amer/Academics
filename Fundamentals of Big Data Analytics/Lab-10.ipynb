{
  "nbformat": 4,
  "nbformat_minor": 0,
  "metadata": {
    "colab": {
      "provenance": []
    },
    "kernelspec": {
      "name": "python3",
      "display_name": "Python 3"
    },
    "language_info": {
      "name": "python"
    }
  },
  "cells": [
    {
      "cell_type": "code",
      "execution_count": null,
      "metadata": {
        "colab": {
          "base_uri": "https://localhost:8080/"
        },
        "id": "UyvZoXp1jQan",
        "outputId": "07524ae2-a4ff-4aa2-d60e-058c11ed9a72"
      },
      "outputs": [
        {
          "output_type": "stream",
          "name": "stdout",
          "text": [
            "Looking in indexes: https://pypi.org/simple, https://us-python.pkg.dev/colab-wheels/public/simple/\n",
            "Collecting pyspark\n",
            "  Downloading pyspark-3.4.0.tar.gz (310.8 MB)\n",
            "\u001b[2K     \u001b[90m━━━━━━━━━━━━━━━━━━━━━━━━━━━━━━━━━━━━━━━\u001b[0m \u001b[32m310.8/310.8 MB\u001b[0m \u001b[31m3.9 MB/s\u001b[0m eta \u001b[36m0:00:00\u001b[0m\n",
            "\u001b[?25h  Preparing metadata (setup.py) ... \u001b[?25l\u001b[?25hdone\n",
            "Requirement already satisfied: py4j==0.10.9.7 in /usr/local/lib/python3.9/dist-packages (from pyspark) (0.10.9.7)\n",
            "Building wheels for collected packages: pyspark\n",
            "  Building wheel for pyspark (setup.py) ... \u001b[?25l\u001b[?25hdone\n",
            "  Created wheel for pyspark: filename=pyspark-3.4.0-py2.py3-none-any.whl size=311317145 sha256=15d1f44be481edd2e9f29c1ef389b1442f00a9782befed1a70d012ab0c29801f\n",
            "  Stored in directory: /root/.cache/pip/wheels/9f/34/a4/159aa12d0a510d5ff7c8f0220abbea42e5d81ecf588c4fd884\n",
            "Successfully built pyspark\n",
            "Installing collected packages: pyspark\n",
            "Successfully installed pyspark-3.4.0\n"
          ]
        }
      ],
      "source": [
        "!pip install pyspark"
      ]
    },
    {
      "cell_type": "code",
      "source": [
        "from pyspark import SparkContext, SparkConf"
      ],
      "metadata": {
        "id": "3_LztdiVjWDP"
      },
      "execution_count": null,
      "outputs": []
    },
    {
      "cell_type": "code",
      "source": [
        "conf = SparkConf().setAppName(\"appName\").setMaster(\"local[*]\")\n",
        "sc = SparkContext(conf=conf)"
      ],
      "metadata": {
        "id": "TdqvAmDcjuFq"
      },
      "execution_count": null,
      "outputs": []
    },
    {
      "cell_type": "code",
      "source": [
        "from datetime import datetime, date\n",
        "import pandas as pd\n",
        "from pyspark.sql import Row\n",
        "\n",
        "from pyspark.sql import SparkSession\n",
        "\n",
        "spark = SparkSession.builder.getOrCreate()\n",
        "\n",
        "df = spark.createDataFrame([\n",
        "    Row(a=1, b=2., c='string1', d=date(2000, 1, 1), e=datetime(2000, 1, 1, 12, 0)),\n",
        "    Row(a=2, b=3., c='string2', d=date(2000, 2, 1), e=datetime(2000, 1, 2, 12, 0)),\n",
        "    Row(a=4, b=5., c='string3', d=date(2000, 3, 1), e=datetime(2000, 1, 3, 12, 0))\n",
        "])\n",
        "df\n"
      ],
      "metadata": {
        "colab": {
          "base_uri": "https://localhost:8080/"
        },
        "id": "8oshsJjcok2J",
        "outputId": "8b6a3702-58c6-43a0-87fe-dc1778a180b8"
      },
      "execution_count": null,
      "outputs": [
        {
          "output_type": "execute_result",
          "data": {
            "text/plain": [
              "DataFrame[a: bigint, b: double, c: string, d: date, e: timestamp]"
            ]
          },
          "metadata": {},
          "execution_count": 4
        }
      ]
    },
    {
      "cell_type": "code",
      "source": [
        "#Question NO.1\n",
        "my_list = list(range(1, 11))\n",
        "print(\"Original list:\", my_list)\n",
        "\n",
        "squared_list = list(map(lambda x: x**2, my_list))\n",
        "print(\"Squared list:\", squared_list)\n"
      ],
      "metadata": {
        "colab": {
          "base_uri": "https://localhost:8080/"
        },
        "id": "cnwriFYnq_q6",
        "outputId": "bf4eaa3d-35e9-4bd2-9a93-61912e0b06d4"
      },
      "execution_count": null,
      "outputs": [
        {
          "output_type": "stream",
          "name": "stdout",
          "text": [
            "Original list: [1, 2, 3, 4, 5, 6, 7, 8, 9, 10]\n",
            "Squared list: [1, 4, 9, 16, 25, 36, 49, 64, 81, 100]\n"
          ]
        }
      ]
    },
    {
      "cell_type": "code",
      "source": [
        "#Question No.2\n",
        "import random\n",
        "random_list = []\n",
        "for i in range(20):\n",
        "    random_list.append(random.randint(1, 100))\n",
        "\n",
        "print(\"Random list:\", random_list)\n",
        "\n",
        "divisible_by_5 = list(filter(lambda x:(x%5 == 0) , random_list))\n",
        "print(\"Updated : \" , divisible_by_5)"
      ],
      "metadata": {
        "colab": {
          "base_uri": "https://localhost:8080/"
        },
        "id": "3eqEl5flnZSE",
        "outputId": "78b6cbc1-626d-42db-bc3a-344c88520b0c"
      },
      "execution_count": null,
      "outputs": [
        {
          "output_type": "stream",
          "name": "stdout",
          "text": [
            "Random list: [80, 6, 72, 6, 21, 15, 77, 23, 36, 34, 76, 6, 63, 53, 80, 64, 31, 8, 49, 26]\n",
            "Updated :  [80, 15, 80]\n"
          ]
        }
      ]
    },
    {
      "cell_type": "code",
      "source": [
        "#Question No.3\n",
        "from pyspark.sql.functions import split,collect_list,col,regexp_extract,length\n",
        "#Part (a)\n",
        "file=spark.read.text('hi.txt')\n",
        "print(\"File \\n\")\n",
        "file.show()\n",
        "\n",
        "#Part(b)\n",
        "print(\"Comments By Each User \\n\")\n",
        "\n",
        "Comments = file.withColumn(\"UserName\", split(col(\"value\"), \", \")[0]).withColumn(\"Comment\", split(col(\"value\"), \", \")[1])\n",
        "Final_Comments = Comments.groupBy(\"UserName\").agg(collect_list(\"Comment\").alias(\"comments\"))\n",
        "Final_Comments.show()\n",
        "\n",
        "#Part(C)\n",
        "print(\"Long Comments > 20 \\n\")\n",
        "\n",
        "Long_Comments = Comments.filter(length(Comments.Comment) > 20).groupBy(\"UserName\").count()\n",
        "Long_Comments.show()\n",
        "\n",
        "#Part(D)\n",
        "print(\"Name starting with English Alphabet \\n\")\n",
        "\n",
        "Name_counts = Final_Comments.select(regexp_extract('UserName', '^[A-Za-z]', 0).alias('first_letter')).groupBy('first_letter').count().orderBy('first_letter')\n",
        "Name_counts.show()\n",
        "\n",
        "#Part(E)\n",
        "Num_Comments = Comments.groupBy(\"UserName\").count()\n",
        "Max_Comment = Num_Comments.orderBy(col(\"count\").desc()).first()[\"UserName\"]\n",
        "\n",
        "print(\"The User With Maximum Number Of Comments Is:\", Max_Comment)\n"
      ],
      "metadata": {
        "id": "lIAWLPOl2C0-",
        "colab": {
          "base_uri": "https://localhost:8080/"
        },
        "outputId": "c24a9a05-9aae-4262-b470-dbf65bacca74"
      },
      "execution_count": null,
      "outputs": [
        {
          "output_type": "stream",
          "name": "stdout",
          "text": [
            "File \n",
            "\n",
            "+--------------------+\n",
            "|               value|\n",
            "+--------------------+\n",
            "|   UserName, Comment|\n",
            "|                    |\n",
            "|Aliya153, Your we...|\n",
            "|Sara2, You need t...|\n",
            "|     Ali45, Good !!!|\n",
            "|Ali45, I will def...|\n",
            "+--------------------+\n",
            "\n",
            "Comments By Each User \n",
            "\n",
            "+--------+--------------------+\n",
            "|UserName|            comments|\n",
            "+--------+--------------------+\n",
            "|UserName|           [Comment]|\n",
            "|   Ali45|[Good !!!, I will...|\n",
            "|Aliya153|[Your website is ...|\n",
            "|   Sara2|[You need to work...|\n",
            "|        |                  []|\n",
            "+--------+--------------------+\n",
            "\n",
            "Long Comments > 20 \n",
            "\n",
            "+--------+-----+\n",
            "|UserName|count|\n",
            "+--------+-----+\n",
            "|   Ali45|    1|\n",
            "|Aliya153|    1|\n",
            "|   Sara2|    1|\n",
            "+--------+-----+\n",
            "\n",
            "Name starting with English Alphabet \n",
            "\n",
            "+------------+-----+\n",
            "|first_letter|count|\n",
            "+------------+-----+\n",
            "|            |    1|\n",
            "|           A|    2|\n",
            "|           S|    1|\n",
            "|           U|    1|\n",
            "+------------+-----+\n",
            "\n",
            "The User With Maximum Number Of Comments Is: Ali45\n"
          ]
        }
      ]
    },
    {
      "cell_type": "code",
      "source": [
        "#Question No.4\n",
        "import nltk\n",
        "from nltk.corpus import stopwords\n",
        "\n",
        "nltk.download('stopwords')\n",
        "stop_words = set(stopwords.words('english'))\n",
        "\n",
        "with open('hi.txt', 'r') as f:\n",
        "    Comments = f.readlines()\n",
        "\n",
        "for comment in Comments:\n",
        "    comment = comment.strip().split(',')[-1].strip() \n",
        "    words = comment.split()  \n",
        "    filtered_words = [word for word in words if word.lower() not in stop_words] \n",
        "    filtered_comment = ' '.join(filtered_words)\n",
        "    print(filtered_comment)\n"
      ],
      "metadata": {
        "colab": {
          "base_uri": "https://localhost:8080/"
        },
        "id": "zhiZB0SW2BFh",
        "outputId": "89015bec-9d1c-48d9-f931-7b729908b192"
      },
      "execution_count": null,
      "outputs": [
        {
          "output_type": "stream",
          "name": "stdout",
          "text": [
            "Comment\n",
            "\n",
            "website superb\n",
            "need work website design\n",
            "Good !!!\n",
            "definitely visit\n"
          ]
        },
        {
          "output_type": "stream",
          "name": "stderr",
          "text": [
            "[nltk_data] Downloading package stopwords to /root/nltk_data...\n",
            "[nltk_data]   Package stopwords is already up-to-date!\n"
          ]
        }
      ]
    }
  ]
}