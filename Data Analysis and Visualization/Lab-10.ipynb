{
  "nbformat": 4,
  "nbformat_minor": 0,
  "metadata": {
    "colab": {
      "provenance": []
    },
    "kernelspec": {
      "name": "ir",
      "display_name": "R"
    },
    "language_info": {
      "name": "R"
    }
  },
  "cells": [
    {
      "cell_type": "markdown",
      "source": [
        "8.1 Power Function\n"
      ],
      "metadata": {
        "id": "WCwWULxRjCi4"
      }
    },
    {
      "cell_type": "code",
      "execution_count": null,
      "metadata": {
        "colab": {
          "base_uri": "https://localhost:8080/"
        },
        "id": "JEpcjqA1gpQ2",
        "outputId": "6ded6257-a002-4e45-e554-fd6bf7679e94"
      },
      "outputs": [
        {
          "output_type": "stream",
          "name": "stdout",
          "text": [
            "[1] 256\n"
          ]
        }
      ],
      "source": [
        "myPower <- function(b , e)\n",
        "{\n",
        "    result <- b^e\n",
        "    print(result)\n",
        "}\n",
        "myPower(2,8)"
      ]
    },
    {
      "cell_type": "markdown",
      "source": [
        "8.2 Array Manipulation"
      ],
      "metadata": {
        "id": "eewHNyWzjIVA"
      }
    },
    {
      "cell_type": "code",
      "source": [
        "subtotal <- function(arr)\n",
        "{\n",
        "  new_arr = numeric(length(arr))\n",
        "  total_sum <-  0\n",
        "  for (i in 1:5)\n",
        "  {\n",
        "     total_sum <- total_sum + arr[i]\n",
        "     new_arr[i] <- total_sum\n",
        "     print(new_arr[i])\n",
        "  }\n",
        "  average <- sum(new_arr)/length(new_arr)\n",
        "  print('Average')\n",
        "  print(average)\n",
        "}\n",
        "\n",
        "array <- c(5.8 , 2.6 , 9.1 , 3.4 ,7.0)\n",
        "subtotal(array)"
      ],
      "metadata": {
        "colab": {
          "base_uri": "https://localhost:8080/"
        },
        "id": "QdDkmn_UjM-m",
        "outputId": "65c952f4-18be-4108-9bed-f5c91a6d10d2"
      },
      "execution_count": null,
      "outputs": [
        {
          "output_type": "stream",
          "name": "stdout",
          "text": [
            "[1] 5.8\n",
            "[1] 8.4\n",
            "[1] 17.5\n",
            "[1] 20.9\n",
            "[1] 27.9\n",
            "[1] \"Average\"\n",
            "[1] 16.1\n"
          ]
        }
      ]
    },
    {
      "cell_type": "markdown",
      "source": [
        "8.3 Counter"
      ],
      "metadata": {
        "id": "xy2Bo35NnqbI"
      }
    },
    {
      "cell_type": "code",
      "source": [
        "counter <- function(arr)\n",
        "{\n",
        "  total <- nchar(gsub(\" \", \"\" , arr))\n",
        "  no_of_spaces <- sum(unlist(gregexpr(\" \" , arr)) >= 0)\n",
        "  char<- unlist(strsplit(arr, \"\"))\n",
        "  chars <- char[characters != \" \"]\n",
        "  upper_case <- length(charas [chars != \" \" & grepl(\"[A-Z]\", charas )])\n",
        "  lower_case <- length(charas [charas  != \" \" & grepl(\"[a-z]\", charas)])\n",
        "\n",
        "  cat('total no.of characters : ',total,'\\n')\n",
        "  cat('Total no.of spaces : ' , no_of_spaces , '\\n')\n",
        "  cat('Total no.of Upper case leters : ' ,upper_case , '\\n')\n",
        "  cat('Total no.of Lower case leters : ' ,lower_case)\n",
        "\n",
        "}\n",
        "\n",
        "array <- \"Hello, I am a student of FAST University.\"\n",
        "counter(array)"
      ],
      "metadata": {
        "colab": {
          "base_uri": "https://localhost:8080/"
        },
        "id": "cLggnHmintbI",
        "outputId": "f951d93c-3b30-4e82-d48d-ce66888b0475"
      },
      "execution_count": null,
      "outputs": [
        {
          "output_type": "stream",
          "name": "stdout",
          "text": [
            "total no.of characters :  34 \n",
            "Total no.of spaces :  7 \n",
            "Total no.of Upper case leters :  7 \n",
            "Total no.of Lower case leters :  25"
          ]
        }
      ]
    },
    {
      "cell_type": "markdown",
      "source": [
        "8.4 Median"
      ],
      "metadata": {
        "id": "Rhh2hbeoyYGO"
      }
    },
    {
      "cell_type": "code",
      "source": [
        "num1 = c(1,4)\n",
        "num2 = c(0,3,5)\n",
        "\n",
        "merged <- sort(c(num1 , num2))\n",
        "\n",
        "if(length(merged) %2 == 1)\n",
        "{\n",
        "  index <- length(merged /2)\n",
        "  median_ <- merged[index]\n",
        "}\n",
        "else\n",
        "{\n",
        "  index <- length(merged/2)\n",
        "  median_ <- (merged[index] + merged[index+1])/2\n",
        "}\n",
        "cat('Median of the Merged Array : ' , median_)\n"
      ],
      "metadata": {
        "colab": {
          "base_uri": "https://localhost:8080/"
        },
        "id": "7XowdnNEybiX",
        "outputId": "4b9ae8dc-3081-4ff7-a583-0ec76edeafdc"
      },
      "execution_count": null,
      "outputs": [
        {
          "output_type": "stream",
          "name": "stdout",
          "text": [
            "Median of the Merged Array :  3"
          ]
        }
      ]
    }
  ]
}