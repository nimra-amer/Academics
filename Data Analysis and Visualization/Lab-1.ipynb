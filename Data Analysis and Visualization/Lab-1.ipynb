{
  "nbformat": 4,
  "nbformat_minor": 0,
  "metadata": {
    "colab": {
      "provenance": []
    },
    "kernelspec": {
      "name": "python3",
      "display_name": "Python 3"
    },
    "language_info": {
      "name": "python"
    }
  },
  "cells": [
    {
      "cell_type": "code",
      "execution_count": 81,
      "metadata": {
        "colab": {
          "base_uri": "https://localhost:8080/"
        },
        "id": "TghFQ8EtDAkP",
        "outputId": "3772970b-7c3c-498c-d17e-ffab7035e032"
      },
      "outputs": [
        {
          "output_type": "stream",
          "name": "stdout",
          "text": [
            " Array :  [[ 1  2  3  4  5]\n",
            " [ 6  7  8  9 10]\n",
            " [11 12 13 14 15]]\n",
            "\n",
            " Shape Of Array :  (3, 5)\n",
            "\n",
            " Slice 1 :  [13 14 15]\n",
            " Slice 2 :  [[ 3  4  5]\n",
            " [ 8  9 10]\n",
            " [13 14 15]]\n",
            "\n",
            " Squared Array :\n",
            " [[  1   4   9  16  25]\n",
            " [ 36  49  64  81 100]\n",
            " [121 144 169 196 225]]\n"
          ]
        }
      ],
      "source": [
        "#Exercise 1\n",
        "import numpy as np\n",
        "arr = np.array([[1 , 2 , 3 , 4 , 5] , [6 , 7 , 8 , 9 , 10] , [11 , 12, 13 , 14 , 15]])\n",
        "\n",
        "#printing out the array\n",
        "print(\" Array : \" , arr)\n",
        "\n",
        "#Shape of array\n",
        "print(\"\\n Shape Of Array : \",arr.shape)\n",
        "\n",
        "#Slicing the arrays\n",
        "slice1 = arr[2,2:]\n",
        "print(\"\\n Slice 1 : \" , slice1)\n",
        "\n",
        "slice2 = arr[:, 2:5]\n",
        "print(\" Slice 2 : \" , slice2)\n",
        "\n",
        "\n",
        "#Squaring each element in an array\n",
        "print(\"\\n Squared Array :\\n\" , arr**2)"
      ]
    },
    {
      "cell_type": "code",
      "source": [
        "#Exercise 2\n",
        "\n",
        "arr = np.linspace(-5,5,100)\n",
        "#Logistic\n",
        "def logistic(z: np.ndarray, a: float, b: float):\n",
        "  log = 1/(1+(b*(np.exp(-a*z))))\n",
        "  return log\n",
        "\n",
        "log_ = logistic(arr , 1.0 , 1.0)\n",
        "print(\"\\n Logistic : \" , logistic(arr , 1.0 , 1.0))"
      ],
      "metadata": {
        "colab": {
          "base_uri": "https://localhost:8080/"
        },
        "id": "M9V00OfHGdAG",
        "outputId": "660a73b9-6a29-416a-c31e-d8b38b562512"
      },
      "execution_count": 101,
      "outputs": [
        {
          "output_type": "stream",
          "name": "stdout",
          "text": [
            "\n",
            " Logistic :  [0.00669285 0.00739896 0.00817894 0.00904041 0.00999169 0.01104196\n",
            " 0.01220126 0.01348063 0.01489212 0.01644893 0.01816549 0.02005754\n",
            " 0.0221422  0.02443814 0.02696557 0.02974643 0.03280439 0.036165\n",
            " 0.0398557  0.04390588 0.04834692 0.05321217 0.0585369  0.06435824\n",
            " 0.07071501 0.07764755 0.0851974  0.093407   0.1023192  0.11197671\n",
            " 0.12242144 0.13369374 0.14583148 0.1588691  0.17283646 0.18775769\n",
            " 0.20364993 0.22052213 0.23837374 0.25719365 0.2769591  0.29763488\n",
            " 0.31917283 0.34151151 0.36457644 0.38828059 0.41252537 0.43720205\n",
            " 0.46219351 0.48737642 0.51262358 0.53780649 0.56279795 0.58747463\n",
            " 0.61171941 0.63542356 0.65848849 0.68082717 0.70236512 0.7230409\n",
            " 0.74280635 0.76162626 0.77947787 0.79635007 0.81224231 0.82716354\n",
            " 0.8411309  0.85416852 0.86630626 0.87757856 0.88802329 0.8976808\n",
            " 0.906593   0.9148026  0.92235245 0.92928499 0.93564176 0.9414631\n",
            " 0.94678783 0.95165308 0.95609412 0.9601443  0.963835   0.96719561\n",
            " 0.97025357 0.97303443 0.97556186 0.9778578  0.97994246 0.98183451\n",
            " 0.98355107 0.98510788 0.98651937 0.98779874 0.98895804 0.99000831\n",
            " 0.99095959 0.99182106 0.99260104 0.99330715]\n"
          ]
        }
      ]
    },
    {
      "cell_type": "code",
      "source": [
        "#Hyperbolic Tangent\n",
        "\n",
        "def tangent(z: np.ndarray, a: float, b: float , c:float):\n",
        "  tan = b*np.tanh(a*z)+c\n",
        "  return tan\n",
        "\n",
        "tang =  tangent(arr , 1.0 , 1.0 , 1.0)\n",
        "print(\"\\n Hyperbolic Tangent : \" , tangent(arr , 1.0 , 1.0 , 1.0))"
      ],
      "metadata": {
        "colab": {
          "base_uri": "https://localhost:8080/"
        },
        "id": "65yl305SGy-9",
        "outputId": "9573e9e0-25be-41a1-f380-6984542c856d"
      },
      "execution_count": 102,
      "outputs": [
        {
          "output_type": "stream",
          "name": "stdout",
          "text": [
            "\n",
            " Hyperbolic Tangent :  [9.07957374e-05 1.11121298e-04 1.35996635e-04 1.66440039e-04\n",
            " 2.03697631e-04 2.49294292e-04 3.05095972e-04 3.73385890e-04\n",
            " 4.56957711e-04 5.59229477e-04 6.84382867e-04 8.37533369e-04\n",
            " 1.02493816e-03 1.25424997e-03 1.53482686e-03 1.87811008e-03\n",
            " 2.29808459e-03 2.81183975e-03 3.44025119e-03 4.20880886e-03\n",
            " 5.14862079e-03 6.29762716e-03 7.70206471e-03 9.41822714e-03\n",
            " 1.15145722e-02 1.40742307e-02 1.71979732e-02 2.10076890e-02\n",
            " 2.56504202e-02 3.13029723e-02 3.81770840e-02 4.65250717e-02\n",
            " 5.66457641e-02 6.88903913e-02 8.36678800e-02 1.01448721e-01\n",
            " 1.22766215e-01 1.48213473e-01 1.78434121e-01 2.14104292e-01\n",
            " 2.55903410e-01 3.04471646e-01 3.60353187e-01 4.23926668e-01\n",
            " 4.95327602e-01 5.74371803e-01 6.60492859e-01 7.52709035e-01\n",
            " 8.49633736e-01 9.49537848e-01 1.05046215e+00 1.15036626e+00\n",
            " 1.24729097e+00 1.33950714e+00 1.42562820e+00 1.50467240e+00\n",
            " 1.57607333e+00 1.63964681e+00 1.69552835e+00 1.74409659e+00\n",
            " 1.78589571e+00 1.82156588e+00 1.85178653e+00 1.87723379e+00\n",
            " 1.89855128e+00 1.91633212e+00 1.93110961e+00 1.94335424e+00\n",
            " 1.95347493e+00 1.96182292e+00 1.96869703e+00 1.97434958e+00\n",
            " 1.97899231e+00 1.98280203e+00 1.98592577e+00 1.98848543e+00\n",
            " 1.99058177e+00 1.99229794e+00 1.99370237e+00 1.99485138e+00\n",
            " 1.99579119e+00 1.99655975e+00 1.99718816e+00 1.99770192e+00\n",
            " 1.99812189e+00 1.99846517e+00 1.99874575e+00 1.99897506e+00\n",
            " 1.99916247e+00 1.99931562e+00 1.99944077e+00 1.99954304e+00\n",
            " 1.99962661e+00 1.99969490e+00 1.99975071e+00 1.99979630e+00\n",
            " 1.99983356e+00 1.99986400e+00 1.99988888e+00 1.99990920e+00]\n"
          ]
        }
      ]
    },
    {
      "cell_type": "code",
      "source": [
        "#Rectified Linear Unit\n",
        "\n",
        "import sys\n",
        "eps = sys.float_info.epsilon\n",
        "arr1 =[1,1.6,0.6,2.3]\n",
        "def rectified(z: np.ndarray):\n",
        "  for i in range(len(z)):\n",
        "    if z[i]>0:\n",
        "      return z\n",
        "    elif z[i]<=0:\n",
        "      linear =0\n",
        "      return linear\n",
        "\n",
        "rec=rectified(arr1)\n",
        "print(\"Rectified Linear Unit : \" , rectified(arr1))\n",
        ""
      ],
      "metadata": {
        "colab": {
          "base_uri": "https://localhost:8080/"
        },
        "id": "ag52RcfJQLFr",
        "outputId": "dde7b25f-11c2-4f5c-f9d0-8e4124e6928b"
      },
      "execution_count": 106,
      "outputs": [
        {
          "output_type": "stream",
          "name": "stdout",
          "text": [
            "Rectified Linear Unit :  [1, 1.6, 0.6, 2.3]\n"
          ]
        }
      ]
    },
    {
      "cell_type": "code",
      "source": [
        "import matplotlib.pyplot as plt\n",
        "fig,ax= plt.subplots()\n",
        "ax.plot(log_ , linestyle = '--')\n",
        "ax.plot(tang , linestyle = '--')\n",
        "ax.plot(rec , linestyle ='--')"
      ],
      "metadata": {
        "colab": {
          "base_uri": "https://localhost:8080/",
          "height": 448
        },
        "id": "9K6bmIF0REm5",
        "outputId": "7273e86d-4eb0-4b64-ba21-5c30f553ed32"
      },
      "execution_count": 107,
      "outputs": [
        {
          "output_type": "execute_result",
          "data": {
            "text/plain": [
              "[<matplotlib.lines.Line2D at 0x7c53e599b940>]"
            ]
          },
          "metadata": {},
          "execution_count": 107
        },
        {
          "output_type": "display_data",
          "data": {
            "text/plain": [
              "<Figure size 640x480 with 1 Axes>"
            ],
            "image/png": "[encoded data removed]"
          },
          "metadata": {}
        }
      ]
    }
  ]
}