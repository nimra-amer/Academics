{
  "cells": [
    {
      "cell_type": "code",
      "execution_count": 4,
      "metadata": {
        "collapsed": true,
        "id": "HeEv1Dv_hYha"
      },
      "outputs": [],
      "source": [
        "import nltk\n",
        "import string\n",
        "\n",
        "# used for looping through folders/files\n",
        "import os\n",
        "from os import listdir\n",
        "from os.path import isfile, join\n",
        "\n",
        "#Calc tfidf and cosine similarity\n",
        "from sklearn.feature_extraction.text import TfidfVectorizer\n",
        "from sklearn.feature_extraction.text import CountVectorizer\n",
        "from sklearn.metrics.pairwise import cosine_similarity"
      ]
    },
    {
      "cell_type": "code",
      "execution_count": 8,
      "metadata": {
        "collapsed": true,
        "id": "t8Dj9PCHhYhd"
      },
      "outputs": [],
      "source": [
        "# All text entries to compare will appear here\n",
        "BASE_INPUT_DIR = \"/content/inputData\"\n",
        "file1_path = os.path.join(BASE_INPUT_DIR, \"f1.txt\")\n",
        "file2_path = os.path.join(BASE_INPUT_DIR, \"f2.txt\")"
      ]
    },
    {
      "cell_type": "markdown",
      "metadata": {
        "id": "fdcNprauhYhe"
      },
      "source": [
        "## Preprocess Data"
      ]
    },
    {
      "cell_type": "markdown",
      "metadata": {
        "id": "MCW3zf1whYhf"
      },
      "source": [
        "#### File information"
      ]
    },
    {
      "cell_type": "code",
      "execution_count": null,
      "metadata": {
        "id": "0yvHloIZhYhf"
      },
      "outputs": [],
      "source": [
        "def returnListOfFilePaths(folderPath):\n",
        "    fileInfo = []\n",
        "    listOfFileNames = [fileName for fileName in listdir(folderPath) if isfile(join(folderPath, fileName))]\n",
        "    listOfFilePaths = [join(folderPath, fileName) for fileName in listdir(folderPath) if isfile(join(folderPath, fileName))]\n",
        "    fileInfo.append(listOfFileNames)\n",
        "    fileInfo.append(listOfFilePaths)\n",
        "    return fileInfo\n",
        "\n",
        "fileNames, filePaths = returnListOfFilePaths(BASE_INPUT_DIR)\n",
        "print(fileNames, \"\\n\", filePaths)"
      ]
    },
    {
      "cell_type": "code",
      "execution_count": null,
      "metadata": {
        "colab": {
          "base_uri": "https://localhost:8080/"
        },
        "id": "FDysT0DZhYhg",
        "outputId": "2708771c-c4cf-49b1-b70d-09bdd5fae645"
      },
      "outputs": [
        {
          "output_type": "stream",
          "name": "stdout",
          "text": [
            "{'/content/inputData/100593newsML.txt': 'Anglo-French Channel Tunnel operator Eurotunnel Monday announced a deal giving its creditor banks 45.5 percent of the company in return for wiping out one billion pounds ($1.56 billion) of its debt.\\nThe long-awaited restructuring brings to an end months of wrangling between Eurotunnel and the 225 banks to which it owes nearly nine billion pounds ($14.1 billion).\\nThe deal, announced simultaneously in Paris and London, brings the company back from the brink of insolvency but leaves shareholders owning only 54.5 percent of the company.\\n\"The restructuring plan provides Eurotunnel with the medium-term financial stability to allow it to consolidate its substantial commercial achievements to date and to develop its operations,\" Eurotunnel co-chairman Alastair Morton said.\\nThe firm was now making a profit before interest, he added.\\nAlthough shareholders will see their interests diluted, they were offered the prospect of a brighter future after months of uncertainty while Eurotunnel wrestled to reduce crippling interest payments negotiated during the tunnel\\'s construction.\\nEurotunnel, which has taken around half the cross-Channel market from the European ferry companies, said a strong operating performance could allow it to pay its first dividend within the next 10 years.\\nFrench co-chairman Patrick Ponsolle said shareholders would have to be patient before they could reap the benefits of the company\\'s success.\\nHe called the debt restructuring plan \"an acceptable compromise\" for holders of Eurotunnel shares.\\nThe company said there was still considerable work to be done to finalise and agree on the details of the plan before it can be submitted to shareholders and the full 225 bank syndicate for approval, probably early in 1997.\\nMonday\\'s announcement followed two weeks of highly secretive negotiations between Eurotunnel and its six leading banks. This was extended to the 24 \"instructing banks\" at a meeting late last week in London.\\nEurotunnel said the debt-for-equity swap would be at 130 pence, or 10.40 francs, per share. That is considerably below the level of around 160 pence widely reported before announcement of the deal, and will reduce outstanding debt of 8.7 billion pounds ($13.6 billion) by 1.0 billion ($1.56 billion).\\nThe company said a further 3.7 billion pounds ($5.8 billion) of debt would be converted into new financial instruments and existing shareholders would be able to participate in this issue.\\nIf they choose not to take up free warrants entitling them to subscribe to this, Eurotunnel said shareholders\\' interests may be reduced further to just over 39 percent of the company by the end of December 2003.\\nEurotunnel\\'s shares, which were suspended last week at 113.5 pence ahead of Monday\\'s announcement, should resume trading on Tuesday, the company said.\\n', '/content/inputData/137871newsML.txt': 'Italian business tycoon Silvio Berlusconi on Wednesday lost an appeal in the London High Court against the transfer of documents to Italian authorities investigating allegations of fraud and false accounting.\\nBritain\\'s Serious Fraud Office seized 15 bags of documents in April from the office of London lawyer David Mills who represents the interests of former Italian Prime Minister Berlusconi in Britain.\\nThe judges, Lord Justice Simon Brown and Mr Justice Gage, rejected all the grounds of the appeal, but Brown agreed to hear an application by the appellants on Friday morning, which could lead to an appeal to the House of Lords, although legal sources said this was unlikely to succeed.\\nThe hearing stemmed from an appeal by Berlusconi, who was Italian Prime Minister for seven months in 1994 and is on trial in Milan on corruption charges, his company Fininvest and company president Fedele Confalonieri against a court ruling earlier this year that the papers should be sent to Italy.\\nBrown said the papers were linked to fraud and false accounting allegations amounting to 51 million pounds ($82 million) which had been \"surreptitiously removed from Fininvest and used for criminal purposes.\"\\nHe noted that prosecutions were already underway in Italy against Berlusconi for bribing Revenue inspectors and for making illicit donations to former Prime Minister Bettino Craxi.\\nItalian investigators suspect Berlusconi who, among other holdings, owns three TV channels and the football club AC Milan, may have used offshore companies to channel payments to politicians.\\nAt the end of his judgement Brown pointed out that, \"It is imperative to recognise, however, that none of the applicants has yet been convicted of anything and that nothing I have said should be thought to raise the least presumption of guilt against them.\"\\nHe rejected all the grounds of the appeal on the basis that the Italian request was not too wide, that it was justified and that the offences in question were not \"political\".\\nOne of the grounds of appeal had been that the SFO had gone to Berlusconi\\'s lawyer\\'s office on a \"fishing expedition\" -- an unspecific search -- which is illegal under English law.\\nBrown described the case as a \"wide-ranging, multi-faceted, international fraud involving far-reaching allegations against a large number of individuals in connection with an even larger number of companies.\"\\nThe SFO said it was \"happy\" with the ruling.\\n\"The SFO\\'s fight against fraud on an international level has been strengthened by this welcome judgement,\" it said in a statement.\\nThe SFO said the judges had rejected all of the main arguments put forward by the appellants. \"We look forward to the speedy transfer of the documents to Milan so that the investigators can get on with their job,\" it said.\\nA hearing on Friday will decide whether Berlusconi can appeal against today\\'s ruling to the British House of Lords.\\nSFO senior assistant director Chris Dickson said the judges in the current hearing were aware that, if any House of Lords hearing did not take place until next year, this would mean the papers would arrive too late to be used in Italian proceedings.\\nHe said that if the appellants were not given leave to appeal on Friday he expected the papers to be transferred immediately, although this was a decision for the Home Office.\\n($1=.6260 Pound)\\n', '/content/inputData/100618newsML.txt': 'Anglo-French Channel Tunnel operator Eurotunnel on Monday announced a deal giving creditor banks 45.5 percent of the company in return for wiping out one billion pounds ($1.56 billion) of its debt mountain.\\nThe long-awaited restructuring brings to an end months of wrangling between Eurotunnel and the 225 banks to which it owes nearly nine billion pounds.\\nThe deal, announced simultaneously in Paris and London, brings the company back from the brink of insolvency but leaves shareholders owning only 54.5 percent of the company.\\n\"The restructuring plan provides Eurotunnel with the medium term financial stability to allow it to consolidate its substantial commercial achievements to date and to develop its operations,\" Eurotunnel co-chairman Alastair Morton said.\\nThe firm was now making a profit before interest, he added.\\nAlthough shareholders will see their interests diluted, they were offered the prospect of a brighter future after months of uncertainty while Eurotunnel wrestled to reduce crippling interest payments negotiated during the tunnel\\'s construction.\\nEurotunnel, which has taken around half the cross-Channel market from the European ferry companies, said a strong operating performance could allow it to pay its first dividend within the next 10 years.\\nFrench co-chairman Patrick Ponsolle said shareholders would have to be patient before they could reap the benefits of the company\\'s success.\\nHe called the debt restructuring plan \"an acceptable compromise\" for holders of Eurotunnel shares.\\nThe company said in a statement there was still considerable work to be done to finalise and agree the details of the plan before it can be submitted to shareholders and the full 225 bank syndicate for approval, probably early in 1997.\\nMonday\\'s announcement followed two weeks of highly secretive negotiations between Eurotunnel and its six leading banks. This was extended to the 24 \"instructing banks\" at a meeting late last week in London.\\nEurotunnel said the debt-for-equity swap would be at 130 pence, or 10.40 francs, per share. That is considerably below the level of around 160 pence widely reported in the run up to the deal, and will reduce outstanding debt of 8.7 billion pounds by 1.0 billion.\\nThe company said a further 3.7 billion pounds of debt would be converted into new financial instruments and existing shareholders would be able to participate in this issue.\\nIf they choose not to take up free warrants entitling them to subscribe to this, Eurotunnel said shareholders\\' interests may be reduced further to just over 39 percent of the company by the end of December 2003.\\nEurotunnel\\'s shares, which were suspended last week at 113.5 pence ahead of Monday\\'s announcement, should resume trading on Tuesday, the company said. ($1=.6393 Pound)\\n', '/content/inputData/100554newsML.txt': 'Channel tunnel operator Eurotunnel on Monday announced details of a deal giving bank creditors 45.5 percent of the company in return for wiping out 1.0 billion pounds ($1.6 billion) of its massive debts.\\nThe long-awaited but highly complex restructuring of nearly nearly nine billion pounds of debt and unpaid interest throws the company a lifeline which could secure what is still likely to be a difficult future.\\nThe deal, announced simultaneously in Paris and London, brings the company back from the brink of bankruptcy but leaves current shareholders, who have already seen their investment dwindle, owning only 54.5 percent of the company.\\n\"We have fixed and capped the interest payments and arranged only to pay what is available in cash,\" Eurotunnel co-chairman Alastair Morton told reporters at a news conference. \"Avoiding having to do this again is the name of the game.\"\\nMorton said the plan provides the Anglo-French company with the medium term financial stability to consolidate its commercial position and develop its operations, adding that the firm was now making a profit before interest.\\nAlthough shareholders will see their holdings diluted, they were offered the prospect of a brighter future and urged to be patient after months of uncertainty while Eurotunnel wrestled to reduce the crippling interest payments negotiated during the tunnel\\'s construction.\\nEurotunnel, which has taken around half of the market in the busiest cross-Channel route from the European ferry companies, said a strong operating performance could allow it to pay its first dividend within the next 10 years.\\nFrench co-chairman Patrick Ponsolle told reporters at a Paris news conference that the dividend could come as early as 2004 if the company performed \"very well\".\\nEurotunnel and the banks have come up with an ingenious formula to help the company get over the early years of the deal when, despite the swaps of debt for equity and bonds, it will still not be able to afford the annual interest bill of 400 million pounds.\\nIf its revenue, after costs and depreciation, is less than 400 million pounds, then the company will issue \"Stabilisation notes\" to a maximum of 1.85 billion pounds to the banks. Eurotunnel would not pay interest on these notes (which would constitute a debt issue) for ten years.\\nAnalysts said that under the deal, Eurotunnel\\'s ability to finance its debt would become sustainable, at least for a few years.\\n\"If you look at the current cash flow of between 150 and 200 million pounds a year, what they can\\'t find (to meet the bill) they will roll forward into the stabilisation notes, and they can keep that going for seven, eight, nine years,\" said an analyst at one major investment bank.\\n\"So they are here for that time,\" he added.\\nThe company said in a statement there was still considerable work to be done to finalise and agree the details of the plan before it can be submitted to shareholders and the bank group for approval, probably early in the Spring of 1997.\\nEurotunnel said the debt-for-equity swap would be at 130 pence, or 10.40 francs, per share -- considerably below the level of 160 pence widely reported in the run up to the deal\\nThe company said a further 3.7 billion pounds of debt would be converted into new financial instruments and existing shareholders would be able to participate in this issue.\\nIf they choose not to take up free warrants entitling them to subscribe to this, Eurotunnel said shareholders\\' interests may be reduced further to just over 39 percent of the company by the end of December 2003.\\nEurotunnel\\'s shares, which were suspended last week at 113.5 pence ahead of Monday\\'s announcement, will resume trading on Tuesday.\\nShareholders and all 225 creditor banks have to agree the deal. \"I\\'m hopeful but I\\'m not taking it (approval) for granted,\" Morton admitted, \"Shareholders are pretty angry in France.\"\\nAsked what would happen if the banks reject the deal, Morton said, \"Nobody wants a collapse, nobody wants a doomsday scenario.\"\\n($1=.6393 Pound)\\n', '/content/inputData/130040newsML.txt': 'Britain\\'s Barclays Plc said on Monday it was in talks with U.S. group Morgan Stanley about its global custody business and banking sources confirmed the unit is up for sale.\\nBarclays and Morgan Stanley were coy in responding to press speculation, saying only that they are \"in discussions to explore the potential for future co-operation\".\\nThe move would be another step in the consolidation of the global custody business which is becoming dominated by those banks who are willing to make the large front-end investment in systems which are necessary to later rake in fees.\\nBarclays\\' custody business has 350 to 400 staff worldwide, with some working in the Far East, but has for some time been treated as not in the bank\\'s core business.\\nSecurities worth some 150 billion pounds ($239.2 billion) have been placed with the unit.\\nIn its interim results, published in August, Barclays included custody in its \"Businesses in Transition\" category which includes restructuring businesses in France and the United States. The category including custody made a profit of 23 million pounds in the half-year to June 30.\\nThe report said, \"Businesses in Transition primarily comprises lendings and other assets that are unlikely to be of long-term interest to the Group or that require significant restructuring.\"\\nIt was not clear when the deal will be finalised but analysts said it would mark a further step in the consolidation of the global custody market.\\n\"Consolidation is a natural if you look at the economic of the business,\" said John Leonard, banking analyst at Salomon Brothers. \"It\\'s a scale economy buisiness.\"\\nLeonard said that some banks had taken the decision not to invest the large sums needed to get computer systems up to scratch to be competitive.\\nCustody businesses range from traditional safekeeping of securities, which in Britain is dominated by Lloyds TSB and Royal Bank of Scotland, to performance measurement and stock lending.\\nAs such, it has ceased to be the largely risk-free business it once was although risk levels are still relatively low.\\n\"It guarantees a steady income stream but it\\'s not totally insensitive to market volumes,\" Leonard added.\\nAnalysts said Barclays has presumably decided that without further investment, the business will be too small to compete on the global stage. They expect Morgan Stanley to pay well under 100 million pounds for the business. \"It could well be less than fifty million (pounds),\" said one.\\nFinance workers\\' union BIFU attacked the leak of the discussions, saying staff face an uncertain future if the business was sold.\\nIt called on the bank to \"come clean\" over its intentions. ($1=.6270 Pound)\\n'}\n"
          ]
        }
      ],
      "source": [
        "# Get document contents\n",
        "def create_docContentDict(filePaths):\n",
        "    rawContentDict = {}\n",
        "    for filePath in filePaths:\n",
        "        with open(filePath, \"r\") as ifile:\n",
        "            fileContent = ifile.read()\n",
        "        rawContentDict[filePath] = fileContent\n",
        "    return rawContentDict\n",
        "rawContentDict = create_docContentDict(filePaths)\n",
        "print(rawContentDict)"
      ]
    },
    {
      "cell_type": "markdown",
      "metadata": {
        "id": "c66aOKvuhYhg"
      },
      "source": [
        "## Create Custom tokenizer"
      ]
    },
    {
      "cell_type": "markdown",
      "metadata": {
        "id": "ko7uHveShYhh"
      },
      "source": [
        "### Define functions to use within the tokenizer\n",
        "We'd like to;\n",
        "- tokenize the input\n",
        "- remove stop words\n",
        "- perform stemming\n",
        "- remove punctuation\n",
        "- convert input to lowercase"
      ]
    },
    {
      "cell_type": "markdown",
      "metadata": {
        "id": "eCM1qtZwhYhh"
      },
      "source": [
        "#### Tokenize"
      ]
    },
    {
      "cell_type": "code",
      "execution_count": null,
      "metadata": {
        "collapsed": true,
        "id": "FtbI-LNvhYhh"
      },
      "outputs": [],
      "source": [
        "def tokenizeContent(contentsRaw):\n",
        "    tokenized = nltk.tokenize.word_tokenize(contentsRaw)\n",
        "    return tokenized"
      ]
    },
    {
      "cell_type": "markdown",
      "metadata": {
        "id": "GHxWgoKyhYhi"
      },
      "source": [
        "#### Remove Stop words"
      ]
    },
    {
      "cell_type": "code",
      "execution_count": null,
      "metadata": {
        "collapsed": true,
        "id": "eWoVWDquhYhi"
      },
      "outputs": [],
      "source": [
        "def removeStopWordsFromTokenized(contentsTokenized):\n",
        "    stop_word_set = set(nltk.corpus.stopwords.words(\"english\"))\n",
        "    filteredContents = [word for word in contentsTokenized if word not in stop_word_set]\n",
        "    return filteredContents"
      ]
    },
    {
      "cell_type": "markdown",
      "metadata": {
        "id": "VeCoyJMxhYhi"
      },
      "source": [
        "#### Stemming"
      ]
    },
    {
      "cell_type": "code",
      "execution_count": null,
      "metadata": {
        "collapsed": true,
        "id": "yTTp1nJNhYhi"
      },
      "outputs": [],
      "source": [
        "def performPorterStemmingOnContents(contentsTokenized):\n",
        "    porterStemmer = nltk.stem.PorterStemmer()\n",
        "    filteredContents = [porterStemmer.stem(word) for word in contentsTokenized]\n",
        "    return filteredContents"
      ]
    },
    {
      "cell_type": "markdown",
      "metadata": {
        "id": "wZvpbe6EhYhi"
      },
      "source": [
        "#### Remove Punctuation"
      ]
    },
    {
      "cell_type": "code",
      "execution_count": null,
      "metadata": {
        "collapsed": true,
        "id": "QLPxbIHthYhi"
      },
      "outputs": [],
      "source": [
        "def removePunctuationFromTokenized(contentsTokenized):\n",
        "    excludePuncuation = set(string.punctuation)\n",
        "\n",
        "    # manually add additional punctuation to remove\n",
        "    doubleSingleQuote = '\\'\\''\n",
        "    doubleDash = '--'\n",
        "    doubleTick = '``'\n",
        "\n",
        "    excludePuncuation.add(doubleSingleQuote)\n",
        "    excludePuncuation.add(doubleDash)\n",
        "    excludePuncuation.add(doubleTick)\n",
        "\n",
        "    filteredContents = [word for word in contentsTokenized if word not in excludePuncuation]\n",
        "    return filteredContents"
      ]
    },
    {
      "cell_type": "markdown",
      "metadata": {
        "id": "OierieOThYhj"
      },
      "source": [
        "#### Convert terms to lowercase"
      ]
    },
    {
      "cell_type": "code",
      "execution_count": null,
      "metadata": {
        "collapsed": true,
        "id": "PT_x0tGnhYhj"
      },
      "outputs": [],
      "source": [
        "def convertItemsToLower(contentsRaw):\n",
        "    filteredContents = [term.lower() for term in contentsRaw]\n",
        "    return filteredContents"
      ]
    },
    {
      "cell_type": "markdown",
      "metadata": {
        "id": "2rXdPEemhYhj"
      },
      "source": [
        "### Test that functions are working as expected"
      ]
    },
    {
      "cell_type": "code",
      "execution_count": null,
      "metadata": {
        "colab": {
          "base_uri": "https://localhost:8080/"
        },
        "id": "_RHJv_onhYhj",
        "outputId": "6db138df-3da2-4145-9189-a370d73f2f6d"
      },
      "outputs": [
        {
          "output_type": "stream",
          "name": "stdout",
          "text": [
            "Anglo-French Channel Tunnel operator Eurotunnel Monday announced a deal giving its creditor banks 45.5 percent of the company in return for wiping out one billion pounds ($1.56 billion) of its debt.\n",
            "The long-awaited restructuring brings to an end months of wrangling between Eurotunnel and the 225 ba\n"
          ]
        }
      ],
      "source": [
        "# get contents of a file for testing\n",
        "# TODO: may need to make a copy of this here\n",
        "content_test = rawContentDict[filePaths[0]]\n",
        "\n",
        "# visually inspect\n",
        "print(content_test[:300])"
      ]
    },
    {
      "cell_type": "code",
      "execution_count": null,
      "metadata": {
        "colab": {
          "base_uri": "https://localhost:8080/"
        },
        "id": "SB06xA4xhYhj",
        "outputId": "218b4442-0472-4a3c-cb27-7da40b98a93a"
      },
      "outputs": [
        {
          "output_type": "stream",
          "name": "stdout",
          "text": [
            "['Anglo-French', 'Channel', 'Tunnel', 'operator', 'Eurotunnel', 'Monday', 'announced', 'a', 'deal', 'giving', 'its', 'creditor', 'banks', '45.5', 'percent', 'of', 'the', 'company', 'in', 'return', 'for', 'wiping', 'out', 'one', 'billion', 'pounds', '(', '$', '1.56', 'billion']\n"
          ]
        }
      ],
      "source": [
        "# test tokenization\n",
        "content_test_tokenized = tokenizeContent(content_test)\n",
        "\n",
        "# visually inspect\n",
        "print(content_test_tokenized[:30])"
      ]
    },
    {
      "cell_type": "code",
      "execution_count": null,
      "metadata": {
        "colab": {
          "base_uri": "https://localhost:8080/"
        },
        "id": "CHp4imjBhYhj",
        "outputId": "e4c3a891-5762-4680-b79e-ae4f1d4a2f26"
      },
      "outputs": [
        {
          "output_type": "stream",
          "name": "stdout",
          "text": [
            "['Anglo-French', 'Channel', 'Tunnel', 'operator', 'Eurotunnel', 'Monday', 'announced', 'deal', 'giving', 'creditor', 'banks', '45.5', 'percent', 'company', 'return', 'wiping', 'one', 'billion', 'pounds', '(', '$', '1.56', 'billion', ')', 'debt', '.', 'The', 'long-awaited', 'restructuring', 'brings']\n"
          ]
        }
      ],
      "source": [
        "# test remove stop words\n",
        "content_test_rmStop = removeStopWordsFromTokenized(content_test_tokenized)\n",
        "\n",
        "# visually inspect\n",
        "print(content_test_rmStop[:30])"
      ]
    },
    {
      "cell_type": "code",
      "execution_count": null,
      "metadata": {
        "colab": {
          "base_uri": "https://localhost:8080/"
        },
        "id": "W5QZ4jqShYhk",
        "outputId": "3d81f73c-7ee1-42da-9c93-83352a53c2f3"
      },
      "outputs": [
        {
          "output_type": "stream",
          "name": "stdout",
          "text": [
            "['anglo-french', 'channel', 'tunnel', 'oper', 'eurotunnel', 'monday', 'announc', 'deal', 'give', 'creditor', 'bank', '45.5', 'percent', 'compani', 'return', 'wipe', 'one', 'billion', 'pound', '(', '$', '1.56', 'billion', ')', 'debt', '.', 'the', 'long-await', 'restructur', 'bring']\n"
          ]
        }
      ],
      "source": [
        "# Test stemming\n",
        "content_test_stemmed = performPorterStemmingOnContents(content_test_rmStop)\n",
        "\n",
        "# visually inspect\n",
        "print(content_test_stemmed[:30])"
      ]
    },
    {
      "cell_type": "code",
      "execution_count": null,
      "metadata": {
        "colab": {
          "base_uri": "https://localhost:8080/"
        },
        "id": "136ECOvehYhk",
        "outputId": "99c9f876-d339-4529-ce4d-ff6dcdc69d27"
      },
      "outputs": [
        {
          "output_type": "stream",
          "name": "stdout",
          "text": [
            "['anglo-french', 'channel', 'tunnel', 'oper', 'eurotunnel', 'monday', 'announc', 'deal', 'give', 'creditor', 'bank', '45.5', 'percent', 'compani', 'return', 'wipe', 'one', 'billion', 'pound', '1.56', 'billion', 'debt', 'the', 'long-await', 'restructur', 'bring', 'end', 'month', 'wrangl', 'eurotunnel']\n"
          ]
        }
      ],
      "source": [
        "# Test remove punctuation\n",
        "content_test_cleaned = removePunctuationFromTokenized(content_test_stemmed)\n",
        "\n",
        "# visually inspect\n",
        "print(content_test_cleaned[:30])"
      ]
    },
    {
      "cell_type": "code",
      "execution_count": null,
      "metadata": {
        "colab": {
          "base_uri": "https://localhost:8080/"
        },
        "id": "MZMpwXb8hYhk",
        "outputId": "e797b0b1-0beb-4e4c-a342-5c71c0391acc"
      },
      "outputs": [
        {
          "output_type": "stream",
          "name": "stdout",
          "text": [
            "['anglo-french', 'channel', 'tunnel', 'oper', 'eurotunnel', 'monday', 'announc', 'deal', 'give', 'creditor', 'bank', '45.5', 'percent', 'compani', 'return', 'wipe', 'one', 'billion', 'pound', '1.56', 'billion', 'debt', 'the', 'long-await', 'restructur', 'bring', 'end', 'month', 'wrangl', 'eurotunnel']\n"
          ]
        }
      ],
      "source": [
        "# Test convert to lower\n",
        "content_test_clean_lower = convertItemsToLower(content_test_cleaned)\n",
        "print(content_test_clean_lower[:30])"
      ]
    },
    {
      "cell_type": "markdown",
      "metadata": {
        "id": "mahAFoothYhk"
      },
      "source": [
        "### Wrap into a function to be used by NLTK"
      ]
    },
    {
      "cell_type": "code",
      "execution_count": null,
      "metadata": {
        "collapsed": true,
        "id": "bsjN7uhlhYhk"
      },
      "outputs": [],
      "source": [
        "# process data without writing inspection file information to file\n",
        "def processData(rawContents):\n",
        "    cleaned = tokenizeContent(rawContents)\n",
        "    cleaned = removeStopWordsFromTokenized(cleaned)\n",
        "    cleaned = performPorterStemmingOnContents(cleaned)\n",
        "    cleaned = removePunctuationFromTokenized(cleaned)\n",
        "    cleaned = convertItemsToLower(cleaned)\n",
        "    return cleaned"
      ]
    },
    {
      "cell_type": "markdown",
      "metadata": {
        "id": "X8fMWZ0ohYhk"
      },
      "source": [
        "## Create Functions For Output\n",
        "- TFIDF\n",
        "- Cosine Similarity\n",
        "    - this function will both calcuate and output results"
      ]
    },
    {
      "cell_type": "code",
      "source": [
        "pip install tabulate"
      ],
      "metadata": {
        "id": "EC8SYnFlzuoQ",
        "outputId": "9dd75b25-638e-460f-8c9b-dea610f60678",
        "colab": {
          "base_uri": "https://localhost:8080/"
        }
      },
      "execution_count": 10,
      "outputs": [
        {
          "output_type": "stream",
          "name": "stdout",
          "text": [
            "Requirement already satisfied: tabulate in /usr/local/lib/python3.10/dist-packages (0.9.0)\n"
          ]
        }
      ]
    },
    {
      "cell_type": "code",
      "execution_count": 11,
      "metadata": {
        "collapsed": true,
        "id": "8FEltbj4hYhk"
      },
      "outputs": [],
      "source": [
        "# print TFIDF values in 'table' format\n",
        "def print_TFIDF_for_all(term, values, fileNames):\n",
        "    # files along 'x-axis', terms along 'y-axis'\n",
        "     #bank space for formatting output\n",
        "      #file names\n",
        "       #the term\n",
        "       #the value, corresponding to the file name, for the term\n",
        "        #print\n",
        "\n",
        "    max_filename_length = max(len(max(fileNames, key=len)), len(\"File Name\"))\n",
        "    max_term_length = max(len(term), len(\"Term\"))\n",
        "\n",
        "    max_value_length = max(len(\"TF-IDF Value\"), len(str(max(values, default=0))))\n",
        "    header = f\"{'File Name':<{max_filename_length}} {'Term':<{max_term_length}} {'TF-IDF Value':>{max_value_length}}\"\n",
        "    print(header)\n",
        "\n",
        "    for filename, value in zip(fileNames, values):\n",
        "        row = f\"{filename:<{max_filename_length}} {term:<{max_term_length}} {value:>{max_value_length}}\"\n",
        "        print(row)"
      ]
    },
    {
      "cell_type": "code",
      "execution_count": 12,
      "metadata": {
        "collapsed": true,
        "id": "iOHWaZKdhYhl"
      },
      "outputs": [],
      "source": [
        "# write TFIDF values in 'table' format\n",
        "def write_TFIDF_for_all(term, values, fileNames):\n",
        "    filePath = 'file3.txt'\n",
        "    #create file\n",
        "   # get valeus from files along 'x-axis', terms along 'y-axis'\n",
        "     #bank space for formatting output\n",
        "      #file names\n",
        "    #write it in file\n",
        "          #the term\n",
        "        #the value, corresponding to the file name, for the term\n",
        "\n",
        "    with open(filePath, 'w') as file:\n",
        "        max_filename_length = max(len(max(fileNames, key=len)), len(\"File Name\"))\n",
        "        max_term_length = max(len(term), len(\"Term\"))\n",
        "        max_value_length = max(len(\"TF-IDF Value\"), len(str(max(values, default=0))))\n",
        "        header = f\"{'File Name':<{max_filename_length}} {'Term':<{max_term_length}} {'TF-IDF Value':>{max_value_length}}\"\n",
        "        file.write(header + '\\n')\n",
        "        for filename, value in zip(fileNames, values):\n",
        "            row = f\"{filename:<{max_filename_length}} {term:<{max_term_length}} {value:>{max_value_length}}\"\n",
        "            file.write(row + '\\n')\n"
      ]
    },
    {
      "cell_type": "code",
      "execution_count": null,
      "metadata": {
        "collapsed": true,
        "id": "uBRY9-WphYhl"
      },
      "outputs": [],
      "source": [
        "# TODO: modify this to build matrix then print from matrix form\n",
        "def calc_and_print_CosineSimilarity_for_all(tfs, fileNames):\n",
        "    #print(cosine_similarity(tfs[0], tfs[1]))\n",
        "    print(\"\\n\\n\\n========COSINE SIMILARITY====================================================================\\n\")\n",
        "    #formatting\n",
        "            #print(fileNames[n], end='\\t')\n",
        "            #print(numValue, end='\\t')\n",
        "            #(cosine_similarity(tfs[i], tfs[n]))[0][0]\n",
        "    header = \"\\t\" + \"\\t\".join(fileNames)  # File names as column headers\n",
        "    print(header)\n",
        "    for i in range(len(fileNames)):\n",
        "        print(fileNames[i], end='\\t')\n",
        "        for n in range(len(fileNames)):\n",
        "            similarity = cosine_similarity(tfs[i], tfs[n])[0][0]\n",
        "            print(f\"{similarity:.4f}\", end='\\t')\n",
        "\n",
        "        print()\n",
        "\n",
        "\n",
        "    print(\"\\n\\n=============================================================================================\\n\")"
      ]
    },
    {
      "cell_type": "code",
      "execution_count": 13,
      "metadata": {
        "collapsed": true,
        "id": "6_-7YOJjhYhl"
      },
      "outputs": [],
      "source": [
        "def calc_and_write_CosineSimilarity_for_all(tfs, fileNames):\n",
        "    filePath = \"file3.txt\"\n",
        "   #read form file & write it in perform cosineSimilarity\n",
        "            #(cosine_similarity(tfs[i], tfs[n]))[0][0]\n",
        "    with open(filePath , 'w') as file:\n",
        "        file.write(\"\\n\\n\\n======== COSINE SIMILARITY =======================================================\\n\")\n",
        "\n",
        "        # Write the header row with file names as column headers\n",
        "        header = \"\\t\" + \"\\t\".join(fileNames)  # File names as column headers\n",
        "        file.write(header + '\\n')\n",
        "\n",
        "        # Calculate and write cosine similarity for each pair of documents\n",
        "        for i in range(len(fileNames)):\n",
        "            file.write(fileNames[i] + '\\t')  # Write the file name for the current row\n",
        "            for n in range(len(fileNames)):\n",
        "                similarity = cosine_similarity(tfs[i], tfs[n])[0][0]\n",
        "                file.write(f\"{similarity:.4f}\\t\")  # Write the similarity value\n",
        "\n",
        "            file.write('\\n')  # Move to the next line for the next file\n",
        "\n",
        "        file.write(\"\\n\\n============================================================================================\\n\")\n",
        "\n"
      ]
    },
    {
      "cell_type": "markdown",
      "metadata": {
        "id": "OXinQUqGhYhl"
      },
      "source": [
        "## Wrap Everything into `Main()`"
      ]
    },
    {
      "cell_type": "code",
      "execution_count": null,
      "metadata": {
        "collapsed": true,
        "id": "XJUjmis8hYhl"
      },
      "outputs": [],
      "source": [
        "def main(printResults=True):\n",
        "    baseFolderPath = \"/content/inputData\"\n",
        "\n",
        "    fileNames, filePathList = returnListOfFilePaths(baseFolderPath)\n",
        "\n",
        "    rawContentDict = create_docContentDict(filePathList)\n",
        "\n",
        "    # calculate tfidf\n",
        "    tfidf = TfidfVectorizer(tokenizer=processData, stop_words='english')\n",
        "    tfs = tfidf.fit_transform(rawContentDict.values())\n",
        "    tfs_Values = tfs.toarray()\n",
        "    tfs_Term = tfidf.get_feature_names_out()\n",
        "\n",
        "    if printResults:\n",
        "        # print results\n",
        "        print_TFIDF_for_all(tfs_Term, tfs_Values, fileNames)\n",
        "        calc_and_print_CosineSimilarity_for_all(tfs, fileNames)\n",
        "    else:\n",
        "        # write results to file\n",
        "        write_TFIDF_for_all(tfs_Term, tfs_Values, fileNames)\n",
        "        calc_and_write_CosineSimilarity_for_all(tfs, fileNames)"
      ]
    },
    {
      "cell_type": "code",
      "execution_count": null,
      "metadata": {
        "colab": {
          "base_uri": "https://localhost:8080/"
        },
        "id": "jgJDHKcYhYhl",
        "outputId": "dd334931-2f37-44ec-e842-a9df430951cc"
      },
      "outputs": [
        {
          "output_type": "stream",
          "name": "stderr",
          "text": [
            "/usr/local/lib/python3.10/dist-packages/sklearn/feature_extraction/text.py:528: UserWarning: The parameter 'token_pattern' will not be used since 'tokenizer' is not None'\n",
            "  warnings.warn(\n",
            "/usr/local/lib/python3.10/dist-packages/sklearn/feature_extraction/text.py:409: UserWarning: Your stop_words may be inconsistent with your preprocessing. Tokenizing the stop words generated tokens ['afterward', 'alon', 'alreadi', 'alway', 'anoth', 'anyon', 'anyth', 'anywher', 'becam', 'becom', 'besid', 'cri', 'describ', 'els', 'elsewher', 'empti', 'everi', 'everyon', 'everyth', 'everywher', 'fifti', 'formerli', 'forti', 'henc', 'hereaft', 'herebi', 'howev', 'hundr', 'inde', 'latterli', 'mani', 'meanwhil', 'moreov', 'mostli', 'nobodi', 'noon', 'noth', 'nowher', 'otherwis', 'perhap', 'pleas', 'seriou', 'sever', 'sinc', 'sincer', 'sixti', 'someon', 'someth', 'sometim', 'somewher', 'thenc', 'thereaft', 'therebi', 'therefor', 'thu', 'togeth', 'twelv', 'twenti', 'whatev', 'whenc', 'whenev', 'wherea', 'whereaft', 'wherebi', 'wherev'] not in stop_words.\n",
            "  warnings.warn(\n"
          ]
        },
        {
          "output_type": "stream",
          "name": "stdout",
          "text": [
            "                100593newsML.txt  137871newsML.txt  100618newsML.txt  100554newsML.txt  130040newsML.txt  \n",
            "'m      \t|  0.000000000000   0.000000000000   0.000000000000   0.095165597630   0.000000000000   \n",
            "'s      \t|  0.139427353384   0.093595320091   0.145592889457   0.090693834344   0.089203368600   \n",
            "1.0     \t|  0.039192056059   0.000000000000   0.040925145224   0.031866754923   0.000000000000   \n",
            "1.56    \t|  0.094428412110   0.000000000000   0.049302038059   0.000000000000   0.000000000000   \n",
            "1.6     \t|  0.000000000000   0.000000000000   0.000000000000   0.047582798815   0.000000000000   \n",
            "1.85    \t|  0.000000000000   0.000000000000   0.000000000000   0.047582798815   0.000000000000   \n",
            "10      \t|  0.039192056059   0.000000000000   0.040925145224   0.031866754923   0.000000000000   \n",
            "10.40   \t|  0.039192056059   0.000000000000   0.040925145224   0.031866754923   0.000000000000   \n",
            "100     \t|  0.000000000000   0.000000000000   0.000000000000   0.000000000000   0.046800821384   \n",
            "113.5   \t|  0.039192056059   0.000000000000   0.040925145224   0.031866754923   0.000000000000   \n",
            "13.6    \t|  0.058520791438   0.000000000000   0.000000000000   0.000000000000   0.000000000000   \n",
            "130     \t|  0.039192056059   0.000000000000   0.040925145224   0.031866754923   0.000000000000   \n",
            "14.1    \t|  0.058520791438   0.000000000000   0.000000000000   0.000000000000   0.000000000000   \n",
            "15      \t|  0.000000000000   0.039284057781   0.000000000000   0.000000000000   0.000000000000   \n",
            "150     \t|  0.000000000000   0.000000000000   0.000000000000   0.038389502478   0.037758608010   \n",
            "160     \t|  0.039192056059   0.000000000000   0.040925145224   0.031866754923   0.000000000000   \n",
            "1994    \t|  0.000000000000   0.039284057781   0.000000000000   0.000000000000   0.000000000000   \n",
            "1997.   \t|  0.039192056059   0.000000000000   0.040925145224   0.031866754923   0.000000000000   \n",
            "1=.6260 \t|  0.000000000000   0.039284057781   0.000000000000   0.000000000000   0.000000000000   \n",
            "1=.6270 \t|  0.000000000000   0.000000000000   0.000000000000   0.000000000000   0.046800821384   \n",
            "1=.6393 \t|  0.000000000000   0.000000000000   0.049302038059   0.038389502478   0.000000000000   \n",
            "200     \t|  0.000000000000   0.000000000000   0.000000000000   0.047582798815   0.000000000000   \n",
            "2003.   \t|  0.039192056059   0.000000000000   0.040925145224   0.031866754923   0.000000000000   \n",
            "2004    \t|  0.000000000000   0.000000000000   0.000000000000   0.047582798815   0.000000000000   \n",
            "225     \t|  0.078384112119   0.000000000000   0.081850290448   0.031866754923   0.000000000000   \n",
            "23      \t|  0.000000000000   0.000000000000   0.000000000000   0.000000000000   0.046800821384   \n",
            "239.2   \t|  0.000000000000   0.000000000000   0.000000000000   0.000000000000   0.046800821384   \n",
            "24      \t|  0.047214206055   0.000000000000   0.049302038059   0.000000000000   0.000000000000   \n",
            "3.7     \t|  0.039192056059   0.000000000000   0.040925145224   0.031866754923   0.000000000000   \n",
            "30.     \t|  0.000000000000   0.000000000000   0.000000000000   0.000000000000   0.046800821384   \n",
            "350     \t|  0.000000000000   0.000000000000   0.000000000000   0.000000000000   0.046800821384   \n",
            "39      \t|  0.039192056059   0.000000000000   0.040925145224   0.031866754923   0.000000000000   \n",
            "400     \t|  0.000000000000   0.000000000000   0.000000000000   0.076779004957   0.037758608010   \n",
            "45.5    \t|  0.039192056059   0.000000000000   0.040925145224   0.031866754923   0.000000000000   \n",
            "5.8     \t|  0.058520791438   0.000000000000   0.000000000000   0.000000000000   0.000000000000   \n",
            "51      \t|  0.000000000000   0.039284057781   0.000000000000   0.000000000000   0.000000000000   \n",
            "54.5    \t|  0.039192056059   0.000000000000   0.040925145224   0.031866754923   0.000000000000   \n",
            "8.7     \t|  0.047214206055   0.000000000000   0.049302038059   0.000000000000   0.000000000000   \n",
            "82      \t|  0.000000000000   0.039284057781   0.000000000000   0.000000000000   0.000000000000   \n",
            "abil    \t|  0.000000000000   0.000000000000   0.000000000000   0.047582798815   0.000000000000   \n",
            "abl     \t|  0.039192056059   0.000000000000   0.040925145224   0.063733509845   0.000000000000   \n",
            "ac      \t|  0.000000000000   0.039284057781   0.000000000000   0.000000000000   0.000000000000   \n",
            "accept  \t|  0.047214206055   0.000000000000   0.049302038059   0.000000000000   0.000000000000   \n",
            "account \t|  0.000000000000   0.078568115562   0.000000000000   0.000000000000   0.000000000000   \n",
            "achiev  \t|  0.047214206055   0.000000000000   0.049302038059   0.000000000000   0.000000000000   \n",
            "ad      \t|  0.032969593103   0.000000000000   0.034427522344   0.053614637706   0.026366766409   \n",
            "admit   \t|  0.000000000000   0.000000000000   0.000000000000   0.047582798815   0.000000000000   \n",
            "afford  \t|  0.000000000000   0.000000000000   0.000000000000   0.047582798815   0.000000000000   \n",
            "agre    \t|  0.032969593103   0.022131952912   0.034427522344   0.053614637706   0.000000000000   \n",
            "ahead   \t|  0.039192056059   0.000000000000   0.040925145224   0.031866754923   0.000000000000   \n",
            "alastair\t|  0.039192056059   0.000000000000   0.040925145224   0.031866754923   0.000000000000   \n",
            "alleg   \t|  0.000000000000   0.117852173343   0.000000000000   0.000000000000   0.000000000000   \n",
            "allow   \t|  0.078384112119   0.000000000000   0.081850290448   0.031866754923   0.000000000000   \n",
            "alreadi \t|  0.000000000000   0.031694130465   0.000000000000   0.038389502478   0.000000000000   \n",
            "analyst \t|  0.000000000000   0.000000000000   0.000000000000   0.076779004957   0.113275824031   \n",
            "anglo-french\t|  0.039192056059   0.000000000000   0.040925145224   0.031866754923   0.000000000000   \n",
            "angri   \t|  0.000000000000   0.000000000000   0.000000000000   0.047582798815   0.000000000000   \n",
            "announc \t|  0.195960280297   0.000000000000   0.163700580897   0.095600264768   0.000000000000   \n",
            "annual  \t|  0.000000000000   0.000000000000   0.000000000000   0.047582798815   0.000000000000   \n",
            "anoth   \t|  0.000000000000   0.000000000000   0.000000000000   0.000000000000   0.046800821384   \n",
            "anyth   \t|  0.000000000000   0.039284057781   0.000000000000   0.000000000000   0.000000000000   \n",
            "appeal  \t|  0.000000000000   0.314272462249   0.000000000000   0.000000000000   0.000000000000   \n",
            "appel   \t|  0.000000000000   0.117852173343   0.000000000000   0.000000000000   0.000000000000   \n",
            "applic  \t|  0.000000000000   0.078568115562   0.000000000000   0.000000000000   0.000000000000   \n",
            "approv  \t|  0.039192056059   0.000000000000   0.040925145224   0.063733509845   0.000000000000   \n",
            "april   \t|  0.000000000000   0.039284057781   0.000000000000   0.000000000000   0.000000000000   \n",
            "argument\t|  0.000000000000   0.039284057781   0.000000000000   0.000000000000   0.000000000000   \n",
            "arrang  \t|  0.000000000000   0.000000000000   0.000000000000   0.047582798815   0.000000000000   \n",
            "arriv   \t|  0.000000000000   0.039284057781   0.000000000000   0.000000000000   0.000000000000   \n",
            "ask     \t|  0.000000000000   0.000000000000   0.000000000000   0.047582798815   0.000000000000   \n",
            "asset   \t|  0.000000000000   0.000000000000   0.000000000000   0.000000000000   0.046800821384   \n",
            "assist  \t|  0.000000000000   0.039284057781   0.000000000000   0.000000000000   0.000000000000   \n",
            "attack  \t|  0.000000000000   0.000000000000   0.000000000000   0.000000000000   0.046800821384   \n",
            "august  \t|  0.000000000000   0.000000000000   0.000000000000   0.000000000000   0.046800821384   \n",
            "author  \t|  0.000000000000   0.039284057781   0.000000000000   0.000000000000   0.000000000000   \n",
            "avail   \t|  0.000000000000   0.000000000000   0.000000000000   0.047582798815   0.000000000000   \n",
            "avoid   \t|  0.000000000000   0.000000000000   0.000000000000   0.047582798815   0.000000000000   \n",
            "awar    \t|  0.000000000000   0.039284057781   0.000000000000   0.000000000000   0.000000000000   \n",
            "bag     \t|  0.000000000000   0.039284057781   0.000000000000   0.000000000000   0.000000000000   \n",
            "bank    \t|  0.164847965513   0.000000000000   0.172137611721   0.187651231972   0.184567364861   \n",
            "bankruptci\t|  0.000000000000   0.000000000000   0.000000000000   0.047582798815   0.000000000000   \n",
            "barclay \t|  0.000000000000   0.000000000000   0.000000000000   0.000000000000   0.234004106919   \n",
            "basi    \t|  0.000000000000   0.039284057781   0.000000000000   0.000000000000   0.000000000000   \n",
            "becom   \t|  0.000000000000   0.000000000000   0.000000000000   0.038389502478   0.037758608010   \n",
            "benefit \t|  0.047214206055   0.000000000000   0.049302038059   0.000000000000   0.000000000000   \n",
            "berlusconi\t|  0.000000000000   0.274988404468   0.000000000000   0.000000000000   0.000000000000   \n",
            "bettino \t|  0.000000000000   0.039284057781   0.000000000000   0.000000000000   0.000000000000   \n",
            "bifu    \t|  0.000000000000   0.000000000000   0.000000000000   0.000000000000   0.046800821384   \n",
            "billion \t|  0.329695931025   0.000000000000   0.206565134066   0.134036594266   0.052733532817   \n",
            "bond    \t|  0.000000000000   0.000000000000   0.000000000000   0.047582798815   0.000000000000   \n",
            "bribe   \t|  0.000000000000   0.039284057781   0.000000000000   0.000000000000   0.000000000000   \n",
            "brighter\t|  0.039192056059   0.000000000000   0.040925145224   0.031866754923   0.000000000000   \n",
            "bring   \t|  0.078384112119   0.000000000000   0.081850290448   0.031866754923   0.000000000000   \n",
            "brink   \t|  0.039192056059   0.000000000000   0.040925145224   0.031866754923   0.000000000000   \n",
            "britain \t|  0.000000000000   0.063388260931   0.000000000000   0.000000000000   0.075517216021   \n",
            "british \t|  0.000000000000   0.039284057781   0.000000000000   0.000000000000   0.000000000000   \n",
            "brother \t|  0.000000000000   0.000000000000   0.000000000000   0.000000000000   0.046800821384   \n",
            "brown   \t|  0.000000000000   0.196420288906   0.000000000000   0.000000000000   0.000000000000   \n",
            "buisi   \t|  0.000000000000   0.000000000000   0.000000000000   0.000000000000   0.046800821384   \n",
            "busi    \t|  0.000000000000   0.031694130465   0.000000000000   0.000000000000   0.490861904136   \n",
            "busiest \t|  0.000000000000   0.000000000000   0.000000000000   0.047582798815   0.000000000000   \n",
            "ca      \t|  0.000000000000   0.000000000000   0.000000000000   0.047582798815   0.000000000000   \n",
            "cap     \t|  0.000000000000   0.000000000000   0.000000000000   0.047582798815   0.000000000000   \n",
            "case    \t|  0.000000000000   0.039284057781   0.000000000000   0.000000000000   0.000000000000   \n",
            "cash    \t|  0.000000000000   0.000000000000   0.000000000000   0.095165597630   0.000000000000   \n",
            "categori\t|  0.000000000000   0.000000000000   0.000000000000   0.000000000000   0.093601642767   \n",
            "ceas    \t|  0.000000000000   0.000000000000   0.000000000000   0.000000000000   0.046800821384   \n",
            "channel \t|  0.032969593103   0.044263905824   0.034427522344   0.026807318853   0.000000000000   \n",
            "charg   \t|  0.000000000000   0.039284057781   0.000000000000   0.000000000000   0.000000000000   \n",
            "choos   \t|  0.039192056059   0.000000000000   0.040925145224   0.031866754923   0.000000000000   \n",
            "chri    \t|  0.000000000000   0.039284057781   0.000000000000   0.000000000000   0.000000000000   \n",
            "clean   \t|  0.000000000000   0.000000000000   0.000000000000   0.000000000000   0.046800821384   \n",
            "clear   \t|  0.000000000000   0.000000000000   0.000000000000   0.000000000000   0.046800821384   \n",
            "club    \t|  0.000000000000   0.039284057781   0.000000000000   0.000000000000   0.000000000000   \n",
            "co-chairman\t|  0.078384112119   0.000000000000   0.081850290448   0.063733509845   0.000000000000   \n",
            "co-oper \t|  0.000000000000   0.000000000000   0.000000000000   0.000000000000   0.046800821384   \n",
            "collaps \t|  0.000000000000   0.000000000000   0.000000000000   0.047582798815   0.000000000000   \n",
            "come    \t|  0.000000000000   0.000000000000   0.000000000000   0.076779004957   0.037758608010   \n",
            "commerci\t|  0.039192056059   0.000000000000   0.040925145224   0.031866754923   0.000000000000   \n",
            "compani \t|  0.296726337923   0.088527811647   0.309847701099   0.321687826238   0.000000000000   \n",
            "compet  \t|  0.000000000000   0.000000000000   0.000000000000   0.000000000000   0.046800821384   \n",
            "competit\t|  0.000000000000   0.000000000000   0.000000000000   0.000000000000   0.046800821384   \n",
            "complex \t|  0.000000000000   0.000000000000   0.000000000000   0.047582798815   0.000000000000   \n",
            "compris \t|  0.000000000000   0.000000000000   0.000000000000   0.000000000000   0.046800821384   \n",
            "compromis\t|  0.047214206055   0.000000000000   0.049302038059   0.000000000000   0.000000000000   \n",
            "comput  \t|  0.000000000000   0.000000000000   0.000000000000   0.000000000000   0.046800821384   \n",
            "confalonieri\t|  0.000000000000   0.039284057781   0.000000000000   0.000000000000   0.000000000000   \n",
            "confer  \t|  0.000000000000   0.000000000000   0.000000000000   0.095165597630   0.000000000000   \n",
            "confirm \t|  0.000000000000   0.000000000000   0.000000000000   0.000000000000   0.046800821384   \n",
            "connect \t|  0.000000000000   0.039284057781   0.000000000000   0.000000000000   0.000000000000   \n",
            "consider\t|  0.078384112119   0.000000000000   0.081850290448   0.063733509845   0.000000000000   \n",
            "consolid\t|  0.032969593103   0.000000000000   0.034427522344   0.026807318853   0.079100299226   \n",
            "constitut\t|  0.000000000000   0.000000000000   0.000000000000   0.047582798815   0.000000000000   \n",
            "construct\t|  0.039192056059   0.000000000000   0.040925145224   0.031866754923   0.000000000000   \n",
            "convert \t|  0.039192056059   0.000000000000   0.040925145224   0.031866754923   0.000000000000   \n",
            "convict \t|  0.000000000000   0.039284057781   0.000000000000   0.000000000000   0.000000000000   \n",
            "core    \t|  0.000000000000   0.000000000000   0.000000000000   0.000000000000   0.046800821384   \n",
            "corrupt \t|  0.000000000000   0.039284057781   0.000000000000   0.000000000000   0.000000000000   \n",
            "cost    \t|  0.000000000000   0.000000000000   0.000000000000   0.047582798815   0.000000000000   \n",
            "court   \t|  0.000000000000   0.078568115562   0.000000000000   0.000000000000   0.000000000000   \n",
            "coy     \t|  0.000000000000   0.000000000000   0.000000000000   0.000000000000   0.046800821384   \n",
            "craxi   \t|  0.000000000000   0.039284057781   0.000000000000   0.000000000000   0.000000000000   \n",
            "creditor\t|  0.039192056059   0.000000000000   0.040925145224   0.063733509845   0.000000000000   \n",
            "crimin  \t|  0.000000000000   0.039284057781   0.000000000000   0.000000000000   0.000000000000   \n",
            "crippl  \t|  0.039192056059   0.000000000000   0.040925145224   0.031866754923   0.000000000000   \n",
            "cross-channel\t|  0.039192056059   0.000000000000   0.040925145224   0.031866754923   0.000000000000   \n",
            "current \t|  0.000000000000   0.031694130465   0.000000000000   0.076779004957   0.000000000000   \n",
            "custodi \t|  0.000000000000   0.000000000000   0.000000000000   0.000000000000   0.327605749686   \n",
            "date    \t|  0.047214206055   0.000000000000   0.049302038059   0.000000000000   0.000000000000   \n",
            "david   \t|  0.000000000000   0.039284057781   0.000000000000   0.000000000000   0.000000000000   \n",
            "deal    \t|  0.098908779308   0.000000000000   0.103282567033   0.187651231972   0.026366766409   \n",
            "debt    \t|  0.156768224238   0.000000000000   0.163700580897   0.191200529536   0.000000000000   \n",
            "debt-for-equ\t|  0.039192056059   0.000000000000   0.040925145224   0.031866754923   0.000000000000   \n",
            "decemb  \t|  0.039192056059   0.000000000000   0.040925145224   0.031866754923   0.000000000000   \n",
            "decid   \t|  0.000000000000   0.031694130465   0.000000000000   0.000000000000   0.037758608010   \n",
            "decis   \t|  0.000000000000   0.031694130465   0.000000000000   0.000000000000   0.037758608010   \n",
            "depreci \t|  0.000000000000   0.000000000000   0.000000000000   0.047582798815   0.000000000000   \n",
            "describ \t|  0.000000000000   0.039284057781   0.000000000000   0.000000000000   0.000000000000   \n",
            "despit  \t|  0.000000000000   0.000000000000   0.000000000000   0.047582798815   0.000000000000   \n",
            "develop \t|  0.039192056059   0.000000000000   0.040925145224   0.031866754923   0.000000000000   \n",
            "dickson \t|  0.000000000000   0.039284057781   0.000000000000   0.000000000000   0.000000000000   \n",
            "difficult\t|  0.000000000000   0.000000000000   0.000000000000   0.047582798815   0.000000000000   \n",
            "dilut   \t|  0.039192056059   0.000000000000   0.040925145224   0.031866754923   0.000000000000   \n",
            "director\t|  0.000000000000   0.039284057781   0.000000000000   0.000000000000   0.000000000000   \n",
            "discuss \t|  0.000000000000   0.000000000000   0.000000000000   0.000000000000   0.093601642767   \n",
            "dividend\t|  0.039192056059   0.000000000000   0.040925145224   0.063733509845   0.000000000000   \n",
            "document\t|  0.000000000000   0.117852173343   0.000000000000   0.000000000000   0.000000000000   \n",
            "domin   \t|  0.000000000000   0.000000000000   0.000000000000   0.000000000000   0.093601642767   \n",
            "donat   \t|  0.000000000000   0.039284057781   0.000000000000   0.000000000000   0.000000000000   \n",
            "doomsday\t|  0.000000000000   0.000000000000   0.000000000000   0.047582798815   0.000000000000   \n",
            "dwindl  \t|  0.000000000000   0.000000000000   0.000000000000   0.047582798815   0.000000000000   \n",
            "earli   \t|  0.039192056059   0.000000000000   0.040925145224   0.095600264768   0.000000000000   \n",
            "earlier \t|  0.000000000000   0.039284057781   0.000000000000   0.000000000000   0.000000000000   \n",
            "east    \t|  0.000000000000   0.000000000000   0.000000000000   0.000000000000   0.046800821384   \n",
            "econom  \t|  0.000000000000   0.000000000000   0.000000000000   0.000000000000   0.046800821384   \n",
            "economi \t|  0.000000000000   0.000000000000   0.000000000000   0.000000000000   0.046800821384   \n",
            "end     \t|  0.065939186205   0.022131952912   0.068855044689   0.026807318853   0.000000000000   \n",
            "english \t|  0.000000000000   0.039284057781   0.000000000000   0.000000000000   0.000000000000   \n",
            "entitl  \t|  0.039192056059   0.000000000000   0.040925145224   0.031866754923   0.000000000000   \n",
            "equiti  \t|  0.000000000000   0.000000000000   0.000000000000   0.047582798815   0.000000000000   \n",
            "european\t|  0.039192056059   0.000000000000   0.040925145224   0.031866754923   0.000000000000   \n",
            "eurotunnel\t|  0.431112616654   0.000000000000   0.450176597466   0.318667549226   0.000000000000   \n",
            "exist   \t|  0.039192056059   0.000000000000   0.040925145224   0.031866754923   0.000000000000   \n",
            "expect  \t|  0.000000000000   0.031694130465   0.000000000000   0.000000000000   0.037758608010   \n",
            "expedit \t|  0.000000000000   0.039284057781   0.000000000000   0.000000000000   0.000000000000   \n",
            "explor  \t|  0.000000000000   0.000000000000   0.000000000000   0.000000000000   0.046800821384   \n",
            "extend  \t|  0.047214206055   0.000000000000   0.049302038059   0.000000000000   0.000000000000   \n",
            "face    \t|  0.000000000000   0.000000000000   0.000000000000   0.000000000000   0.046800821384   \n",
            "fals    \t|  0.000000000000   0.078568115562   0.000000000000   0.000000000000   0.000000000000   \n",
            "far     \t|  0.000000000000   0.000000000000   0.000000000000   0.000000000000   0.046800821384   \n",
            "far-reach\t|  0.000000000000   0.039284057781   0.000000000000   0.000000000000   0.000000000000   \n",
            "fedel   \t|  0.000000000000   0.039284057781   0.000000000000   0.000000000000   0.000000000000   \n",
            "fee     \t|  0.000000000000   0.000000000000   0.000000000000   0.000000000000   0.046800821384   \n",
            "ferri   \t|  0.039192056059   0.000000000000   0.040925145224   0.031866754923   0.000000000000   \n",
            "fifti   \t|  0.000000000000   0.000000000000   0.000000000000   0.000000000000   0.046800821384   \n",
            "fight   \t|  0.000000000000   0.039284057781   0.000000000000   0.000000000000   0.000000000000   \n",
            "finalis \t|  0.032969593103   0.000000000000   0.034427522344   0.026807318853   0.026366766409   \n",
            "financ  \t|  0.000000000000   0.000000000000   0.000000000000   0.038389502478   0.037758608010   \n",
            "financi \t|  0.078384112119   0.000000000000   0.081850290448   0.063733509845   0.000000000000   \n",
            "fininvest\t|  0.000000000000   0.078568115562   0.000000000000   0.000000000000   0.000000000000   \n",
            "firm    \t|  0.039192056059   0.000000000000   0.040925145224   0.031866754923   0.000000000000   \n",
            "fish    \t|  0.000000000000   0.039284057781   0.000000000000   0.000000000000   0.000000000000   \n",
            "fix     \t|  0.000000000000   0.000000000000   0.000000000000   0.047582798815   0.000000000000   \n",
            "flow    \t|  0.000000000000   0.000000000000   0.000000000000   0.047582798815   0.000000000000   \n",
            "follow  \t|  0.047214206055   0.000000000000   0.049302038059   0.000000000000   0.000000000000   \n",
            "footbal \t|  0.000000000000   0.039284057781   0.000000000000   0.000000000000   0.000000000000   \n",
            "formula \t|  0.000000000000   0.000000000000   0.000000000000   0.047582798815   0.000000000000   \n",
            "forward \t|  0.000000000000   0.063388260931   0.000000000000   0.038389502478   0.000000000000   \n",
            "franc   \t|  0.032969593103   0.000000000000   0.034427522344   0.053614637706   0.026366766409   \n",
            "fraud   \t|  0.000000000000   0.196420288906   0.000000000000   0.000000000000   0.000000000000   \n",
            "free    \t|  0.039192056059   0.000000000000   0.040925145224   0.031866754923   0.000000000000   \n",
            "french  \t|  0.039192056059   0.000000000000   0.040925145224   0.031866754923   0.000000000000   \n",
            "friday  \t|  0.000000000000   0.117852173343   0.000000000000   0.000000000000   0.000000000000   \n",
            "front-end\t|  0.000000000000   0.000000000000   0.000000000000   0.000000000000   0.046800821384   \n",
            "futur   \t|  0.032969593103   0.000000000000   0.034427522344   0.053614637706   0.052733532817   \n",
            "gage    \t|  0.000000000000   0.039284057781   0.000000000000   0.000000000000   0.000000000000   \n",
            "game    \t|  0.000000000000   0.000000000000   0.000000000000   0.047582798815   0.000000000000   \n",
            "given   \t|  0.000000000000   0.039284057781   0.000000000000   0.000000000000   0.000000000000   \n",
            "global  \t|  0.000000000000   0.000000000000   0.000000000000   0.000000000000   0.187203285535   \n",
            "gone    \t|  0.000000000000   0.039284057781   0.000000000000   0.000000000000   0.000000000000   \n",
            "grant   \t|  0.000000000000   0.000000000000   0.000000000000   0.047582798815   0.000000000000   \n",
            "ground  \t|  0.000000000000   0.117852173343   0.000000000000   0.000000000000   0.000000000000   \n",
            "group   \t|  0.000000000000   0.000000000000   0.000000000000   0.038389502478   0.075517216021   \n",
            "guarante\t|  0.000000000000   0.000000000000   0.000000000000   0.000000000000   0.046800821384   \n",
            "guilt   \t|  0.000000000000   0.039284057781   0.000000000000   0.000000000000   0.000000000000   \n",
            "half    \t|  0.039192056059   0.000000000000   0.040925145224   0.031866754923   0.000000000000   \n",
            "half-year\t|  0.000000000000   0.000000000000   0.000000000000   0.000000000000   0.046800821384   \n",
            "happen  \t|  0.000000000000   0.000000000000   0.000000000000   0.047582798815   0.000000000000   \n",
            "happi   \t|  0.000000000000   0.039284057781   0.000000000000   0.000000000000   0.000000000000   \n",
            "hear    \t|  0.000000000000   0.196420288906   0.000000000000   0.000000000000   0.000000000000   \n",
            "help    \t|  0.000000000000   0.000000000000   0.000000000000   0.047582798815   0.000000000000   \n",
            "high    \t|  0.000000000000   0.039284057781   0.000000000000   0.000000000000   0.000000000000   \n",
            "highli  \t|  0.039192056059   0.000000000000   0.040925145224   0.031866754923   0.000000000000   \n",
            "hold    \t|  0.000000000000   0.031694130465   0.000000000000   0.038389502478   0.000000000000   \n",
            "holder  \t|  0.047214206055   0.000000000000   0.049302038059   0.000000000000   0.000000000000   \n",
            "home    \t|  0.000000000000   0.039284057781   0.000000000000   0.000000000000   0.000000000000   \n",
            "hope    \t|  0.000000000000   0.000000000000   0.000000000000   0.047582798815   0.000000000000   \n",
            "hous    \t|  0.000000000000   0.117852173343   0.000000000000   0.000000000000   0.000000000000   \n",
            "howev   \t|  0.000000000000   0.039284057781   0.000000000000   0.000000000000   0.000000000000   \n",
            "illeg   \t|  0.000000000000   0.039284057781   0.000000000000   0.000000000000   0.000000000000   \n",
            "illicit \t|  0.000000000000   0.039284057781   0.000000000000   0.000000000000   0.000000000000   \n",
            "immedi  \t|  0.000000000000   0.039284057781   0.000000000000   0.000000000000   0.000000000000   \n",
            "imper   \t|  0.000000000000   0.039284057781   0.000000000000   0.000000000000   0.000000000000   \n",
            "includ  \t|  0.000000000000   0.000000000000   0.000000000000   0.000000000000   0.140402464151   \n",
            "incom   \t|  0.000000000000   0.000000000000   0.000000000000   0.000000000000   0.046800821384   \n",
            "individu\t|  0.000000000000   0.039284057781   0.000000000000   0.000000000000   0.000000000000   \n",
            "ingeni  \t|  0.000000000000   0.000000000000   0.000000000000   0.047582798815   0.000000000000   \n",
            "insensit\t|  0.000000000000   0.000000000000   0.000000000000   0.000000000000   0.046800821384   \n",
            "insolv  \t|  0.047214206055   0.000000000000   0.049302038059   0.000000000000   0.000000000000   \n",
            "inspector\t|  0.000000000000   0.039284057781   0.000000000000   0.000000000000   0.000000000000   \n",
            "instruct\t|  0.047214206055   0.000000000000   0.049302038059   0.000000000000   0.000000000000   \n",
            "instrument\t|  0.039192056059   0.000000000000   0.040925145224   0.031866754923   0.000000000000   \n",
            "intent  \t|  0.000000000000   0.000000000000   0.000000000000   0.000000000000   0.046800821384   \n",
            "interim \t|  0.000000000000   0.000000000000   0.000000000000   0.000000000000   0.046800821384   \n",
            "intern  \t|  0.000000000000   0.078568115562   0.000000000000   0.000000000000   0.000000000000   \n",
            "invest  \t|  0.000000000000   0.000000000000   0.000000000000   0.076779004957   0.113275824031   \n",
            "investig\t|  0.000000000000   0.117852173343   0.000000000000   0.000000000000   0.000000000000   \n",
            "involv  \t|  0.000000000000   0.039284057781   0.000000000000   0.000000000000   0.000000000000   \n",
            "issu    \t|  0.039192056059   0.000000000000   0.040925145224   0.095600264768   0.000000000000   \n",
            "itali   \t|  0.000000000000   0.078568115562   0.000000000000   0.000000000000   0.000000000000   \n",
            "italian \t|  0.000000000000   0.274988404468   0.000000000000   0.000000000000   0.000000000000   \n",
            "job     \t|  0.000000000000   0.039284057781   0.000000000000   0.000000000000   0.000000000000   \n",
            "john    \t|  0.000000000000   0.000000000000   0.000000000000   0.000000000000   0.046800821384   \n",
            "judg    \t|  0.000000000000   0.117852173343   0.000000000000   0.000000000000   0.000000000000   \n",
            "judgement\t|  0.000000000000   0.078568115562   0.000000000000   0.000000000000   0.000000000000   \n",
            "june    \t|  0.000000000000   0.000000000000   0.000000000000   0.000000000000   0.046800821384   \n",
            "justic  \t|  0.000000000000   0.078568115562   0.000000000000   0.000000000000   0.000000000000   \n",
            "justifi \t|  0.000000000000   0.039284057781   0.000000000000   0.000000000000   0.000000000000   \n",
            "larg    \t|  0.000000000000   0.031694130465   0.000000000000   0.000000000000   0.113275824031   \n",
            "larger  \t|  0.000000000000   0.039284057781   0.000000000000   0.000000000000   0.000000000000   \n",
            "late    \t|  0.039192056059   0.026308991334   0.040925145224   0.000000000000   0.000000000000   \n",
            "later   \t|  0.000000000000   0.000000000000   0.000000000000   0.000000000000   0.046800821384   \n",
            "law     \t|  0.000000000000   0.039284057781   0.000000000000   0.000000000000   0.000000000000   \n",
            "lawyer  \t|  0.000000000000   0.078568115562   0.000000000000   0.000000000000   0.000000000000   \n",
            "lead    \t|  0.039192056059   0.026308991334   0.040925145224   0.000000000000   0.000000000000   \n",
            "leak    \t|  0.000000000000   0.000000000000   0.000000000000   0.000000000000   0.046800821384   \n",
            "leav    \t|  0.032969593103   0.022131952912   0.034427522344   0.026807318853   0.000000000000   \n",
            "legal   \t|  0.000000000000   0.039284057781   0.000000000000   0.000000000000   0.000000000000   \n",
            "lend    \t|  0.000000000000   0.000000000000   0.000000000000   0.000000000000   0.093601642767   \n",
            "leonard \t|  0.000000000000   0.000000000000   0.000000000000   0.000000000000   0.140402464151   \n",
            "level   \t|  0.027885470677   0.018719064018   0.029118577891   0.022673458586   0.022300842150   \n",
            "lifelin \t|  0.000000000000   0.000000000000   0.000000000000   0.047582798815   0.000000000000   \n",
            "like    \t|  0.000000000000   0.000000000000   0.000000000000   0.047582798815   0.000000000000   \n",
            "link    \t|  0.000000000000   0.039284057781   0.000000000000   0.000000000000   0.000000000000   \n",
            "lloyd   \t|  0.000000000000   0.000000000000   0.000000000000   0.000000000000   0.046800821384   \n",
            "london  \t|  0.065939186205   0.044263905824   0.068855044689   0.026807318853   0.000000000000   \n",
            "long-await\t|  0.039192056059   0.000000000000   0.040925145224   0.031866754923   0.000000000000   \n",
            "long-term\t|  0.000000000000   0.000000000000   0.000000000000   0.000000000000   0.046800821384   \n",
            "look    \t|  0.000000000000   0.026308991334   0.000000000000   0.031866754923   0.031343055523   \n",
            "lord    \t|  0.000000000000   0.157136231124   0.000000000000   0.000000000000   0.000000000000   \n",
            "lost    \t|  0.000000000000   0.039284057781   0.000000000000   0.000000000000   0.000000000000   \n",
            "low     \t|  0.000000000000   0.000000000000   0.000000000000   0.000000000000   0.046800821384   \n",
            "main    \t|  0.000000000000   0.039284057781   0.000000000000   0.000000000000   0.000000000000   \n",
            "major   \t|  0.000000000000   0.000000000000   0.000000000000   0.047582798815   0.000000000000   \n",
            "make    \t|  0.027885470677   0.018719064018   0.029118577891   0.022673458586   0.022300842150   \n",
            "mark    \t|  0.000000000000   0.000000000000   0.000000000000   0.000000000000   0.046800821384   \n",
            "market  \t|  0.032969593103   0.000000000000   0.034427522344   0.026807318853   0.052733532817   \n",
            "massiv  \t|  0.000000000000   0.000000000000   0.000000000000   0.047582798815   0.000000000000   \n",
            "maximum \t|  0.000000000000   0.000000000000   0.000000000000   0.047582798815   0.000000000000   \n",
            "mean    \t|  0.000000000000   0.039284057781   0.000000000000   0.000000000000   0.000000000000   \n",
            "measur  \t|  0.000000000000   0.000000000000   0.000000000000   0.000000000000   0.046800821384   \n",
            "medium  \t|  0.000000000000   0.000000000000   0.049302038059   0.038389502478   0.000000000000   \n",
            "medium-term\t|  0.058520791438   0.000000000000   0.000000000000   0.000000000000   0.000000000000   \n",
            "meet    \t|  0.039192056059   0.000000000000   0.040925145224   0.031866754923   0.000000000000   \n",
            "milan   \t|  0.000000000000   0.117852173343   0.000000000000   0.000000000000   0.000000000000   \n",
            "million \t|  0.000000000000   0.052617982668   0.000000000000   0.095600264768   0.094029166570   \n",
            "minist  \t|  0.000000000000   0.117852173343   0.000000000000   0.000000000000   0.000000000000   \n",
            "monday  \t|  0.098908779308   0.000000000000   0.103282567033   0.053614637706   0.026366766409   \n",
            "month   \t|  0.065939186205   0.022131952912   0.068855044689   0.026807318853   0.000000000000   \n",
            "morgan  \t|  0.000000000000   0.000000000000   0.000000000000   0.000000000000   0.140402464151   \n",
            "morn    \t|  0.000000000000   0.039284057781   0.000000000000   0.000000000000   0.000000000000   \n",
            "morton  \t|  0.039192056059   0.000000000000   0.040925145224   0.127467019691   0.000000000000   \n",
            "mountain\t|  0.000000000000   0.000000000000   0.061108605392   0.000000000000   0.000000000000   \n",
            "mr      \t|  0.000000000000   0.039284057781   0.000000000000   0.000000000000   0.000000000000   \n",
            "multi-facet\t|  0.000000000000   0.039284057781   0.000000000000   0.000000000000   0.000000000000   \n",
            "n't     \t|  0.000000000000   0.000000000000   0.000000000000   0.047582798815   0.000000000000   \n",
            "natur   \t|  0.000000000000   0.000000000000   0.000000000000   0.000000000000   0.046800821384   \n",
            "nearli  \t|  0.039192056059   0.000000000000   0.040925145224   0.063733509845   0.000000000000   \n",
            "necessari\t|  0.000000000000   0.000000000000   0.000000000000   0.000000000000   0.046800821384   \n",
            "need    \t|  0.000000000000   0.000000000000   0.000000000000   0.000000000000   0.046800821384   \n",
            "negoti  \t|  0.078384112119   0.000000000000   0.081850290448   0.031866754923   0.000000000000   \n",
            "new     \t|  0.039192056059   0.000000000000   0.040925145224   0.031866754923   0.000000000000   \n",
            "news    \t|  0.000000000000   0.000000000000   0.000000000000   0.095165597630   0.000000000000   \n",
            "nobodi  \t|  0.000000000000   0.000000000000   0.000000000000   0.095165597630   0.000000000000   \n",
            "note    \t|  0.000000000000   0.031694130465   0.000000000000   0.115168507435   0.000000000000   \n",
            "noth    \t|  0.000000000000   0.039284057781   0.000000000000   0.000000000000   0.000000000000   \n",
            "number  \t|  0.000000000000   0.078568115562   0.000000000000   0.000000000000   0.000000000000   \n",
            "offenc  \t|  0.000000000000   0.039284057781   0.000000000000   0.000000000000   0.000000000000   \n",
            "offer   \t|  0.039192056059   0.000000000000   0.040925145224   0.031866754923   0.000000000000   \n",
            "offic   \t|  0.000000000000   0.157136231124   0.000000000000   0.000000000000   0.000000000000   \n",
            "offshor \t|  0.000000000000   0.039284057781   0.000000000000   0.000000000000   0.000000000000   \n",
            "oper    \t|  0.117576168178   0.000000000000   0.122775435673   0.095600264768   0.000000000000   \n",
            "outstand\t|  0.047214206055   0.000000000000   0.049302038059   0.000000000000   0.000000000000   \n",
            "owe     \t|  0.047214206055   0.000000000000   0.049302038059   0.000000000000   0.000000000000   \n",
            "paper   \t|  0.000000000000   0.157136231124   0.000000000000   0.000000000000   0.000000000000   \n",
            "pari    \t|  0.039192056059   0.000000000000   0.040925145224   0.063733509845   0.000000000000   \n",
            "particip\t|  0.039192056059   0.000000000000   0.040925145224   0.031866754923   0.000000000000   \n",
            "patient \t|  0.039192056059   0.000000000000   0.040925145224   0.031866754923   0.000000000000   \n",
            "patrick \t|  0.039192056059   0.000000000000   0.040925145224   0.031866754923   0.000000000000   \n",
            "pay     \t|  0.032969593103   0.000000000000   0.034427522344   0.080421956560   0.026366766409   \n",
            "payment \t|  0.032969593103   0.022131952912   0.034427522344   0.053614637706   0.000000000000   \n",
            "penc    \t|  0.117576168178   0.000000000000   0.122775435673   0.095600264768   0.000000000000   \n",
            "percent \t|  0.117576168178   0.000000000000   0.122775435673   0.095600264768   0.000000000000   \n",
            "perform \t|  0.032969593103   0.000000000000   0.034427522344   0.053614637706   0.026366766409   \n",
            "place   \t|  0.000000000000   0.031694130465   0.000000000000   0.000000000000   0.037758608010   \n",
            "plan    \t|  0.117576168178   0.000000000000   0.122775435673   0.063733509845   0.000000000000   \n",
            "plc     \t|  0.000000000000   0.000000000000   0.000000000000   0.000000000000   0.046800821384   \n",
            "point   \t|  0.000000000000   0.039284057781   0.000000000000   0.000000000000   0.000000000000   \n",
            "polit   \t|  0.000000000000   0.039284057781   0.000000000000   0.000000000000   0.000000000000   \n",
            "politician\t|  0.000000000000   0.039284057781   0.000000000000   0.000000000000   0.000000000000   \n",
            "ponsol  \t|  0.039192056059   0.000000000000   0.040925145224   0.031866754923   0.000000000000   \n",
            "posit   \t|  0.000000000000   0.000000000000   0.000000000000   0.047582798815   0.000000000000   \n",
            "potenti \t|  0.000000000000   0.000000000000   0.000000000000   0.000000000000   0.046800821384   \n",
            "pound   \t|  0.111541882707   0.037438128037   0.145592889457   0.181387668687   0.111504210750   \n",
            "presid  \t|  0.000000000000   0.039284057781   0.000000000000   0.000000000000   0.000000000000   \n",
            "press   \t|  0.000000000000   0.000000000000   0.000000000000   0.000000000000   0.046800821384   \n",
            "presum  \t|  0.000000000000   0.000000000000   0.000000000000   0.000000000000   0.046800821384   \n",
            "presumpt\t|  0.000000000000   0.039284057781   0.000000000000   0.000000000000   0.000000000000   \n",
            "pretti  \t|  0.000000000000   0.000000000000   0.000000000000   0.047582798815   0.000000000000   \n",
            "primarili\t|  0.000000000000   0.000000000000   0.000000000000   0.000000000000   0.046800821384   \n",
            "prime   \t|  0.000000000000   0.117852173343   0.000000000000   0.000000000000   0.000000000000   \n",
            "probabl \t|  0.039192056059   0.000000000000   0.040925145224   0.031866754923   0.000000000000   \n",
            "proceed \t|  0.000000000000   0.039284057781   0.000000000000   0.000000000000   0.000000000000   \n",
            "profit  \t|  0.032969593103   0.000000000000   0.034427522344   0.026807318853   0.026366766409   \n",
            "prosecut\t|  0.000000000000   0.039284057781   0.000000000000   0.000000000000   0.000000000000   \n",
            "prospect\t|  0.039192056059   0.000000000000   0.040925145224   0.031866754923   0.000000000000   \n",
            "provid  \t|  0.039192056059   0.000000000000   0.040925145224   0.031866754923   0.000000000000   \n",
            "publish \t|  0.000000000000   0.000000000000   0.000000000000   0.000000000000   0.046800821384   \n",
            "purpos  \t|  0.000000000000   0.039284057781   0.000000000000   0.000000000000   0.000000000000   \n",
            "question\t|  0.000000000000   0.039284057781   0.000000000000   0.000000000000   0.000000000000   \n",
            "rais    \t|  0.000000000000   0.039284057781   0.000000000000   0.000000000000   0.000000000000   \n",
            "rake    \t|  0.000000000000   0.000000000000   0.000000000000   0.000000000000   0.046800821384   \n",
            "rang    \t|  0.000000000000   0.000000000000   0.000000000000   0.000000000000   0.046800821384   \n",
            "reap    \t|  0.047214206055   0.000000000000   0.049302038059   0.000000000000   0.000000000000   \n",
            "recognis\t|  0.000000000000   0.039284057781   0.000000000000   0.000000000000   0.000000000000   \n",
            "reduc   \t|  0.117576168178   0.000000000000   0.122775435673   0.063733509845   0.000000000000   \n",
            "reject  \t|  0.000000000000   0.095082391396   0.000000000000   0.038389502478   0.000000000000   \n",
            "rel     \t|  0.000000000000   0.000000000000   0.000000000000   0.000000000000   0.046800821384   \n",
            "remov   \t|  0.000000000000   0.039284057781   0.000000000000   0.000000000000   0.000000000000   \n",
            "report  \t|  0.032969593103   0.000000000000   0.034427522344   0.080421956560   0.026366766409   \n",
            "repres  \t|  0.000000000000   0.039284057781   0.000000000000   0.000000000000   0.000000000000   \n",
            "request \t|  0.000000000000   0.039284057781   0.000000000000   0.000000000000   0.000000000000   \n",
            "requir  \t|  0.000000000000   0.000000000000   0.000000000000   0.000000000000   0.046800821384   \n",
            "respond \t|  0.000000000000   0.000000000000   0.000000000000   0.000000000000   0.046800821384   \n",
            "restructur\t|  0.098908779308   0.000000000000   0.103282567033   0.026807318853   0.052733532817   \n",
            "result  \t|  0.000000000000   0.000000000000   0.000000000000   0.000000000000   0.046800821384   \n",
            "resum   \t|  0.039192056059   0.000000000000   0.040925145224   0.031866754923   0.000000000000   \n",
            "return  \t|  0.039192056059   0.000000000000   0.040925145224   0.031866754923   0.000000000000   \n",
            "revenu  \t|  0.000000000000   0.031694130465   0.000000000000   0.038389502478   0.000000000000   \n",
            "risk    \t|  0.000000000000   0.000000000000   0.000000000000   0.000000000000   0.046800821384   \n",
            "risk-fre\t|  0.000000000000   0.000000000000   0.000000000000   0.000000000000   0.046800821384   \n",
            "roll    \t|  0.000000000000   0.000000000000   0.000000000000   0.047582798815   0.000000000000   \n",
            "rout    \t|  0.000000000000   0.000000000000   0.000000000000   0.047582798815   0.000000000000   \n",
            "royal   \t|  0.000000000000   0.000000000000   0.000000000000   0.000000000000   0.046800821384   \n",
            "rule    \t|  0.000000000000   0.117852173343   0.000000000000   0.000000000000   0.000000000000   \n",
            "run     \t|  0.000000000000   0.000000000000   0.049302038059   0.038389502478   0.000000000000   \n",
            "safekeep\t|  0.000000000000   0.000000000000   0.000000000000   0.000000000000   0.046800821384   \n",
            "said    \t|  0.223083765415   0.168471576164   0.232948623132   0.204061127273   0.156105895050   \n",
            "sale    \t|  0.000000000000   0.000000000000   0.000000000000   0.000000000000   0.046800821384   \n",
            "salomon \t|  0.000000000000   0.000000000000   0.000000000000   0.000000000000   0.046800821384   \n",
            "say     \t|  0.000000000000   0.000000000000   0.000000000000   0.000000000000   0.093601642767   \n",
            "scale   \t|  0.000000000000   0.000000000000   0.000000000000   0.000000000000   0.046800821384   \n",
            "scenario\t|  0.000000000000   0.000000000000   0.000000000000   0.047582798815   0.000000000000   \n",
            "scotland\t|  0.000000000000   0.000000000000   0.000000000000   0.000000000000   0.046800821384   \n",
            "scratch \t|  0.000000000000   0.000000000000   0.000000000000   0.000000000000   0.046800821384   \n",
            "search  \t|  0.000000000000   0.039284057781   0.000000000000   0.000000000000   0.000000000000   \n",
            "secret  \t|  0.047214206055   0.000000000000   0.049302038059   0.000000000000   0.000000000000   \n",
            "secur   \t|  0.000000000000   0.000000000000   0.000000000000   0.038389502478   0.075517216021   \n",
            "seen    \t|  0.000000000000   0.000000000000   0.000000000000   0.047582798815   0.000000000000   \n",
            "seiz    \t|  0.000000000000   0.039284057781   0.000000000000   0.000000000000   0.000000000000   \n",
            "senior  \t|  0.000000000000   0.039284057781   0.000000000000   0.000000000000   0.000000000000   \n",
            "sent    \t|  0.000000000000   0.039284057781   0.000000000000   0.000000000000   0.000000000000   \n",
            "seriou  \t|  0.000000000000   0.039284057781   0.000000000000   0.000000000000   0.000000000000   \n",
            "seven   \t|  0.000000000000   0.031694130465   0.000000000000   0.038389502478   0.000000000000   \n",
            "sfo     \t|  0.000000000000   0.196420288906   0.000000000000   0.000000000000   0.000000000000   \n",
            "share   \t|  0.117576168178   0.000000000000   0.122775435673   0.063733509845   0.000000000000   \n",
            "sharehold\t|  0.235152336357   0.000000000000   0.245550871345   0.223067284458   0.000000000000   \n",
            "signific\t|  0.000000000000   0.000000000000   0.000000000000   0.000000000000   0.046800821384   \n",
            "silvio  \t|  0.000000000000   0.039284057781   0.000000000000   0.000000000000   0.000000000000   \n",
            "simon   \t|  0.000000000000   0.039284057781   0.000000000000   0.000000000000   0.000000000000   \n",
            "simultan\t|  0.039192056059   0.000000000000   0.040925145224   0.031866754923   0.000000000000   \n",
            "small   \t|  0.000000000000   0.000000000000   0.000000000000   0.000000000000   0.046800821384   \n",
            "sold    \t|  0.000000000000   0.000000000000   0.000000000000   0.000000000000   0.046800821384   \n",
            "sourc   \t|  0.000000000000   0.031694130465   0.000000000000   0.000000000000   0.037758608010   \n",
            "specul  \t|  0.000000000000   0.000000000000   0.000000000000   0.000000000000   0.046800821384   \n",
            "speedi  \t|  0.000000000000   0.039284057781   0.000000000000   0.000000000000   0.000000000000   \n",
            "spring  \t|  0.000000000000   0.000000000000   0.000000000000   0.047582798815   0.000000000000   \n",
            "stabil  \t|  0.039192056059   0.000000000000   0.040925145224   0.031866754923   0.000000000000   \n",
            "stabilis\t|  0.000000000000   0.000000000000   0.000000000000   0.095165597630   0.000000000000   \n",
            "staff   \t|  0.000000000000   0.000000000000   0.000000000000   0.000000000000   0.093601642767   \n",
            "stage   \t|  0.000000000000   0.000000000000   0.000000000000   0.000000000000   0.046800821384   \n",
            "stanley \t|  0.000000000000   0.000000000000   0.000000000000   0.000000000000   0.140402464151   \n",
            "state   \t|  0.000000000000   0.000000000000   0.000000000000   0.000000000000   0.046800821384   \n",
            "statement\t|  0.000000000000   0.026308991334   0.040925145224   0.031866754923   0.000000000000   \n",
            "steadi  \t|  0.000000000000   0.000000000000   0.000000000000   0.000000000000   0.046800821384   \n",
            "stem    \t|  0.000000000000   0.039284057781   0.000000000000   0.000000000000   0.000000000000   \n",
            "step    \t|  0.000000000000   0.000000000000   0.000000000000   0.000000000000   0.093601642767   \n",
            "stock   \t|  0.000000000000   0.000000000000   0.000000000000   0.000000000000   0.046800821384   \n",
            "stream  \t|  0.000000000000   0.000000000000   0.000000000000   0.000000000000   0.046800821384   \n",
            "strengthen\t|  0.000000000000   0.039284057781   0.000000000000   0.000000000000   0.000000000000   \n",
            "strong  \t|  0.039192056059   0.000000000000   0.040925145224   0.031866754923   0.000000000000   \n",
            "submit  \t|  0.039192056059   0.000000000000   0.040925145224   0.031866754923   0.000000000000   \n",
            "subscrib\t|  0.039192056059   0.000000000000   0.040925145224   0.031866754923   0.000000000000   \n",
            "substanti\t|  0.047214206055   0.000000000000   0.049302038059   0.000000000000   0.000000000000   \n",
            "succeed \t|  0.000000000000   0.039284057781   0.000000000000   0.000000000000   0.000000000000   \n",
            "success \t|  0.047214206055   0.000000000000   0.049302038059   0.000000000000   0.000000000000   \n",
            "sum     \t|  0.000000000000   0.000000000000   0.000000000000   0.000000000000   0.046800821384   \n",
            "surreptiti\t|  0.000000000000   0.039284057781   0.000000000000   0.000000000000   0.000000000000   \n",
            "suspect \t|  0.000000000000   0.039284057781   0.000000000000   0.000000000000   0.000000000000   \n",
            "suspend \t|  0.039192056059   0.000000000000   0.040925145224   0.031866754923   0.000000000000   \n",
            "sustain \t|  0.000000000000   0.000000000000   0.000000000000   0.047582798815   0.000000000000   \n",
            "swap    \t|  0.039192056059   0.000000000000   0.040925145224   0.063733509845   0.000000000000   \n",
            "syndic  \t|  0.047214206055   0.000000000000   0.049302038059   0.000000000000   0.000000000000   \n",
            "taken   \t|  0.032969593103   0.000000000000   0.034427522344   0.026807318853   0.026366766409   \n",
            "talk    \t|  0.000000000000   0.000000000000   0.000000000000   0.000000000000   0.046800821384   \n",
            "term    \t|  0.000000000000   0.000000000000   0.049302038059   0.038389502478   0.000000000000   \n",
            "thought \t|  0.000000000000   0.039284057781   0.000000000000   0.000000000000   0.000000000000   \n",
            "throw   \t|  0.000000000000   0.000000000000   0.000000000000   0.047582798815   0.000000000000   \n",
            "time    \t|  0.000000000000   0.000000000000   0.000000000000   0.038389502478   0.037758608010   \n",
            "today   \t|  0.000000000000   0.039284057781   0.000000000000   0.000000000000   0.000000000000   \n",
            "told    \t|  0.000000000000   0.000000000000   0.000000000000   0.095165597630   0.000000000000   \n",
            "total   \t|  0.000000000000   0.000000000000   0.000000000000   0.000000000000   0.046800821384   \n",
            "trade   \t|  0.039192056059   0.000000000000   0.040925145224   0.031866754923   0.000000000000   \n",
            "tradit  \t|  0.000000000000   0.000000000000   0.000000000000   0.000000000000   0.046800821384   \n",
            "transfer\t|  0.000000000000   0.117852173343   0.000000000000   0.000000000000   0.000000000000   \n",
            "transit \t|  0.000000000000   0.000000000000   0.000000000000   0.000000000000   0.093601642767   \n",
            "treat   \t|  0.000000000000   0.000000000000   0.000000000000   0.000000000000   0.046800821384   \n",
            "trial   \t|  0.000000000000   0.039284057781   0.000000000000   0.000000000000   0.000000000000   \n",
            "tsb     \t|  0.000000000000   0.000000000000   0.000000000000   0.000000000000   0.046800821384   \n",
            "tuesday \t|  0.039192056059   0.000000000000   0.040925145224   0.031866754923   0.000000000000   \n",
            "tunnel  \t|  0.078384112119   0.000000000000   0.081850290448   0.063733509845   0.000000000000   \n",
            "tv      \t|  0.000000000000   0.039284057781   0.000000000000   0.000000000000   0.000000000000   \n",
            "tycoon  \t|  0.000000000000   0.039284057781   0.000000000000   0.000000000000   0.000000000000   \n",
            "u.s.    \t|  0.000000000000   0.000000000000   0.000000000000   0.000000000000   0.046800821384   \n",
            "uncertain\t|  0.000000000000   0.000000000000   0.000000000000   0.000000000000   0.046800821384   \n",
            "uncertainti\t|  0.039192056059   0.000000000000   0.040925145224   0.031866754923   0.000000000000   \n",
            "underway\t|  0.000000000000   0.039284057781   0.000000000000   0.000000000000   0.000000000000   \n",
            "union   \t|  0.000000000000   0.000000000000   0.000000000000   0.000000000000   0.046800821384   \n",
            "unit    \t|  0.000000000000   0.000000000000   0.000000000000   0.000000000000   0.140402464151   \n",
            "unlik   \t|  0.000000000000   0.031694130465   0.000000000000   0.000000000000   0.037758608010   \n",
            "unpaid  \t|  0.000000000000   0.000000000000   0.000000000000   0.047582798815   0.000000000000   \n",
            "unspecif\t|  0.000000000000   0.039284057781   0.000000000000   0.000000000000   0.000000000000   \n",
            "urg     \t|  0.000000000000   0.000000000000   0.000000000000   0.047582798815   0.000000000000   \n",
            "use     \t|  0.000000000000   0.117852173343   0.000000000000   0.000000000000   0.000000000000   \n",
            "volum   \t|  0.000000000000   0.000000000000   0.000000000000   0.000000000000   0.046800821384   \n",
            "want    \t|  0.000000000000   0.000000000000   0.000000000000   0.095165597630   0.000000000000   \n",
            "warrant \t|  0.039192056059   0.000000000000   0.040925145224   0.031866754923   0.000000000000   \n",
            "wednesday\t|  0.000000000000   0.039284057781   0.000000000000   0.000000000000   0.000000000000   \n",
            "week    \t|  0.117576168178   0.000000000000   0.122775435673   0.031866754923   0.000000000000   \n",
            "welcom  \t|  0.000000000000   0.039284057781   0.000000000000   0.000000000000   0.000000000000   \n",
            "wide    \t|  0.032969593103   0.022131952912   0.034427522344   0.026807318853   0.000000000000   \n",
            "wide-rang\t|  0.000000000000   0.039284057781   0.000000000000   0.000000000000   0.000000000000   \n",
            "wipe    \t|  0.039192056059   0.000000000000   0.040925145224   0.031866754923   0.000000000000   \n",
            "work    \t|  0.032969593103   0.000000000000   0.034427522344   0.026807318853   0.026366766409   \n",
            "worker  \t|  0.000000000000   0.000000000000   0.000000000000   0.000000000000   0.046800821384   \n",
            "worldwid\t|  0.000000000000   0.000000000000   0.000000000000   0.000000000000   0.046800821384   \n",
            "worth   \t|  0.000000000000   0.000000000000   0.000000000000   0.000000000000   0.046800821384   \n",
            "wrangl  \t|  0.047214206055   0.000000000000   0.049302038059   0.000000000000   0.000000000000   \n",
            "wrestl  \t|  0.039192056059   0.000000000000   0.040925145224   0.031866754923   0.000000000000   \n",
            "year    \t|  0.032969593103   0.044263905824   0.034427522344   0.160843913119   0.000000000000   \n",
            "\n",
            "\n",
            "\n",
            "========COSINE SIMILARITY====================================================================\n",
            "\n",
            "                   100593newsML.txt   137871newsML.txt   100618newsML.txt   100554newsML.txt   130040newsML.txt   \n",
            "100593newsML.txt    1.00000000          0.09585856          0.97508619          0.74710164          0.13309524         \n",
            "137871newsML.txt    0.09585856          1.00000000          0.10226431          0.11696533          0.07654495         \n",
            "100618newsML.txt    0.97508619          0.10226431          1.00000000          0.77192476          0.13496567         \n",
            "100554newsML.txt    0.74710164          0.11696533          0.77192476          1.00000000          0.17310706         \n",
            "130040newsML.txt    0.13309524          0.07654495          0.13496567          0.17310706          1.00000000         \n",
            "\n",
            "\n",
            "=============================================================================================\n",
            "\n"
          ]
        }
      ],
      "source": [
        "main()"
      ]
    },
    {
      "cell_type": "code",
      "execution_count": null,
      "metadata": {
        "collapsed": true,
        "id": "H8b4QilOhYhm"
      },
      "outputs": [],
      "source": []
    }
  ],
  "metadata": {
    "kernelspec": {
      "display_name": "Python 3",
      "language": "python",
      "name": "python3"
    },
    "language_info": {
      "codemirror_mode": {
        "name": "ipython",
        "version": 3
      },
      "file_extension": ".py",
      "mimetype": "text/x-python",
      "name": "python",
      "nbconvert_exporter": "python",
      "pygments_lexer": "ipython3",
      "version": "3.6.1"
    },
    "colab": {
      "provenance": []
    }
  },
  "nbformat": 4,
  "nbformat_minor": 0
}