{
 "cells": [
  {
   "cell_type": "code",
   "execution_count": 46,
   "metadata": {},
   "outputs": [],
   "source": [
    "import requests\n",
    "from bs4 import BeautifulSoup\n",
    "import pandas as pd\n",
    "from selenium import webdriver\n",
    "from selenium.webdriver.chrome.service import Service\n",
    "from selenium.webdriver.chrome.options import Options\n",
    "\n",
    "\n",
    "Driver_path = r'C:\\Users\\Nimra\\Downloads\\chromedriver-win64\\chromedriver-win64\\chromedriver.exe'\n",
    "service = Service(Driver_path)\n",
    "driver = webdriver.Chrome(service=service)\n",
    "\n",
    "urlPath = 'https://www.youtube.com/channel/UCgyMIMxCZhZIZz6UzldPPFg/videos?view=0&sort=p&flow=grid'\n",
    "driver.get(urlPath)"
   ]
  },
  {
   "cell_type": "code",
   "execution_count": 56,
   "metadata": {},
   "outputs": [],
   "source": [
    "import time\n",
    "time.sleep(5)  # Adjust the sleep time as needed\n",
    "\n",
    "# Scroll down to load more videos (you may need to adjust the number of scrolls)\n",
    "for _ in range(3):  # You can increase or decrease the number of scrolls\n",
    "    driver.execute_script(\"window.scrollTo(0, document.body.scrollHeight);\")\n",
    "    time.sleep(2)  # Adjust the sleep time as needed"
   ]
  },
  {
   "cell_type": "code",
   "execution_count": 57,
   "metadata": {},
   "outputs": [],
   "source": [
    "from selenium.webdriver.common.by import By\n",
    "videos = driver.find_elements(By.CLASS_NAME, \"style-scope ytd-grid-video-renderer\")\n",
    "\n",
    "#for video in videos:\n",
    "titles = driver.find_elements(By.XPATH,'.//*[@id=\"video-title\"]')\n",
    "views  = driver.find_elements(By.XPATH,'.//*[@id=\"metadata-line\"]/span[1]')\n",
    "length =  driver.find_elements(By.XPATH, './/*[@id=\"text\"]')\n",
    "upload_date = driver.find_elements(By.XPATH,'.//*[@id=\"metadata-line\"]/span[0]')  \n",
    "No_of_subscribers = driver.find_elements(By.XPATH, './/*[@id=\"subscriber-count\"]')\n"
   ]
  },
  {
   "cell_type": "code",
   "execution_count": null,
   "metadata": {},
   "outputs": [],
   "source": [
    "print(\"Title\")\n",
    "for title in titles:\n",
    "    print(title.text)"
   ]
  },
  {
   "cell_type": "code",
   "execution_count": null,
   "metadata": {},
   "outputs": [],
   "source": [
    "print(\"Views\")\n",
    "for view in views:\n",
    "    print(view.text)"
   ]
  },
  {
   "cell_type": "code",
   "execution_count": null,
   "metadata": {},
   "outputs": [],
   "source": [
    "print(\"Upload Date\")\n",
    "for upload in upload_date:\n",
    "    print(upload.text)"
   ]
  },
  {
   "cell_type": "code",
   "execution_count": null,
   "metadata": {},
   "outputs": [],
   "source": [
    "print(\"Length of Videos\")\n",
    "for len in length:\n",
    "    print(len.text)"
   ]
  },
  {
   "cell_type": "code",
   "execution_count": 63,
   "metadata": {},
   "outputs": [
    {
     "name": "stdout",
     "output_type": "stream",
     "text": [
      "No of Subscribers\n",
      "580 subscribers\n"
     ]
    }
   ],
   "source": [
    "print(\"No of Subscribers\")\n",
    "for sub in No_of_subscribers:\n",
    "    print(sub.text)"
   ]
  },
  {
   "cell_type": "code",
   "execution_count": 64,
   "metadata": {},
   "outputs": [],
   "source": [
    "#Creating a csv file\n",
    "import pandas as pd\n",
    "columns = [titles , views , upload_date , No_of_subscribers , length]\n",
    "\n",
    "data = pd.DataFrame(columns)\n",
    "data.to_csv(\"File.csv\", index=False) "
   ]
  }
 ],
 "metadata": {
  "kernelspec": {
   "display_name": "Python 3",
   "language": "python",
   "name": "python3"
  },
  "language_info": {
   "codemirror_mode": {
    "name": "ipython",
    "version": 3
   },
   "file_extension": ".py",
   "mimetype": "text/x-python",
   "name": "python",
   "nbconvert_exporter": "python",
   "pygments_lexer": "ipython3",
   "version": "3.10.7"
  },
  "orig_nbformat": 4
 },
 "nbformat": 4,
 "nbformat_minor": 2
}
