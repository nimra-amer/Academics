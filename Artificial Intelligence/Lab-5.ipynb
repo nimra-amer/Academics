{
  "nbformat": 4,
  "nbformat_minor": 0,
  "metadata": {
    "colab": {
      "provenance": []
    },
    "kernelspec": {
      "name": "python3",
      "display_name": "Python 3"
    },
    "language_info": {
      "name": "python"
    }
  },
  "cells": [
    {
      "cell_type": "code",
      "source": [
        "import numpy as np"
      ],
      "metadata": {
        "id": "IMoBTY9pur1B"
      },
      "execution_count": 1,
      "outputs": []
    },
    {
      "cell_type": "code",
      "execution_count": 13,
      "metadata": {
        "id": "VKmJkk7ur4cz"
      },
      "outputs": [],
      "source": [
        "def initial_state():\n",
        "  board = np.array([[0,0,0],\n",
        "            [0,0,0],\n",
        "            [0,0,0]])\n",
        "\n",
        "  return board\n",
        "\n",
        "board = initial_state()"
      ]
    },
    {
      "cell_type": "code",
      "source": [
        "def player(board):\n",
        "  count1 = 0\n",
        "  count2 = 0\n",
        "  for i in range(0,len(board)):\n",
        "    for j in range(0,len(board)):\n",
        "      if board[i][j] == '0':\n",
        "       char_player1 = count1 + char_player1\n",
        "      elif board[i][j] == 'X':\n",
        "        char_player2 = count2 + char_player2\n",
        "  if char_player1 > char_player2:\n",
        "    turn = char_player2\n",
        "    turn = 'X'\n",
        "  elif char_player1 == char_player2:\n",
        "    turn = char_player1\n",
        "    turn = '0'\n",
        "  elif char_player1 == 0 or char_player2 == 0:\n",
        "    turn = char_player1\n",
        "    turn = '0'\n",
        "  return turn"
      ],
      "metadata": {
        "id": "x5E2b6VFvkZq"
      },
      "execution_count": 14,
      "outputs": []
    },
    {
      "cell_type": "code",
      "source": [
        "def actions(board):\n",
        "  possible_actions = np.array()\n",
        "  for i in range(0,len(board)):\n",
        "    for j in range(0,len(board)):\n",
        "      if board[i][j] == 0:\n",
        "          possible_actions[i] = (i,j)\n",
        "  value = utility(result)\n",
        "  alpha_beta_pruining(board , possible_actions , value)\n",
        "\n"
      ],
      "metadata": {
        "id": "1r6Mbi5ww6yd"
      },
      "execution_count": 15,
      "outputs": []
    },
    {
      "cell_type": "code",
      "source": [
        "def alpha_beta_pruining(board , possible_actions , value):\n",
        "  alpha = float('-inf')\n",
        "  beta = float('inf')\n",
        "  val = utility\n",
        "  turn = player(board)\n",
        "  parents = np.array()\n",
        "  copy_board = board\n",
        "  for actions in possible_actions:\n",
        "    i,j = actions\n",
        "    copy_board[i][j] = turn\n",
        "    for i in range(0,len(copy_board)):\n",
        "      if copy_board[i+1][j] == turn and copy_board[i+2][j] == turn:\n",
        "        alpha = actions\n",
        "      else:\n",
        "        beta = actions\n",
        "      if (j+2) <3 and (j+1) <3 and copy_board[i][j+1] == turn and copy_board[i][j+2] == turn:\n",
        "        alpha = actions\n",
        "      else:\n",
        "        beta = actions\n",
        "      if copy_board[i-1][j-1] == turn and copy_board[i+1][j+1] == turn:\n",
        "        alpha = actions\n",
        "      else:\n",
        "        beta = actions\n",
        "    if alpha >= beta:\n",
        "      return alpha"
      ],
      "metadata": {
        "id": "hU1UgTaF1pPm"
      },
      "execution_count": 32,
      "outputs": []
    },
    {
      "cell_type": "code",
      "source": [
        "def result(board , action):\n",
        "   turn = player(board)\n",
        "   if turn == 'X':\n",
        "    action = alpha_beta_pruining(board)\n",
        "   for i in range(0,len(board)):\n",
        "    for j in range(0,len(board)):\n",
        "      if turn == 'X':\n",
        "        print(\"Turn of Player 2\")\n",
        "        if (i,j) == action:\n",
        "          board[i][j] = 'X'\n",
        "      if turn == '0':\n",
        "         move = input(\"Enter the position : \")\n",
        "         if move == action and board[i][j] == 0:\n",
        "          board[i][j] == '0'\n",
        "          input_move = True\n",
        "         else :\n",
        "          print(\"Ivalid Move\")\n",
        "          input_move = False\n",
        "\n",
        "    winner(board)"
      ],
      "metadata": {
        "id": "KRXqaiw21O3_"
      },
      "execution_count": 33,
      "outputs": []
    },
    {
      "cell_type": "code",
      "source": [
        "def terminal(board):\n",
        "  for i in range(0,3):\n",
        "    for j in range(0,3):\n",
        "      if board[i][j] != 0:\n",
        "        space_left = False\n",
        "      else:\n",
        "        space_left = True\n",
        "  if space_left == False:\n",
        "    print(\"Game Draw/Over\")\n",
        "  else:\n",
        "    player(board)"
      ],
      "metadata": {
        "id": "U_gUsoR-6qpS"
      },
      "execution_count": 20,
      "outputs": []
    },
    {
      "cell_type": "code",
      "source": [
        "def utility(result_of_game):\n",
        "  if result_of_game == 1:\n",
        "    print(\"Player 1 wins\")\n",
        "  elif result_of_game == -1:\n",
        "    print(\"Player 2 wins\")\n",
        "  else:\n",
        "    result_of_game = 0\n",
        "\n",
        "\n"
      ],
      "metadata": {
        "id": "AGi-vKxa8BgF"
      },
      "execution_count": 22,
      "outputs": []
    },
    {
      "cell_type": "code",
      "source": [
        "def winner(board):\n",
        "  for i in range(0,3): #checkinng vetically\n",
        "    count_1 = 0\n",
        "    count_2 = 0\n",
        "    j = 0\n",
        "    if board[i][j] == 'X':\n",
        "      count_1 = count_1 + 1\n",
        "    if board[i][j] == '0':\n",
        "      count_2 = count_2 + 1\n",
        "  if count_1 == 3:\n",
        "    player_winner = 1\n",
        "  elif count_2 == 3:\n",
        "   player_winner = -1\n",
        "  else:\n",
        "    count_1 = 0\n",
        "    count_2 = 0\n",
        "    for j in range(0,3): #checking horizontally\n",
        "     i = 0\n",
        "     if board[i][j] == 'X':\n",
        "       count_1 = count_1 + 1\n",
        "     if board[i][j] == '0':\n",
        "       count_2 = count_2 + 1\n",
        "    if count_1 == 3:\n",
        "     player_winner = 1\n",
        "     utility(player_winner)\n",
        "    elif count_2 == 3:\n",
        "     player_winner = -1\n",
        "     utility(player_winner)\n",
        "    else:   #checking diagonally\n",
        "      count_1 = 0\n",
        "      count_2 = 0\n",
        "      for i,j in range(0,3):\n",
        "       if board[i][j] == 'X':\n",
        "        count_1 = count_1 + 1\n",
        "       if board[i][j] == '0':\n",
        "        count_2 = count_2 + 1\n",
        "      if count_1 == 3:\n",
        "       player_winner = 1\n",
        "       utility(player_winner)\n",
        "      elif count_2 == 3:\n",
        "       player_winner = -1\n",
        "       utility(player_winner)\n",
        "      else:\n",
        "        terminal(board)\n"
      ],
      "metadata": {
        "id": "_It8adbN4YrL"
      },
      "execution_count": 23,
      "outputs": []
    }
  ]
}