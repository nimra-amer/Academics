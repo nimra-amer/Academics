{
 "cells": [
  {
   "cell_type": "markdown",
   "metadata": {
    "id": "U6k7lYnZ3clC"
   },
   "source": [
    "Genetic Algorithm"
   ]
  },
  {
   "cell_type": "code",
   "execution_count": 15,
   "metadata": {
    "id": "tGVaJS0W3ayk"
   },
   "outputs": [],
   "source": [
    "import random\n",
    "import numpy as np"
   ]
  },
  {
   "cell_type": "markdown",
   "metadata": {
    "id": "QxWWUHUx3sM4"
   },
   "source": [
    "Let say we have fucntion that evaluates the expression to 0 if the answer of expression \" 6 * x ** 3 + 9 * y ** 2 + 90 * z \" is 25.\n",
    "So That's mean we need the most suitable values of x, y and z so that we could achive our target value whichis 25 in this case."
   ]
  },
  {
   "cell_type": "code",
   "execution_count": 40,
   "metadata": {
    "id": "VkM3zeEfMaRC"
   },
   "outputs": [],
   "source": [
    "def evaluateExpression(gene):\n",
    "\tresult_weights = []\n",
    "\titems = [1,2,3,4,5,6,7,8,9,10]\n",
    "\tweights = [3,13,10,9,7,1,8,8,2,9]\n",
    "\tvalues = [266,442,671,526,388,245,210,145,126,322]\n",
    "\tresult_values = []\n",
    "\n",
    "\n",
    "\tfor i in range(0,10):\n",
    "\t\tresult_weights.append(np.dot(gene[i] , weights[i]))\n",
    "\t\tresult_values.append(np.dot(gene[i] , values[i]))\n",
    "        \n",
    "    for i in range(0,10):\n",
    "\t    sum1 = sum1 + result_weights\n",
    "        sum2 = sum2 + result_values\n",
    "        \n",
    "    return sum1 , sum2\n"
   ]
  },
  {
   "cell_type": "markdown",
   "metadata": {
    "id": "wFSAohyg4s_Y"
   },
   "source": [
    "Let's write the solution based on Genetic Algorithm technique to find the most suitable values of x, y and z."
   ]
  },
  {
   "cell_type": "markdown",
   "metadata": {
    "id": "Kqovna8D5HOH"
   },
   "source": [
    "*Step1* : Population of Solutions:\n",
    "Population is generated entirely from random numbers let say upto 1000 indivuduals."
   ]
  },
  {
   "cell_type": "code",
   "execution_count": 24,
   "metadata": {
    "colab": {
     "base_uri": "https://localhost:8080/"
    },
    "id": "ujH6YRGj45L1",
    "outputId": "d218864e-e35f-4c3c-db3c-8712e83ed1b4",
    "scrolled": true
   },
   "outputs": [
    {
     "data": {
      "text/plain": [
       "[(1, 0, 0, 1, 1, 0, 1, 1, 1, 1),\n",
       " (0, 1, 0, 0, 0, 0, 1, 1, 0, 1),\n",
       " (1, 0, 0, 1, 1, 0, 1, 1, 0, 0),\n",
       " (1, 1, 0, 0, 0, 0, 1, 1, 0, 1),\n",
       " (1, 0, 1, 1, 1, 0, 1, 0, 0, 1),\n",
       " (0, 1, 0, 1, 0, 0, 0, 0, 0, 1),\n",
       " (0, 0, 0, 1, 0, 1, 0, 0, 0, 1),\n",
       " (0, 1, 1, 0, 1, 1, 0, 0, 0, 0)]"
      ]
     },
     "execution_count": 24,
     "metadata": {},
     "output_type": "execute_result"
    }
   ],
   "source": [
    "# generate solutions\n",
    "solutions = []\n",
    "for counter in range(8):\n",
    "\tsolutions.append((random.randint(0, 1), random.randint(0, 1), random.randint(0, 1) , random.randint(0, 1) , random.randint(0, 1) , random.randint(0, 1) , random.randint(0, 1) , random.randint(0, 1) , random.randint(0, 1) , random.randint(0, 1)))\n",
    "\n",
    "solutions"
   ]
  },
  {
   "cell_type": "markdown",
   "metadata": {
    "id": "WaGcxE1g5XDe"
   },
   "source": [
    "Step2: Fitness fucntion:\n",
    "So the most fittest solution will be the one which evalutes the expression to \"0\". Otherwise the best solution will be closest to zero.\n",
    "So the fittness in this case can be seen if the solution is closest to zero. Hnece we can return highest fitness value to those solution which are closest to zero."
   ]
  },
  {
   "cell_type": "code",
   "execution_count": 27,
   "metadata": {
    "id": "13HwHogg5eYF"
   },
   "outputs": [],
   "source": [
    "def fitness(gene):\n",
    "    w , v = evaluateExpression(gene)\n",
    "    kw = 35\n",
    "\n",
    "    if w <= kw:\n",
    "        return [gene,w, v]\n",
    "    else:\n",
    "\t    fitness = 0\n",
    "\n",
    "    return [gene,w, fitness]"
   ]
  },
  {
   "cell_type": "markdown",
   "metadata": {
    "id": "301_DByz6mIG"
   },
   "source": [
    "Step3: Mating, Crossover or Generating the Genrations:\n",
    "During each generations further sub steps are performed like :\n",
    "Step 3.1: Selection of top ranked solutions\n",
    "Step 3.2: Mutation or slight changes or variation in values of solution.\n",
    "P.S(Here for the sake of anology if solution can be considered as chromosome then vatiable values can be considered as genes)\n"
   ]
  },
  {
   "cell_type": "code",
   "execution_count": 41,
   "metadata": {
    "colab": {
     "base_uri": "https://localhost:8080/",
     "height": 211
    },
    "id": "naXvB6VE7_-7",
    "outputId": "be3abe9c-9a3b-483f-eff5-9985cccba19d"
   },
   "outputs": [],
   "source": [
    "from types import GeneratorType\n",
    "for generation_count in range(10000):\n",
    "\trankedSolutions = []\n",
    "  # fitness step\n",
    "\tfor solution in solutions:\n",
    "\t\trankedSolutions.append((fitness(solution)))\n",
    "\trankedSolutions.sort()\n",
    "\trankedSolutions.reverse()\n",
    "\tprint(f\"=== Generation {generation_count} best solutions ====\")\n",
    "\tprint(rankedSolutions[0])\n",
    "\n",
    "\tif rankedSolutions[0][0] > 999:\n",
    "\t\tbreak\n",
    "\n",
    "\tbestSolution = rankedSolutions[:100]\n",
    "\t# print(bestSolution)\n",
    "\n",
    "  # selection step\n",
    "\tvariables = []\n",
    "# \tfor solution in bestSoluton:\n",
    "\t\tvariables.append(solution[1][0])  # variable x\n",
    "\t\tvariables.append(solution[1][1])  # variable y\n",
    "\t\tvariables.append(solution[1][2])  # variable z\n",
    "\n",
    "\tnewGeneration = []\n",
    "  # mutation step\n",
    "\tfor counter in range(1000):\n",
    "\t\tx = random.choice(variables) * random.uniform(0.99, 1.01)\n",
    "\t\ty = random.choice(variables) * random.uniform(0.99, 1.01)\n",
    "\t\tz = random.choice(variables) * random.uniform(0.99, 1.01)\n",
    "\n",
    "\t\tnewGeneration.append((x, y, z))\n",
    "\n",
    "\tsolutions = newGeneration\n"
   ]
  }
 ],
 "metadata": {
  "colab": {
   "provenance": []
  },
  "kernelspec": {
   "display_name": "Python 3",
   "language": "python",
   "name": "python3"
  },
  "language_info": {
   "codemirror_mode": {
    "name": "ipython",
    "version": 3
   },
   "file_extension": ".py",
   "mimetype": "text/x-python",
   "name": "python",
   "nbconvert_exporter": "python",
   "pygments_lexer": "ipython3",
   "version": "3.8.8"
  }
 },
 "nbformat": 4,
 "nbformat_minor": 1
}
