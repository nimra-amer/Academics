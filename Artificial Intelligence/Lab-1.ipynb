{
  "cells": [
    {
      "cell_type": "markdown",
      "metadata": {
        "id": "Qs-mFsvDhI0x"
      },
      "source": [
        "Question 1.1"
      ]
    },
    {
      "cell_type": "code",
      "execution_count": null,
      "metadata": {
        "colab": {
          "base_uri": "https://localhost:8080/"
        },
        "id": "bc14y4z2gBwE",
        "outputId": "b9e48590-61ed-44a5-a85a-56ff8ff03775"
      },
      "outputs": [
        {
          "name": "stdout",
          "output_type": "stream",
          "text": [
            "Count of Digits :  5\n"
          ]
        }
      ],
      "source": [
        "def count_digits(num):\n",
        "  count = 0\n",
        "  while num%10 > 0:\n",
        "    count = count+1\n",
        "    num = num/10\n",
        "    num = int(num)\n",
        "\n",
        "  return count\n",
        "\n",
        "number_of_digits = count_digits(75869)\n",
        "print(\"Count of Digits : \" , number_of_digits)"
      ]
    },
    {
      "cell_type": "markdown",
      "metadata": {
        "id": "xwC1WN0jlYdn"
      },
      "source": [
        "Question 1.2"
      ]
    },
    {
      "cell_type": "code",
      "execution_count": null,
      "metadata": {
        "colab": {
          "base_uri": "https://localhost:8080/"
        },
        "id": "WMAyYcz7laRf",
        "outputId": "44d1af75-22f0-47ed-fe27-a6f94b4df877"
      },
      "outputs": [
        {
          "name": "stdout",
          "output_type": "stream",
          "text": [
            "Average of Original Array :  5.58\n",
            "Modified Array :  [5.8, 8.4, 17.5, 20.9, 27.9]\n"
          ]
        }
      ],
      "source": [
        "def subtotal(arr):\n",
        "  sum = 0\n",
        "  for i in range(0,len(arr)): #calculating averge\n",
        "    sum = sum + arr[i]\n",
        "\n",
        "  average = sum/len(arr)\n",
        "\n",
        "  total = arr[0]\n",
        "  for i in range(1,len(arr)):\n",
        "    total = total+arr[i]\n",
        "    arr[i] = total\n",
        "\n",
        "  return average , arr\n",
        "\n",
        "\n",
        "arr = [5.8 , 2.6 , 9.1 , 3.4 , 7.0]\n",
        "avg , modified_arr = subtotal(arr)\n",
        "print(\"Average of Original Array : \" , avg)\n",
        "print(\"Modified Array : \" , modified_arr)"
      ]
    },
    {
      "cell_type": "markdown",
      "metadata": {
        "id": "3BmpD-e9nhyh"
      },
      "source": [
        "Question 1.3"
      ]
    },
    {
      "cell_type": "code",
      "execution_count": null,
      "metadata": {
        "colab": {
          "base_uri": "https://localhost:8080/"
        },
        "id": "PfpERf5SnjhK",
        "outputId": "fab78498-e2be-4621-f82b-e850e9efedc0"
      },
      "outputs": [
        {
          "name": "stdout",
          "output_type": "stream",
          "text": [
            "Number of Lettera in Text File : 99\n"
          ]
        }
      ],
      "source": [
        "file = open(\"file.txt\", \"r\")\n",
        "\n",
        "data = file.read().replace(\" \",\"\")\n",
        "number_of_characters = len(data)\n",
        "\n",
        "print('Number of Letters in Text File :', number_of_characters)"
      ]
    },
    {
      "cell_type": "code",
      "execution_count": null,
      "metadata": {
        "colab": {
          "base_uri": "https://localhost:8080/"
        },
        "id": "DXOtwoyMr5v7",
        "outputId": "b72a74db-991f-4164-846a-7cd0ac7656db"
      },
      "outputs": [
        {
          "name": "stdout",
          "output_type": "stream",
          "text": [
            "Number Of Spaces :  24\n"
          ]
        }
      ],
      "source": [
        "with open(\"file.txt\" , \"r\") as file:\n",
        "   for line in file:\n",
        "    if line.isspace() == 1:\n",
        "        count = count + 1\n",
        "\n",
        "print(\"Number Of Spaces : \" , count)"
      ]
    },
    {
      "cell_type": "code",
      "execution_count": null,
      "metadata": {
        "colab": {
          "base_uri": "https://localhost:8080/"
        },
        "id": "yrDOJuaTyE5f",
        "outputId": "81ccc834-d52f-40e2-beac-d43249cdba95"
      },
      "outputs": [
        {
          "name": "stdout",
          "output_type": "stream",
          "text": [
            "Number of Upper Case Letters :  16\n",
            "Number of Lower Case Letters :  68\n",
            "Number of Digits :  10\n"
          ]
        }
      ],
      "source": [
        "count_lower = 0\n",
        "count_upper = 0\n",
        "count_digit = 0\n",
        "\n",
        "for i in range(0,len(data)):\n",
        "  if data[i].isupper():\n",
        "    count_upper = count_upper+1\n",
        "  if data[i].islower():\n",
        "    count_lower = count_lower + 1\n",
        "  if data[i].isdigit():\n",
        "    count_digit = count_digit + 1\n",
        "\n",
        "print(\"Number of Upper Case Letters : \" , count_upper)\n",
        "print(\"Number of Lower Case Letters : \", count_lower )\n",
        "print(\"Number of Digits : \" , count_digit)"
      ]
    },
    {
      "cell_type": "markdown",
      "metadata": {
        "id": "mfb7qasVzL9d"
      },
      "source": [
        "Question 1.4"
      ]
    },
    {
      "cell_type": "code",
      "execution_count": null,
      "metadata": {
        "colab": {
          "base_uri": "https://localhost:8080/"
        },
        "id": "nen0y8emzVXd",
        "outputId": "ba2efd10-f9ad-4726-bcbd-f91affe11caf"
      },
      "outputs": [
        {
          "name": "stdout",
          "output_type": "stream",
          "text": [
            "Duration :  62302458848\n"
          ]
        }
      ],
      "source": [
        "year_sec = 12*30*24*60*60\n",
        "month_sec = 30*24*60*60\n",
        "day_sec = 24*60*60\n",
        "min_sec = 660\n",
        "\n",
        "date_time = \"2024-1-30 11:04:45\"\n",
        "birthdate_time = \"2003-1-17 4:30:37\"\n",
        "\n",
        "#Splitting\n",
        "arr = date_time.split(' ')\n",
        "curr_date = arr[0]\n",
        "curr_time = arr[1]\n",
        "\n",
        "arr = birthdate_time.split(' ')\n",
        "birth_date = arr[0]\n",
        "birth_time = arr[1]\n",
        "\n",
        "#Further spliiting date and time and converting to int\n",
        "\n",
        "arr = curr_date.split('-')\n",
        "curr_year = int(arr[0])\n",
        "curr_month = int(arr[1])\n",
        "curr_date = int(arr[2])\n",
        "\n",
        "arr1 = curr_time.split(':')\n",
        "curr_hours = int(arr1[0])\n",
        "curr_minutes = int(arr1[1])\n",
        "curr_seconds = int(arr1[2])\n",
        "\n",
        "arr = birth_date .split('-')\n",
        "birth_year = int(arr[0])\n",
        "birth_month = int(arr[1])\n",
        "birth_date = int(arr[2])\n",
        "\n",
        "arr1 = birth_time.split(':')\n",
        "birth_hours = int(arr1[0])\n",
        "birth_minutes = int(arr1[1])\n",
        "birth_seconds = int(arr1[2])\n",
        "\n",
        "#Calculations/Conversion\n",
        "\n",
        "if(curr_seconds - birth_seconds) < 0: #seconds\n",
        "  curr_minutes = curr_minutes-1\n",
        "  curr_seconds = curr_seconds + 60\n",
        "cal_seconds = curr_seconds - birth_seconds\n",
        "\n",
        "\n",
        "if(curr_minutes - birth_minutes) < 0: #minutes\n",
        "  curr_hours = curr_hours-1\n",
        "  curr_minutes = curr_minutes + 60\n",
        "\n",
        "cal_minutes = curr_minutes - birth_minutes\n",
        "\n",
        "if(curr_hours - birth_hours) < 0: #hours\n",
        "  curr_date = curr_date-1\n",
        "  curr_hours = curr_hours + 24\n",
        "\n",
        "cal_hours = curr_hours - birth_hours\n",
        "\n",
        "if(curr_date - birth_date) < 0: #date\n",
        "  curr_month = curr_month-1\n",
        "  curr_date = curr_date + 30\n",
        "\n",
        "cal_date = curr_date - birth_date\n",
        "\n",
        "\n",
        "if(curr_month - birth_month) < 0: #month\n",
        "  curr_hours = curr_hours-1\n",
        "  curr_year = curr_year + 12\n",
        "\n",
        "cal_month = curr_month - birth_month\n",
        "cal_year = curr_year = birth_year #years\n",
        "\n",
        "#Converting everything in seconds\n",
        "\n",
        "duration = cal_seconds + (cal_minutes*60) + (cal_hours*60*60) + (cal_date*24*60*60) + (cal_month*30*24*60*60) + (cal_year*12*30*24*60*60)\n",
        "print(\"Duration : \", duration)"
      ]
    },
    {
      "cell_type": "markdown",
      "metadata": {
        "id": "pJ4Qyiyb-JQ_"
      },
      "source": [
        "Question 1.5"
      ]
    },
    {
      "cell_type": "code",
      "execution_count": 18,
      "metadata": {
        "id": "VXHPbDLd-LBe",
        "colab": {
          "base_uri": "https://localhost:8080/"
        },
        "outputId": "cd74b7ca-8b6c-48d4-f6c6-99eb5de18130"
      },
      "outputs": [
        {
          "output_type": "stream",
          "name": "stdout",
          "text": [
            "first path\n",
            "[1, 2, 0, 0, 0]\n",
            "[0, 0, 0, 0, 0]\n",
            "[0, 0, 0, 0, 0]\n",
            "[0, 0, 0, 4, 1]\n",
            "[1, 1, 1, 1, 1]\n",
            "Path Count: 16\n",
            "second path\n",
            "[1, 2, 0, 0, 1]\n",
            "[1, 1, 1, 0, 1]\n",
            "[1, 1, 1, 0, 1]\n",
            "[1, 1, 1, 4, 1]\n",
            "[1, 1, 1, 1, 1]\n",
            "Path Count: 4\n",
            "shortest path\n",
            "[1, 2, 0, 0, 1]\n",
            "[1, 1, 1, 0, 1]\n",
            "[1, 1, 1, 0, 1]\n",
            "[1, 1, 1, 4, 1]\n",
            "[1, 1, 1, 1, 1]\n",
            "Path Count: 4\n"
          ]
        }
      ],
      "source": [
        "#0 reprsent path , 2 represent Ali 4 represent Destination 3 represent block state\n",
        "def short_path_1(matrix):\n",
        "    count = 0\n",
        "    matrix1 = [\n",
        "        [1, 2, 1, 1, 1],\n",
        "        [1, 1, 1, 1, 1],\n",
        "        [1, 1, 1, 1, 1],\n",
        "        [1, 1, 1, 4, 1],\n",
        "        [1, 1, 1, 1, 1]\n",
        "    ]\n",
        "\n",
        "    start = False\n",
        "\n",
        "    for i in range(5):\n",
        "        for j in range(5):\n",
        "            if matrix[i][j] == 2:\n",
        "                start = True\n",
        "            if start:\n",
        "                if matrix[i][j] == 1:\n",
        "                    matrix1[i][j] = 0\n",
        "                    count += 1\n",
        "                if matrix[i][j] == 4:\n",
        "                   return matrix1, count\n",
        "\n",
        "    return matrix1, count\n",
        "def short_path_2(matrix):\n",
        "    count = 0\n",
        "    matrix1 = [[1,2,1,1,1],\n",
        "           [1,1,1,1,1],\n",
        "           [1,1,1,1,1],\n",
        "           [1,1,1,4,1],\n",
        "           [1,1,1,1,1]]\n",
        "    i = 1\n",
        "    while i in range(1, 4):\n",
        "        if matrix[0][i] == 1:\n",
        "            matrix1[0][i] = 0\n",
        "            count += 1\n",
        "        if matrix[0][i] == 4:\n",
        "            break\n",
        "        i += 1\n",
        "    i=i-1\n",
        "    for j in range(1, 4):\n",
        "        if matrix[j][i] == 1:\n",
        "            matrix1[j][i] = 0\n",
        "            count += 1\n",
        "        if matrix[j][i] == 4:\n",
        "            break\n",
        "    return matrix1, count\n",
        "\n",
        "matrix = [[1,2,1,1,1],\n",
        "           [1,1,1,1,1],\n",
        "           [1,1,1,1,1],\n",
        "           [1,1,1,4,1],\n",
        "           [1,1,1,1,1]]\n",
        "matrix_1,count_1=short_path_1(matrix)\n",
        "matrix_2,count_2=short_path_2(matrix)\n",
        "\n",
        "\n",
        "print(\"first path\")\n",
        "for row in matrix_1:\n",
        "      print(row)\n",
        "print(\"Path Count:\", count_1)\n",
        "print(\"second path\")\n",
        "for row in matrix_2:\n",
        "      print(row)\n",
        "print(\"Path Count:\", count_2)\n",
        "\n",
        "print(\"shortest path\")\n",
        "if(count_1<=count_2):\n",
        "  for row in matrix_1:\n",
        "      print(row)\n",
        "  print(\"Path Count:\", count_1)\n",
        "else:\n",
        "  for row in matrix_2:\n",
        "      print(row)\n",
        "  print(\"Path Count:\", count_2)\n"
      ]
    }
  ],
  "metadata": {
    "colab": {
      "provenance": []
    },
    "kernelspec": {
      "display_name": "Python 3",
      "name": "python3"
    },
    "language_info": {
      "name": "python"
    }
  },
  "nbformat": 4,
  "nbformat_minor": 0
}