{
  "nbformat": 4,
  "nbformat_minor": 0,
  "metadata": {
    "colab": {
      "provenance": []
    },
    "kernelspec": {
      "name": "python3",
      "display_name": "Python 3"
    },
    "language_info": {
      "name": "python"
    }
  },
  "cells": [
    {
      "cell_type": "markdown",
      "source": [
        "**PART - 1**"
      ],
      "metadata": {
        "id": "W_Mn9cNnoem7"
      }
    },
    {
      "cell_type": "code",
      "source": [
        "from collections import deque\n",
        "from queue import PriorityQueue"
      ],
      "metadata": {
        "id": "KPk2xGCp11bF"
      },
      "execution_count": 35,
      "outputs": []
    },
    {
      "cell_type": "markdown",
      "source": [
        "Reading File"
      ],
      "metadata": {
        "id": "16SRGnfIoyxu"
      }
    },
    {
      "cell_type": "code",
      "execution_count": 16,
      "metadata": {
        "id": "Pedbat9Inhhu",
        "colab": {
          "base_uri": "https://localhost:8080/"
        },
        "outputId": "5db50ccb-3d50-4750-9801-4b5fdc7dd905"
      },
      "outputs": [
        {
          "output_type": "execute_result",
          "data": {
            "text/plain": [
              "[['10S0100'],\n",
              " ['1100011'],\n",
              " ['0101000'],\n",
              " ['1101101'],\n",
              " ['0101000'],\n",
              " ['0111011'],\n",
              " ['G000000']]"
            ]
          },
          "metadata": {},
          "execution_count": 16
        }
      ],
      "source": [
        "def open_File(filename):\n",
        "    matrix = []\n",
        "    with open(filename, 'r') as f:\n",
        "        for line in f:\n",
        "            row = line.strip().split()\n",
        "            matrix.append(row)\n",
        "    return matrix\n",
        "\n",
        "matrix = open_File(\"file.txt\")\n",
        "matrix"
      ]
    },
    {
      "cell_type": "markdown",
      "source": [
        "BFS"
      ],
      "metadata": {
        "id": "Jhe8WnviotN-"
      }
    },
    {
      "cell_type": "code",
      "source": [
        "from collections import deque\n",
        "\n",
        "def BFS(matrix):\n",
        "    def Valid(x, y):\n",
        "        return 0 <= x < len(matrix) and 0 <= y < len(matrix[0]) and matrix[x][y] != '1' and not visited[x][y]\n",
        "\n",
        "    start = (0, 0)\n",
        "    queue = deque([(start, [start])])\n",
        "    visited = [[False for _ in range(len(matrix[0]))] for _ in range(len(matrix))]\n",
        "\n",
        "    while queue:\n",
        "        (x, y), path = queue.popleft()\n",
        "        if matrix[x][y] == 'G':  # Check if the current cell is the goal\n",
        "            return path\n",
        "\n",
        "        visited[x][y] = True\n",
        "        for direction_x, direction_y in [(1, 0), (0, 1), (-1, 0), (0, -1)]:\n",
        "            next_x, next_y = x + direction_x, y + direction_y\n",
        "            if Valid(next_x, next_y):\n",
        "                new_path = path + [(next_x, next_y)]\n",
        "                queue.append(((next_x, next_y), new_path))\n",
        "                visited[next_x][next_y] = True\n",
        "\n",
        "    return -1"
      ],
      "metadata": {
        "id": "lJglUT1wFlR5"
      },
      "execution_count": 26,
      "outputs": []
    },
    {
      "cell_type": "code",
      "source": [
        "Path = BFS(matrix)\n",
        "if Path == -1:\n",
        "  print(\"No Path Exists\")\n",
        "else:\n",
        "  print(\"BFS Path:\", Path)"
      ],
      "metadata": {
        "colab": {
          "base_uri": "https://localhost:8080/"
        },
        "id": "vU1W-asFbOt8",
        "outputId": "df04c6f0-cf2f-42cb-ef9d-e8a14d5c4d85"
      },
      "execution_count": 27,
      "outputs": [
        {
          "output_type": "stream",
          "name": "stdout",
          "text": [
            "BFS Path: [(0, 0), (0, 1), (0, 2), (1, 2), (1, 3), (1, 4), (2, 4), (2, 5), (3, 5), (4, 5), (4, 4), (5, 4), (6, 4), (6, 3), (6, 2), (6, 1), (6, 0)]\n"
          ]
        }
      ]
    },
    {
      "cell_type": "markdown",
      "source": [
        "DFS"
      ],
      "metadata": {
        "id": "x-9flvNIov5y"
      }
    },
    {
      "cell_type": "code",
      "source": [
        "def DFS(matrix):\n",
        "    def Valid(x, y):\n",
        "        return 0 <= x < len(matrix) and 0 <= y < len(matrix[0]) and matrix[x][y] != '1' and not visited[x][y]\n",
        "\n",
        "    start = (0, 0)\n",
        "    stack = [(start, [start])]\n",
        "    visited = [[False for _ in range(len(matrix[0]))] for _ in range(len(matrix))]\n",
        "\n",
        "    while stack:\n",
        "        (x, y), path = stack.pop()\n",
        "        if matrix[x][y] == 'G':  # Check if the current cell is the goal\n",
        "            return path\n",
        "\n",
        "        visited[x][y] = True\n",
        "        for direction_x, direction_y in [(1, 0), (0, 1), (-1, 0), (0, -1)]:\n",
        "            next_x, next_y = x + direction_x, y + direction_y\n",
        "            if Valid(next_x, next_y):\n",
        "                new_path = path + [(next_x, next_y)]\n",
        "                stack.append(((next_x, next_y), new_path))\n",
        "                visited[next_x][next_y] = True\n",
        "\n",
        "    return -1"
      ],
      "metadata": {
        "id": "RfnkgDePovVt"
      },
      "execution_count": 29,
      "outputs": []
    },
    {
      "cell_type": "code",
      "source": [
        "Path = DFS(matrix)\n",
        "if Path == -1:\n",
        "  print(\"No Path Exists\")\n",
        "else:\n",
        "  print(\"DFS Path:\", Path)"
      ],
      "metadata": {
        "colab": {
          "base_uri": "https://localhost:8080/"
        },
        "id": "ClqsmLkDphKS",
        "outputId": "fcf20abe-6bc8-4155-8406-d7e9c3cdf02c"
      },
      "execution_count": 31,
      "outputs": [
        {
          "output_type": "stream",
          "name": "stdout",
          "text": [
            "DFS Path: [(0, 0), (0, 1), (0, 2), (0, 3), (1, 3), (1, 4), (2, 4), (2, 5), (3, 5), (4, 5), (4, 4), (5, 4), (6, 4), (6, 3), (6, 2), (6, 1), (6, 0)]\n"
          ]
        }
      ]
    },
    {
      "cell_type": "markdown",
      "source": [
        "**PART - 2**"
      ],
      "metadata": {
        "id": "gMnrMRWjqmPX"
      }
    },
    {
      "cell_type": "code",
      "source": [
        "def Uniform_Cost(graph, start, target):\n",
        "    visited = set()\n",
        "    queue = PriorityQueue()\n",
        "    queue.put((0, start))\n",
        "    parent = {}\n",
        "    node_cost = {start: 0}\n",
        "\n",
        "    while not queue.empty():\n",
        "        current_cost, node = queue.get()\n",
        "        if node not in visited:\n",
        "            visited.add(node)\n",
        "\n",
        "            if node == target:\n",
        "                break\n",
        "\n",
        "            for neighbor, weight in graph.get(node, []):\n",
        "                new_cost = node_cost[node] + weight\n",
        "                if neighbor not in node_cost or new_cost < node_cost[neighbor]:\n",
        "                    node_cost[neighbor] = new_cost\n",
        "                    priority = new_cost\n",
        "                    queue.put((priority, neighbor))\n",
        "                    parent[neighbor] = node\n",
        "\n",
        "    if target not in parent:\n",
        "        return None, float('inf')\n",
        "\n",
        "    path = []\n",
        "    curr_node = target\n",
        "    while curr_node != start:\n",
        "        path.append(curr_node)\n",
        "        curr_node = parent[curr_node]\n",
        "    path.append(start)\n",
        "    path.reverse()\n",
        "\n",
        "    return path, node_cost[target]"
      ],
      "metadata": {
        "id": "Z5Zr8ZInqpbb"
      },
      "execution_count": 47,
      "outputs": []
    },
    {
      "cell_type": "code",
      "source": [
        "graph = {\n",
        "    'S': [('A', 5), ('B', 2)],\n",
        "    'A': [('B', 15), ('G', 8)],\n",
        "    'B': [('S', 1)],\n",
        "    'G':[]\n",
        "}\n",
        "\n",
        "start_node = 'S'\n",
        "target_node = 'G'\n",
        "path, cost = Uniform_Cost(graph, start_node, target_node)\n",
        "\n",
        "if path:\n",
        "    print(\"Shortest Path:\", path)\n",
        "    print(\"Total cost:\", cost)\n",
        "else:\n",
        "    print(\"No path found.\")"
      ],
      "metadata": {
        "colab": {
          "base_uri": "https://localhost:8080/"
        },
        "id": "JxWEgZsMup-M",
        "outputId": "de0bf450-3696-437c-ff33-a63d104ebf75"
      },
      "execution_count": 50,
      "outputs": [
        {
          "output_type": "stream",
          "name": "stdout",
          "text": [
            "Shortest Path: ['S', 'A', 'G']\n",
            "Total cost: 13\n"
          ]
        }
      ]
    },
    {
      "cell_type": "markdown",
      "source": [
        "**PART - 3**"
      ],
      "metadata": {
        "id": "92R7ODngt-ag"
      }
    },
    {
      "cell_type": "code",
      "source": [
        "matrix = open_File(\"file1.txt\")\n",
        "matrix"
      ],
      "metadata": {
        "colab": {
          "base_uri": "https://localhost:8080/"
        },
        "id": "umqJpywZurlL",
        "outputId": "b9ffb294-6e0c-4b7e-a703-847bf93465e2"
      },
      "execution_count": 51,
      "outputs": [
        {
          "output_type": "execute_result",
          "data": {
            "text/plain": [
              "[['10S0100'],\n",
              " ['1100011'],\n",
              " ['0101+00'],\n",
              " ['11+11+1'],\n",
              " ['010+0+0'],\n",
              " ['0111011'],\n",
              " ['G000000']]"
            ]
          },
          "metadata": {},
          "execution_count": 51
        }
      ]
    },
    {
      "cell_type": "code",
      "source": [
        "def heuristic_func(node, target):\n",
        "    return abs(node[0] - target[0]) + abs(node[1] - target[1])\n",
        "\n",
        "def neighbors(node, matrix):\n",
        "    directions = [(1, 0), (0, 1), (-1, 0), (0, -1)]\n",
        "    neighbors = []\n",
        "    for dx, dy in directions:\n",
        "        x, y = node[0] + dx, node[1] + dy\n",
        "        while 0 <= x < len(matrix) and 0 <= y < len(matrix[0]) and matrix[x][y] != '1':\n",
        "            if matrix[x][y] != '+':\n",
        "                neighbors.append((x, y))\n",
        "            x += dx\n",
        "            y += dy\n",
        "    return neighbors\n",
        "\n",
        "def a_star(matrix, start, target):\n",
        "    open_list = [(0, start)]\n",
        "    parent = {}\n",
        "    cost_so_far = {start: 0}\n",
        "\n",
        "    while open_list:\n",
        "        _, current = min(open_list)\n",
        "        open_list.remove((_, current))\n",
        "\n",
        "        if current == target:\n",
        "            break\n",
        "\n",
        "        for next_node in neighbors(current, matrix):\n",
        "            new_cost = cost_so_far[current] + (matrix[next_node[0]][next_node[1]] == '+')\n",
        "            if next_node not in cost_so_far or new_cost < cost_so_far[next_node]:\n",
        "                cost_so_far[next_node] = new_cost\n",
        "                priority = new_cost + heuristic_func(next_node, target)\n",
        "                open_list.append((priority, next_node))\n",
        "                parent[next_node] = current\n",
        "\n",
        "    path = []\n",
        "    curr_node = target\n",
        "    while curr_node in parent:\n",
        "        path.append(curr_node)\n",
        "        current = parent[curr_node]\n",
        "    path.append(start)\n",
        "    path.reverse()\n",
        "\n",
        "    return path"
      ],
      "metadata": {
        "id": "ly2WWUu2vatq"
      },
      "execution_count": 58,
      "outputs": []
    },
    {
      "cell_type": "code",
      "source": [
        "start = (0, 2)\n",
        "target = (6, 0)\n",
        "\n",
        "path = a_star(matrix, start, target)\n",
        "\n",
        "if path:\n",
        "    print(\"Path found:\", path)\n",
        "else:\n",
        "    print(\"No path found.\")"
      ],
      "metadata": {
        "colab": {
          "base_uri": "https://localhost:8080/"
        },
        "id": "oT8k3Y0y0WgQ",
        "outputId": "ca4c9809-88e1-40ce-ea2e-f709498d724a"
      },
      "execution_count": 60,
      "outputs": [
        {
          "output_type": "stream",
          "name": "stdout",
          "text": [
            "Path found: [(0, 2), (4, 2), (4, 4), (6, 4), (6, 0)]\n"
          ]
        }
      ]
    }
  ]
}