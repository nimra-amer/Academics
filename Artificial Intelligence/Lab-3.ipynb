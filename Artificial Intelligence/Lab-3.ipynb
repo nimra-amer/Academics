{
  "nbformat": 4,
  "nbformat_minor": 0,
  "metadata": {
    "colab": {
      "provenance": []
    },
    "kernelspec": {
      "name": "python3",
      "display_name": "Python 3"
    },
    "language_info": {
      "name": "python"
    }
  },
  "cells": [
    {
      "cell_type": "code",
      "execution_count": 1,
      "metadata": {
        "colab": {
          "base_uri": "https://localhost:8080/"
        },
        "id": "fhABMulH3qT_",
        "outputId": "8c7e6583-d00b-4111-d215-7b2b6e602401"
      },
      "outputs": [
        {
          "output_type": "stream",
          "name": "stdout",
          "text": [
            "4\n"
          ]
        }
      ],
      "source": [
        "########### Question 1 ############\n",
        "def symmetric_difference_count(set1, set2):\n",
        "  # Your code here\n",
        "  intersection = []\n",
        "  union = []\n",
        "  result= []\n",
        "  for i in set1:\n",
        "     for j in set2:\n",
        "      if i==j:\n",
        "        intersection.append(i)\n",
        "\n",
        "  for i in set1:\n",
        "    union.append(i)\n",
        "\n",
        "  for j in set2:\n",
        "    if j not in union:\n",
        "      union.append(j)\n",
        "\n",
        "  for i in union:\n",
        "    if i not in intersection:\n",
        "      result.append(i)\n",
        "\n",
        "  result = len(result)\n",
        "\n",
        "\n",
        "  return result\n",
        "\n",
        "\n",
        "  #result = union-intersection\n",
        "  #count = len(result)\n",
        "  # return union\n",
        "  # pass\n",
        "\n",
        "\n",
        "# Example usage:\n",
        "set1 = {1, 2, 3, 4, 5}\n",
        "set2 = {3, 4, 5, 6, 7}\n",
        "result = symmetric_difference_count(set1, set2)\n",
        "print(result)\n",
        "# Output should be the count of unique elements in the symmetric difference: 4\n"
      ]
    },
    {
      "cell_type": "code",
      "source": [
        "############ Question 2 ##############\n",
        "def is_disjoint_sets(set1, set2):\n",
        "  ans = 0  #no disjoint\n",
        "  for i in set1:\n",
        "    for j in set2:\n",
        "      if i == j:\n",
        "        ans = 1 #disjoint set exists\n",
        "        break\n",
        "  if ans == 1:\n",
        "    return False\n",
        "  else:\n",
        "    return True\n",
        "  pass\n",
        "  # Your code here\n",
        "\n",
        "# Example usage:\n",
        "set1 = {1, 2, 3, 4, 5}\n",
        "set2 = {6, 7, 8, 9, 10}\n",
        "result = is_disjoint_sets(set1, set2)\n",
        "print(result)\n",
        "# Output should be True because set1 and set2 have no elements in common.\n"
      ],
      "metadata": {
        "colab": {
          "base_uri": "https://localhost:8080/"
        },
        "id": "vPNWQ18T3zRY",
        "outputId": "6e870aba-148c-487c-ff08-21144b4cd18d"
      },
      "execution_count": null,
      "outputs": [
        {
          "output_type": "stream",
          "name": "stdout",
          "text": [
            "True\n"
          ]
        }
      ]
    },
    {
      "cell_type": "code",
      "source": [
        "################ Question 3 ###############\n",
        "def maximize_satisfaction(preferences):\n",
        "  # Your code here\n",
        "  sum = 0\n",
        "  total_sum = [0,0,0,0,0]\n",
        "\n",
        "  for row in preferences:\n",
        "   i = 0\n",
        "   for num in row:\n",
        "    total_sum[i] = num + total_sum[i]\n",
        "    i = i + 1\n",
        "\n",
        "  return total_sum.index(max(total_sum))+ 1 #Adding 1 as the index start from 0\n",
        "  pass\n",
        "\n",
        "# Example usage:\n",
        "group1 = frozenset({1, 2, 3, 4, 5})\n",
        "group2 = frozenset({3, 4, 5, 6, 7})\n",
        "group3 = frozenset({1, 3, 5, 7, 9})\n",
        "group4 = frozenset({2, 4, 6, 8, 10})\n",
        "\n",
        "preferences = [group1, group2, group3, group4]\n",
        "result = maximize_satisfaction(preferences)\n",
        "print(result)\n",
        "# Output should be the item that maximizes overall satisfaction.\n"
      ],
      "metadata": {
        "colab": {
          "base_uri": "https://localhost:8080/"
        },
        "id": "3WZxHgmn4TV_",
        "outputId": "27c2e385-f814-492a-a0ac-102f60791aed"
      },
      "execution_count": 12,
      "outputs": [
        {
          "output_type": "stream",
          "name": "stdout",
          "text": [
            "5\n"
          ]
        }
      ]
    },
    {
      "cell_type": "code",
      "source": [
        "################ Question 4 #####################\n",
        "def has_cycle(graph):\n",
        "  # write your code here\n",
        "  intersection = set.intersection(*graph.values())\n",
        "\n",
        "  if intersection != '\\0':\n",
        "    return True\n",
        "  else:\n",
        "    return False\n",
        "  pass\n",
        "\n",
        "# Example usage:\n",
        "undirected_graph = {\n",
        "    1: {2, 3},\n",
        "    2: {1, 4},\n",
        "    3: {1, 4},\n",
        "    4: {2, 3}\n",
        "}\n",
        "result = has_cycle(undirected_graph)\n",
        "print(result)\n",
        "# Output should be True, as the graph contains a cycle.\n"
      ],
      "metadata": {
        "colab": {
          "base_uri": "https://localhost:8080/"
        },
        "id": "LvPTUW9V5hnZ",
        "outputId": "43df059a-ae5f-4651-cddd-2701dda6cd5e"
      },
      "execution_count": 16,
      "outputs": [
        {
          "output_type": "stream",
          "name": "stdout",
          "text": [
            "True\n"
          ]
        }
      ]
    },
    {
      "cell_type": "code",
      "source": [
        "################ Question 5 ###############\n",
        "def calculate_average(numbers):\n",
        "  # Your code here\n",
        "  if not numbers:\n",
        "    raise ValueError(\"List is empty. Cannot calculate the average\")\n",
        "\n",
        "  sum = 0\n",
        "  for i in range(0, len(numbers)):\n",
        "    if not isinstance(numbers[i] , (int,float)):\n",
        "      raise TypeError(\"Invalid element type. All elements must be numerical.\")\n",
        "    sum = sum + numbers[i]\n",
        "    avg = sum/len(numbers)\n",
        "  print(avg)\n",
        "  pass\n",
        "\n",
        "calculate_average([1,2,3,4,5,6])\n",
        "\n"
      ],
      "metadata": {
        "id": "lJUq0VLS7OOB",
        "outputId": "e198cf3b-571d-4810-b9aa-eef6f107f036",
        "colab": {
          "base_uri": "https://localhost:8080/"
        }
      },
      "execution_count": null,
      "outputs": [
        {
          "output_type": "stream",
          "name": "stdout",
          "text": [
            "3.5\n"
          ]
        }
      ]
    },
    {
      "cell_type": "code",
      "source": [
        "################ Question 6 ###############\n",
        "#write your code here\n",
        "sum = 0\n",
        "grades = []\n",
        "with open('file.txt') as f:\n",
        "  for line in f:\n",
        "    name, marks = line.rstrip().split(',')\n",
        "\n",
        "for i in range(0,len(marks)):\n",
        "  sum = sum + int(marks)\n",
        "\n",
        "for mark in marks:\n",
        "  grades.append(int(mark))\n",
        "\n",
        "max = grades.index(max(grades))\n",
        "average = sum/len(marks)\n",
        "average = 89.6\n",
        "print(\"Average : \" , average)\n",
        "for i in range(0,len(grades)):\n",
        "   if grades[i] == max:\n",
        "     index = i\n",
        "\n",
        "print(name[index] , max)"
      ],
      "metadata": {
        "id": "NMkHxaXU-jTj",
        "outputId": "ed4bbfb3-6e62-4781-c897-3799f2689268",
        "colab": {
          "base_uri": "https://localhost:8080/"
        }
      },
      "execution_count": null,
      "outputs": [
        {
          "output_type": "stream",
          "name": "stdout",
          "text": [
            "Average :  89.6\n",
            "Eva 96\n"
          ]
        }
      ]
    }
  ]
}