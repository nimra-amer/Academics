{
  "cells": [
    {
      "cell_type": "code",
      "execution_count": 53,
      "metadata": {
        "id": "mZ2V-vy4KX1c",
        "outputId": "7c1850e1-1c2a-4d1f-baa1-17737e34b127",
        "colab": {
          "base_uri": "https://localhost:8080/"
        }
      },
      "outputs": [
        {
          "output_type": "stream",
          "name": "stdout",
          "text": [
            "[5, 15, 25, 50]\n"
          ]
        }
      ],
      "source": [
        "# Task 1\n",
        "def removeValue(sampleList, val):\n",
        "  # LAB (begin solution)\n",
        "  sampleList = [value for value in sampleList if val != value]\n",
        "  return sampleList\n",
        "  pass\n",
        "  # LAB (end solution)\n",
        "List = [5,20,15,20,25,50,20]\n",
        "val = 20\n",
        "print(removeValue(List , val))"
      ]
    },
    {
      "cell_type": "code",
      "execution_count": 12,
      "metadata": {
        "id": "6XLBuJ7qKVc_",
        "colab": {
          "base_uri": "https://localhost:8080/"
        },
        "outputId": "145890ed-2fc9-46d2-e78c-5417e4f6077f"
      },
      "outputs": [
        {
          "output_type": "stream",
          "name": "stdout",
          "text": [
            "[5, 10, 15, 200, 25, 50, 20]\n"
          ]
        }
      ],
      "source": [
        "# Task 2\n",
        "def findAndReplaceValue(sampleList, val):\n",
        "  # LAB (begin solution)\n",
        "  first_occurence = 0\n",
        "  for i in range(0 , len(sampleList)):\n",
        "    if val == sampleList[i]:\n",
        "        if first_occurence == 0 :\n",
        "         first_occurence = 1\n",
        "         sampleList[i] = 200\n",
        "  return sampleList\n",
        "  #pass\n",
        "  # LAB (end solution)\n",
        "List = [5,10,15,20,25,50,20]\n",
        "val = 20\n",
        "print(findAndReplaceValue(List , val))"
      ]
    },
    {
      "cell_type": "code",
      "execution_count": 14,
      "metadata": {
        "id": "rHM9y9yjKU8j",
        "colab": {
          "base_uri": "https://localhost:8080/"
        },
        "outputId": "c54a4b6c-1aad-46bc-b88e-a9cecd1dec9a"
      },
      "outputs": [
        {
          "output_type": "stream",
          "name": "stdout",
          "text": [
            "['SEDAN', 'SUV', 'PICKUP', 'MINIVAN', 'VAN', 'BICYCLE', 'MOTORCYCLE']\n"
          ]
        }
      ],
      "source": [
        "# Task 3\n",
        "def vehicleWeight(vehicleDict):\n",
        "  # LAB (begin solution)\n",
        "  name_list = []\n",
        "  name_list = [name.upper() for name , weight in vehicleDict.items() if weight < 5000]\n",
        "  return name_list\n",
        "  pass\n",
        "  # LAB (end solution)\n",
        "dict={\"Sedan\": 1500, \"SUV\": 2000, \"Pickup\": 2500, \"Minivan\": 1600, \"Van\": 2400, \"Semi\": 13600, \"Bicycle\": 7, \"Motorcycle\": 110}\n",
        "print(vehicleWeight(dict))"
      ]
    },
    {
      "cell_type": "code",
      "execution_count": 55,
      "metadata": {
        "id": "VVexaC52JXNg",
        "colab": {
          "base_uri": "https://localhost:8080/"
        },
        "outputId": "a39e59f6-fe9c-41f1-8267-9d4ab9f70656"
      },
      "outputs": [
        {
          "output_type": "stream",
          "name": "stdout",
          "text": [
            "[('c', 11), ('a', 23), ('d', 29), ('b', 37)]\n"
          ]
        }
      ],
      "source": [
        "# Task 4\n",
        "def sortTuple(tupleSort):\n",
        "  # LAB (begin solution)\n",
        "  tupleSort = (sorted(tuple1, key=lambda x: x[1]))\n",
        "  return tupleSort\n",
        "  pass\n",
        "  # LAB (end solution)\n",
        "tuple1 = (('a',23) , ('b' , 37) , ('c' , 11) , ('d' , 29))\n",
        "print(sortTuple(tuple1))"
      ]
    },
    {
      "cell_type": "code",
      "execution_count": 18,
      "metadata": {
        "id": "wSeuLqs4JOZk",
        "colab": {
          "base_uri": "https://localhost:8080/"
        },
        "outputId": "33b766e3-a501-4a9d-fba8-9edd83295097"
      },
      "outputs": [
        {
          "output_type": "stream",
          "name": "stdout",
          "text": [
            "True\n"
          ]
        }
      ],
      "source": [
        "# Task 5\n",
        "def checkSameTuple(checkTuple):\n",
        "  # LAB (begin solution)\n",
        "  ans = 1\n",
        "  for i in range(0 , len(checkTuple)-1):\n",
        "    if checkTuple[i] != checkTuple[i+1]:\n",
        "      ans = 0\n",
        "      break\n",
        "  if ans == 1:\n",
        "    return True\n",
        "  else:\n",
        "    return False\n",
        "  pass\n",
        "  # LAB (end solution)\n",
        "tuple1 = (45, 45, 45, 45)\n",
        "print(checkSameTuple(tuple1))"
      ]
    },
    {
      "cell_type": "code",
      "execution_count": 32,
      "metadata": {
        "id": "WIbv72qtxdLZ",
        "colab": {
          "base_uri": "https://localhost:8080/"
        },
        "outputId": "8c4de935-12fe-4057-fda5-5c423461ad9c"
      },
      "outputs": [
        {
          "output_type": "stream",
          "name": "stdout",
          "text": [
            "('Purchase Date', 'Purchase Price', 'Shares', 'Symbol', 'Current Price')\n",
            "('25 Jan 2001', 43.5, 25, 'CAT', 92.45)\n",
            "('25 Jan 2001', 42.8, 50, 'DD', 51.19)\n",
            "('25 Jan 2001', 42.1, 75, 'EK', 34.87)\n",
            "('25 Jan 2001', 37.58, 100, 'GM', 37.58)\n",
            "\n",
            "Total Purchase Price  10143.0\n",
            "Profit =  1101.0  , Loss = 0\n"
          ]
        }
      ],
      "source": [
        "# Task 6\n",
        "def stockTuple():\n",
        "  # LAB (begin solution)\n",
        "  stocks_tuple = [(\"Purchase Date\" , \"Purchase Price\" , \"Shares\" , \"Symbol\" , \"Current Price\"),\n",
        "                  (\"25 Jan 2001\" , 43.50 , 25 , \"CAT\" , 92.45),\n",
        "                  (\"25 Jan 2001\" , 42.80 , 50 , \"DD\" ,  51.19),\n",
        "                  (\"25 Jan 2001\" , 42.10 , 75 , \"EK\" , 34.87),\n",
        "                  (\"25 Jan 2001\" , 37.58 , 100 , \"GM\" , 37.58)]\n",
        "  return stocks_tuple\n",
        "  pass\n",
        "  # LAB (end solution)\n",
        "\n",
        "def totalPurchasePrice(stocks):\n",
        "  # LAB (begin solution)\n",
        "  total = 0\n",
        "  for data in stocks[1:]:\n",
        "    purchase_price = data[1] * data[2]\n",
        "    total = total + purchase_price\n",
        "  return total\n",
        "  pass\n",
        "  # LAB (end solution)\n",
        "\n",
        "def totalProfitLoss(stocks):\n",
        "  # LAB (begin solution)\n",
        "  total_purchase = 0\n",
        "  total_current = 0\n",
        "  for data in stocks[1:]:\n",
        "    purchase_price = data[1] * data[2]\n",
        "    current_price = data[2] * data[4]\n",
        "    total_purchase = total_purchase + purchase_price\n",
        "    total_current = total_current + current_price\n",
        "  profit_loss = total_current - total_purchase\n",
        "  return profit_loss\n",
        "  pass\n",
        "  # LAB (end solution)\n",
        "\n",
        "stock = stockTuple()\n",
        "for i in range(0,len(stock)):\n",
        "  print(stock[i])\n",
        "\n",
        "print(\"\\nTotal Purchase Price \" , totalPurchasePrice(stock))\n",
        "\n",
        "if totalProfitLoss(stock) > 0:\n",
        "  print(\"Profit = \" , totalProfitLoss(stock) ,\" , Loss = 0\")\n",
        "else:\n",
        "  print(\"Profit =  0\" , \" , Loss = \" , totalProfitLoss(stock))\n",
        "\n"
      ]
    },
    {
      "cell_type": "code",
      "execution_count": 49,
      "metadata": {
        "id": "zYElLc7S4CjJ",
        "colab": {
          "base_uri": "https://localhost:8080/"
        },
        "outputId": "17953beb-ac51-4b65-929b-dca9965756f1"
      },
      "outputs": [
        {
          "output_type": "stream",
          "name": "stdout",
          "text": [
            "{'age': 25, 'city': 'New york'}\n"
          ]
        }
      ],
      "source": [
        "# Task 7\n",
        "def deleteDict(sampleDict, keysToRemove):\n",
        "  # LAB (begin solution)\n",
        "  return {key: sampleDict[key] for key in sampleDict if key not in keysToRemove}\n",
        "  pass\n",
        "  # LAB (end solution)\n",
        "\n",
        "sampleDict = {\n",
        "  \"name\": \"Kelly\",\n",
        "  \"age\":25,\n",
        "  \"salary\": 8000,\n",
        "  \"city\": \"New york\"\n",
        "  }\n",
        "keysToRemove = [\"name\", \"salary\"]\n",
        "print(deleteDict(sampleDict, keysToRemove))"
      ]
    },
    {
      "cell_type": "code",
      "execution_count": 45,
      "metadata": {
        "id": "-RztIR145i7c",
        "colab": {
          "base_uri": "https://localhost:8080/"
        },
        "outputId": "e1cb9482-473f-407f-9bfd-7d68bdcee7ec"
      },
      "outputs": [
        {
          "output_type": "stream",
          "name": "stdout",
          "text": [
            "{'Kelly': {'designation': 'Application Developer', 'salary': 8000}, 'John': {'designation': 'Application Developer', 'salary': 8000}, 'Emma': {'designation': 'Application Developer', 'salary': 8000}}\n"
          ]
        }
      ],
      "source": [
        "# Task 8\n",
        "def initializeDict(employees, defaults):\n",
        "  # LAB (begin solution)\n",
        "  dictionary = {data: defaults.copy() for data in employees}\n",
        "  # LAB (end solution)\n",
        "  return dictionary\n",
        "  pass\n",
        "\n",
        "employees = {'Kelly' , 'Emma' , 'John'}\n",
        "defaults = {\"designation\" : 'Application Developer' , \"salary\" : 8000}\n",
        "\n",
        "print(initializeDict(employees , defaults))"
      ]
    },
    {
      "cell_type": "code",
      "execution_count": 56,
      "metadata": {
        "id": "4zwDRf_CH3-O"
      },
      "outputs": [],
      "source": [
        "def main():\n",
        "\n",
        "  list1 = [5, 20, 15, 20, 25, 50, 20]\n",
        "\n",
        "  resList = removeValue(list1, 20)\n",
        "  print(resList)\n",
        "\n",
        "  resList = findAndReplaceValue(list1, 20)\n",
        "  print(resList)\n",
        "\n",
        "  vehicleDict = {\"Sedan\": 1500, \"SUV\": 2000, \"Pickup\": 2500, \"Minivan\": 1600, \"Van\": 2400, \"Semi\": 13600, \"Bicycle\": 7, \"Motorcycle\": 110}\n",
        "  lst = vehicleWeight(vehicleDict)\n",
        "  print(lst)\n",
        "\n",
        "  tuple1 = (('a', 23),('b', 37),('c', 11), ('d',29))\n",
        "  tuple1 = sortTuple(tuple1)\n",
        "  print(tuple1)\n",
        "\n",
        "  tuple1 = (45, 45, 45, 45)\n",
        "  checkSame = checkSameTuple(tuple1)\n",
        "  print(checkSame)\n",
        "\n",
        "  print(totalPurchasePrice(stockTuple()))\n",
        "  print(totalProfitLoss(stockTuple()))\n",
        "\n",
        "  sampleDict = {\n",
        "  \"name\": \"Kelly\",\n",
        "  \"age\":25,\n",
        "  \"salary\": 8000,\n",
        "  \"city\": \"New york\"\n",
        "  }\n",
        "  keysToRemove = [\"name\", \"salary\"]\n",
        "  print(deleteDict(sampleDict, keysToRemove))\n",
        "\n",
        "  employees = ['Kelly', 'Emma', 'John']\n",
        "  defaults = {\"designation\": 'Application Developer', \"salary\": 8000}\n",
        "\n",
        "  resDict = initializeDict(employees, defaults)\n",
        "  print(resDict)\n"
      ]
    },
    {
      "cell_type": "code",
      "execution_count": 57,
      "metadata": {
        "id": "IOHxSo9EHvWi",
        "colab": {
          "base_uri": "https://localhost:8080/"
        },
        "outputId": "8220780e-ac2c-4e7b-e978-e6e3c6edb9db"
      },
      "outputs": [
        {
          "output_type": "stream",
          "name": "stdout",
          "text": [
            "[5, 15, 25, 50]\n",
            "[5, 200, 15, 20, 25, 50, 20]\n",
            "['SEDAN', 'SUV', 'PICKUP', 'MINIVAN', 'VAN', 'BICYCLE', 'MOTORCYCLE']\n",
            "[('c', 11), ('a', 23), ('d', 29), ('b', 37)]\n",
            "True\n",
            "10143.0\n",
            "1101.0\n",
            "{'age': 25, 'city': 'New york'}\n",
            "{'Kelly': {'designation': 'Application Developer', 'salary': 8000}, 'Emma': {'designation': 'Application Developer', 'salary': 8000}, 'John': {'designation': 'Application Developer', 'salary': 8000}}\n"
          ]
        }
      ],
      "source": [
        "'''\n",
        "Python files .py are modules. Modules can define variables, functions, and classes.\n",
        "When a Python interpreter reads a Python file, it first sets a few special variables.\n",
        "Then it executes the code from the file.\n",
        "\n",
        "One of those variables is called __name__.\n",
        "\n",
        "When the interpreter runs a module, the __name__ variable will be set as  __main__\n",
        "if the module that is being run is the main program.\n",
        "\n",
        "If the code is importing the module from another module, then the __name__\n",
        "variable will be set to that module’s name.\n",
        "'''\n",
        "# Standard boilerplate to call the main() function.\n",
        "if __name__ == '__main__':\n",
        "  main()"
      ]
    }
  ],
  "metadata": {
    "colab": {
      "provenance": []
    },
    "kernelspec": {
      "name": "python3",
      "display_name": "Python 3"
    },
    "language_info": {
      "name": "python"
    }
  },
  "nbformat": 4,
  "nbformat_minor": 0
}